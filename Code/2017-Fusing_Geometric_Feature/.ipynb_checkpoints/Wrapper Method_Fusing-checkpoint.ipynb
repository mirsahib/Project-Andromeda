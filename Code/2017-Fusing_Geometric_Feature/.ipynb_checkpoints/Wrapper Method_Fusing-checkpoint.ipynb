{
 "cells": [
  {
   "cell_type": "code",
   "execution_count": 1,
   "metadata": {},
   "outputs": [],
   "source": [
    "import numpy as np\n",
    "import pandas as pd\n",
    "import seaborn as sns\n",
    "import matplotlib.pyplot as plt\n",
    "%matplotlib inline\n"
   ]
  },
  {
   "cell_type": "code",
   "execution_count": 2,
   "metadata": {},
   "outputs": [],
   "source": [
    "from sklearn.model_selection import train_test_split\n",
    "from sklearn.ensemble import RandomForestRegressor, RandomForestClassifier\n",
    "from sklearn.metrics import roc_auc_score\n",
    "from mlxtend.feature_selection import SequentialFeatureSelector as SFS\n"
   ]
  },
  {
   "cell_type": "code",
   "execution_count": 3,
   "metadata": {},
   "outputs": [],
   "source": [
    "from sklearn.datasets import load_wine\n",
    "from sklearn.preprocessing import StandardScaler\n"
   ]
  },
  {
   "cell_type": "code",
   "execution_count": 4,
   "metadata": {},
   "outputs": [],
   "source": [
    "data = pd.read_csv(r'C:\\Users\\Mir Sahib\\Desktop\\Project-Andromeda-Major\\Dataset\\Fusing_Geometric_Feature_Extracted)\n"
   ]
  },
  {
   "cell_type": "code",
   "execution_count": 5,
   "metadata": {},
   "outputs": [
    {
     "data": {
      "text/html": [
       "<div>\n",
       "<style scoped>\n",
       "    .dataframe tbody tr th:only-of-type {\n",
       "        vertical-align: middle;\n",
       "    }\n",
       "\n",
       "    .dataframe tbody tr th {\n",
       "        vertical-align: top;\n",
       "    }\n",
       "\n",
       "    .dataframe thead th {\n",
       "        text-align: right;\n",
       "    }\n",
       "</style>\n",
       "<table border=\"1\" class=\"dataframe\">\n",
       "  <thead>\n",
       "    <tr style=\"text-align: right;\">\n",
       "      <th></th>\n",
       "      <th>Joint_7_az</th>\n",
       "      <th>Joint_7_el</th>\n",
       "      <th>Joint_8_az</th>\n",
       "      <th>Joint_8_el</th>\n",
       "      <th>Joint_9_az</th>\n",
       "      <th>Joint_9_el</th>\n",
       "      <th>Joint_10_az</th>\n",
       "      <th>Joint_10_el</th>\n",
       "      <th>Joint_11_az</th>\n",
       "      <th>Joint_11_el</th>\n",
       "      <th>...</th>\n",
       "      <th>Joint_13_el</th>\n",
       "      <th>Joint_14_az</th>\n",
       "      <th>Joint_14_el</th>\n",
       "      <th>Joint_17_az</th>\n",
       "      <th>Joint_17_el</th>\n",
       "      <th>Joint_18_az</th>\n",
       "      <th>Joint_18_el</th>\n",
       "      <th>Joint_19_az</th>\n",
       "      <th>Joint_19_el</th>\n",
       "      <th>label</th>\n",
       "    </tr>\n",
       "  </thead>\n",
       "  <tbody>\n",
       "    <tr>\n",
       "      <td>0</td>\n",
       "      <td>68.714796</td>\n",
       "      <td>-51.028249</td>\n",
       "      <td>-70.756902</td>\n",
       "      <td>48.165478</td>\n",
       "      <td>-61.059423</td>\n",
       "      <td>45.145196</td>\n",
       "      <td>-100.194517</td>\n",
       "      <td>48.698579</td>\n",
       "      <td>-96.225134</td>\n",
       "      <td>49.357339</td>\n",
       "      <td>...</td>\n",
       "      <td>43.268495</td>\n",
       "      <td>-54.282020</td>\n",
       "      <td>43.089623</td>\n",
       "      <td>-60.659044</td>\n",
       "      <td>44.755081</td>\n",
       "      <td>-56.504841</td>\n",
       "      <td>43.254255</td>\n",
       "      <td>-47.154470</td>\n",
       "      <td>39.834708</td>\n",
       "      <td>1</td>\n",
       "    </tr>\n",
       "    <tr>\n",
       "      <td>1</td>\n",
       "      <td>102.907502</td>\n",
       "      <td>-61.487217</td>\n",
       "      <td>-78.285798</td>\n",
       "      <td>49.200884</td>\n",
       "      <td>-61.059423</td>\n",
       "      <td>45.145196</td>\n",
       "      <td>-92.120336</td>\n",
       "      <td>49.715327</td>\n",
       "      <td>-96.225134</td>\n",
       "      <td>49.357339</td>\n",
       "      <td>...</td>\n",
       "      <td>43.855749</td>\n",
       "      <td>-59.870186</td>\n",
       "      <td>44.269389</td>\n",
       "      <td>-60.659044</td>\n",
       "      <td>44.755081</td>\n",
       "      <td>-55.684413</td>\n",
       "      <td>44.467419</td>\n",
       "      <td>-43.699667</td>\n",
       "      <td>38.734475</td>\n",
       "      <td>1</td>\n",
       "    </tr>\n",
       "    <tr>\n",
       "      <td>2</td>\n",
       "      <td>102.907502</td>\n",
       "      <td>-11.187078</td>\n",
       "      <td>-78.285798</td>\n",
       "      <td>49.746081</td>\n",
       "      <td>-61.059423</td>\n",
       "      <td>45.716617</td>\n",
       "      <td>-100.194517</td>\n",
       "      <td>49.856699</td>\n",
       "      <td>-96.225134</td>\n",
       "      <td>49.926596</td>\n",
       "      <td>...</td>\n",
       "      <td>44.431660</td>\n",
       "      <td>-60.646838</td>\n",
       "      <td>42.947026</td>\n",
       "      <td>-60.659044</td>\n",
       "      <td>45.373885</td>\n",
       "      <td>-50.680365</td>\n",
       "      <td>43.763751</td>\n",
       "      <td>-40.631626</td>\n",
       "      <td>38.180966</td>\n",
       "      <td>1</td>\n",
       "    </tr>\n",
       "    <tr>\n",
       "      <td>3</td>\n",
       "      <td>100.751462</td>\n",
       "      <td>-56.956309</td>\n",
       "      <td>-78.285798</td>\n",
       "      <td>49.746081</td>\n",
       "      <td>-61.059423</td>\n",
       "      <td>45.716617</td>\n",
       "      <td>-100.194517</td>\n",
       "      <td>49.284438</td>\n",
       "      <td>-96.225134</td>\n",
       "      <td>49.357339</td>\n",
       "      <td>...</td>\n",
       "      <td>43.855749</td>\n",
       "      <td>-60.646838</td>\n",
       "      <td>41.619291</td>\n",
       "      <td>-60.659044</td>\n",
       "      <td>45.373885</td>\n",
       "      <td>-56.504841</td>\n",
       "      <td>42.639006</td>\n",
       "      <td>-43.699667</td>\n",
       "      <td>37.595209</td>\n",
       "      <td>1</td>\n",
       "    </tr>\n",
       "    <tr>\n",
       "      <td>4</td>\n",
       "      <td>68.714796</td>\n",
       "      <td>-56.273126</td>\n",
       "      <td>-77.922111</td>\n",
       "      <td>50.052890</td>\n",
       "      <td>-67.668815</td>\n",
       "      <td>46.732198</td>\n",
       "      <td>-100.194517</td>\n",
       "      <td>49.284438</td>\n",
       "      <td>-96.225134</td>\n",
       "      <td>49.357339</td>\n",
       "      <td>...</td>\n",
       "      <td>43.855749</td>\n",
       "      <td>-55.132298</td>\n",
       "      <td>40.571649</td>\n",
       "      <td>-60.659044</td>\n",
       "      <td>45.373885</td>\n",
       "      <td>-56.504841</td>\n",
       "      <td>43.254255</td>\n",
       "      <td>-43.699667</td>\n",
       "      <td>38.169293</td>\n",
       "      <td>1</td>\n",
       "    </tr>\n",
       "  </tbody>\n",
       "</table>\n",
       "<p>5 rows × 23 columns</p>\n",
       "</div>"
      ],
      "text/plain": [
       "   Joint_7_az  Joint_7_el  Joint_8_az  Joint_8_el  Joint_9_az  Joint_9_el  \\\n",
       "0   68.714796  -51.028249  -70.756902   48.165478  -61.059423   45.145196   \n",
       "1  102.907502  -61.487217  -78.285798   49.200884  -61.059423   45.145196   \n",
       "2  102.907502  -11.187078  -78.285798   49.746081  -61.059423   45.716617   \n",
       "3  100.751462  -56.956309  -78.285798   49.746081  -61.059423   45.716617   \n",
       "4   68.714796  -56.273126  -77.922111   50.052890  -67.668815   46.732198   \n",
       "\n",
       "   Joint_10_az  Joint_10_el  Joint_11_az  Joint_11_el  ...  Joint_13_el  \\\n",
       "0  -100.194517    48.698579   -96.225134    49.357339  ...    43.268495   \n",
       "1   -92.120336    49.715327   -96.225134    49.357339  ...    43.855749   \n",
       "2  -100.194517    49.856699   -96.225134    49.926596  ...    44.431660   \n",
       "3  -100.194517    49.284438   -96.225134    49.357339  ...    43.855749   \n",
       "4  -100.194517    49.284438   -96.225134    49.357339  ...    43.855749   \n",
       "\n",
       "   Joint_14_az  Joint_14_el  Joint_17_az  Joint_17_el  Joint_18_az  \\\n",
       "0   -54.282020    43.089623   -60.659044    44.755081   -56.504841   \n",
       "1   -59.870186    44.269389   -60.659044    44.755081   -55.684413   \n",
       "2   -60.646838    42.947026   -60.659044    45.373885   -50.680365   \n",
       "3   -60.646838    41.619291   -60.659044    45.373885   -56.504841   \n",
       "4   -55.132298    40.571649   -60.659044    45.373885   -56.504841   \n",
       "\n",
       "   Joint_18_el  Joint_19_az  Joint_19_el  label  \n",
       "0    43.254255   -47.154470    39.834708      1  \n",
       "1    44.467419   -43.699667    38.734475      1  \n",
       "2    43.763751   -40.631626    38.180966      1  \n",
       "3    42.639006   -43.699667    37.595209      1  \n",
       "4    43.254255   -43.699667    38.169293      1  \n",
       "\n",
       "[5 rows x 23 columns]"
      ]
     },
     "execution_count": 5,
     "metadata": {},
     "output_type": "execute_result"
    }
   ],
   "source": [
    "data.head()\n"
   ]
  },
  {
   "cell_type": "code",
   "execution_count": 8,
   "metadata": {},
   "outputs": [
    {
     "data": {
      "text/plain": [
       "((22797, 22), (22797,))"
      ]
     },
     "execution_count": 8,
     "metadata": {},
     "output_type": "execute_result"
    }
   ],
   "source": [
    "X = data.drop('label',axis=1)\n",
    "y = data['label']\n",
    "X.shape,y.shape"
   ]
  },
  {
   "cell_type": "code",
   "execution_count": 9,
   "metadata": {},
   "outputs": [
    {
     "data": {
      "text/plain": [
       "((18237, 22), (4560, 22))"
      ]
     },
     "execution_count": 9,
     "metadata": {},
     "output_type": "execute_result"
    }
   ],
   "source": [
    "X_train, X_test, y_train, y_test = train_test_split(X, y, test_size = 0.2, random_state = 0)\n",
    "X_train.shape, X_test.shape\n"
   ]
  },
  {
   "cell_type": "markdown",
   "metadata": {},
   "source": [
    "## Step forward feature selection"
   ]
  },
  {
   "cell_type": "code",
   "execution_count": null,
   "metadata": {},
   "outputs": [
    {
     "name": "stderr",
     "output_type": "stream",
     "text": [
      "[Parallel(n_jobs=-1)]: Using backend LokyBackend with 4 concurrent workers.\n",
      "[Parallel(n_jobs=-1)]: Done  22 out of  22 | elapsed:  5.2min finished\n",
      "\n",
      "[2020-03-16 19:52:52] Features: 1/7 -- score: 0.46850544775303543[Parallel(n_jobs=-1)]: Using backend LokyBackend with 4 concurrent workers.\n"
     ]
    }
   ],
   "source": [
    "sfs = SFS(RandomForestClassifier(n_estimators=100, random_state=0, n_jobs = -1),\n",
    "         k_features = 7,\n",
    "          forward= True,\n",
    "          floating = False,\n",
    "          verbose= 2,\n",
    "          scoring= 'accuracy',\n",
    "          cv = 4,\n",
    "          n_jobs= -1\n",
    "         ).fit(X_train, y_train)\n"
   ]
  },
  {
   "cell_type": "code",
   "execution_count": 13,
   "metadata": {},
   "outputs": [
    {
     "data": {
      "text/plain": [
       "('RangeY', 'RangeZ', 'MeanX', 'MeanY', 'MeanZ', 'VarX', 'VarZ')"
      ]
     },
     "execution_count": 13,
     "metadata": {},
     "output_type": "execute_result"
    }
   ],
   "source": [
    "sfs.k_feature_names_\n"
   ]
  },
  {
   "cell_type": "code",
   "execution_count": 14,
   "metadata": {},
   "outputs": [
    {
     "data": {
      "text/plain": [
       "(1, 2, 3, 4, 5, 6, 8)"
      ]
     },
     "execution_count": 14,
     "metadata": {},
     "output_type": "execute_result"
    }
   ],
   "source": [
    "sfs.k_feature_idx_\n"
   ]
  },
  {
   "cell_type": "code",
   "execution_count": 15,
   "metadata": {},
   "outputs": [
    {
     "data": {
      "text/plain": [
       "0.5069892150589239"
      ]
     },
     "execution_count": 15,
     "metadata": {},
     "output_type": "execute_result"
    }
   ],
   "source": [
    "sfs.k_score_"
   ]
  },
  {
   "cell_type": "code",
   "execution_count": 16,
   "metadata": {},
   "outputs": [
    {
     "data": {
      "text/html": [
       "<div>\n",
       "<style scoped>\n",
       "    .dataframe tbody tr th:only-of-type {\n",
       "        vertical-align: middle;\n",
       "    }\n",
       "\n",
       "    .dataframe tbody tr th {\n",
       "        vertical-align: top;\n",
       "    }\n",
       "\n",
       "    .dataframe thead th {\n",
       "        text-align: right;\n",
       "    }\n",
       "</style>\n",
       "<table border=\"1\" class=\"dataframe\">\n",
       "  <thead>\n",
       "    <tr style=\"text-align: right;\">\n",
       "      <th></th>\n",
       "      <th>feature_idx</th>\n",
       "      <th>cv_scores</th>\n",
       "      <th>avg_score</th>\n",
       "      <th>feature_names</th>\n",
       "      <th>ci_bound</th>\n",
       "      <th>std_dev</th>\n",
       "      <th>std_err</th>\n",
       "    </tr>\n",
       "  </thead>\n",
       "  <tbody>\n",
       "    <tr>\n",
       "      <td>1</td>\n",
       "      <td>(1,)</td>\n",
       "      <td>[0.11672473867595819, 0.10701754385964912, 0.1...</td>\n",
       "      <td>0.111964</td>\n",
       "      <td>(RangeY,)</td>\n",
       "      <td>0.0147326</td>\n",
       "      <td>0.00919074</td>\n",
       "      <td>0.00530628</td>\n",
       "    </tr>\n",
       "    <tr>\n",
       "      <td>2</td>\n",
       "      <td>(1, 4)</td>\n",
       "      <td>[0.25609756097560976, 0.22456140350877193, 0.2...</td>\n",
       "      <td>0.236698</td>\n",
       "      <td>(RangeY, MeanY)</td>\n",
       "      <td>0.0209029</td>\n",
       "      <td>0.01304</td>\n",
       "      <td>0.00752866</td>\n",
       "    </tr>\n",
       "    <tr>\n",
       "      <td>3</td>\n",
       "      <td>(1, 4, 5)</td>\n",
       "      <td>[0.37282229965156793, 0.3456140350877193, 0.33...</td>\n",
       "      <td>0.345972</td>\n",
       "      <td>(RangeY, MeanY, MeanZ)</td>\n",
       "      <td>0.0266611</td>\n",
       "      <td>0.0166322</td>\n",
       "      <td>0.00960261</td>\n",
       "    </tr>\n",
       "    <tr>\n",
       "      <td>4</td>\n",
       "      <td>(1, 3, 4, 5)</td>\n",
       "      <td>[0.42857142857142855, 0.4263157894736842, 0.41...</td>\n",
       "      <td>0.414314</td>\n",
       "      <td>(RangeY, MeanX, MeanY, MeanZ)</td>\n",
       "      <td>0.0287602</td>\n",
       "      <td>0.0179417</td>\n",
       "      <td>0.0103586</td>\n",
       "    </tr>\n",
       "    <tr>\n",
       "      <td>5</td>\n",
       "      <td>(1, 3, 4, 5, 6)</td>\n",
       "      <td>[0.4616724738675958, 0.47719298245614034, 0.46...</td>\n",
       "      <td>0.462465</td>\n",
       "      <td>(RangeY, MeanX, MeanY, MeanZ, VarX)</td>\n",
       "      <td>0.0155226</td>\n",
       "      <td>0.00968355</td>\n",
       "      <td>0.0055908</td>\n",
       "    </tr>\n",
       "    <tr>\n",
       "      <td>6</td>\n",
       "      <td>(1, 3, 4, 5, 6, 8)</td>\n",
       "      <td>[0.48257839721254353, 0.5280701754385965, 0.50...</td>\n",
       "      <td>0.499534</td>\n",
       "      <td>(RangeY, MeanX, MeanY, MeanZ, VarX, VarZ)</td>\n",
       "      <td>0.0288737</td>\n",
       "      <td>0.0180125</td>\n",
       "      <td>0.0103995</td>\n",
       "    </tr>\n",
       "    <tr>\n",
       "      <td>7</td>\n",
       "      <td>(1, 2, 3, 4, 5, 6, 8)</td>\n",
       "      <td>[0.5, 0.531578947368421, 0.5070921985815603, 0...</td>\n",
       "      <td>0.506989</td>\n",
       "      <td>(RangeY, RangeZ, MeanX, MeanY, MeanZ, VarX, VarZ)</td>\n",
       "      <td>0.0249227</td>\n",
       "      <td>0.0155477</td>\n",
       "      <td>0.00897649</td>\n",
       "    </tr>\n",
       "  </tbody>\n",
       "</table>\n",
       "</div>"
      ],
      "text/plain": [
       "             feature_idx                                          cv_scores  \\\n",
       "1                   (1,)  [0.11672473867595819, 0.10701754385964912, 0.1...   \n",
       "2                 (1, 4)  [0.25609756097560976, 0.22456140350877193, 0.2...   \n",
       "3              (1, 4, 5)  [0.37282229965156793, 0.3456140350877193, 0.33...   \n",
       "4           (1, 3, 4, 5)  [0.42857142857142855, 0.4263157894736842, 0.41...   \n",
       "5        (1, 3, 4, 5, 6)  [0.4616724738675958, 0.47719298245614034, 0.46...   \n",
       "6     (1, 3, 4, 5, 6, 8)  [0.48257839721254353, 0.5280701754385965, 0.50...   \n",
       "7  (1, 2, 3, 4, 5, 6, 8)  [0.5, 0.531578947368421, 0.5070921985815603, 0...   \n",
       "\n",
       "  avg_score                                      feature_names   ci_bound  \\\n",
       "1  0.111964                                          (RangeY,)  0.0147326   \n",
       "2  0.236698                                    (RangeY, MeanY)  0.0209029   \n",
       "3  0.345972                             (RangeY, MeanY, MeanZ)  0.0266611   \n",
       "4  0.414314                      (RangeY, MeanX, MeanY, MeanZ)  0.0287602   \n",
       "5  0.462465                (RangeY, MeanX, MeanY, MeanZ, VarX)  0.0155226   \n",
       "6  0.499534          (RangeY, MeanX, MeanY, MeanZ, VarX, VarZ)  0.0288737   \n",
       "7  0.506989  (RangeY, RangeZ, MeanX, MeanY, MeanZ, VarX, VarZ)  0.0249227   \n",
       "\n",
       "      std_dev     std_err  \n",
       "1  0.00919074  0.00530628  \n",
       "2     0.01304  0.00752866  \n",
       "3   0.0166322  0.00960261  \n",
       "4   0.0179417   0.0103586  \n",
       "5  0.00968355   0.0055908  \n",
       "6   0.0180125   0.0103995  \n",
       "7   0.0155477  0.00897649  "
      ]
     },
     "execution_count": 16,
     "metadata": {},
     "output_type": "execute_result"
    }
   ],
   "source": [
    "pd.DataFrame.from_dict(sfs.get_metric_dict()).T\n"
   ]
  },
  {
   "cell_type": "markdown",
   "metadata": {},
   "source": [
    "## Step Backward feature selection"
   ]
  },
  {
   "cell_type": "code",
   "execution_count": 17,
   "metadata": {},
   "outputs": [
    {
     "name": "stderr",
     "output_type": "stream",
     "text": [
      "[Parallel(n_jobs=-1)]: Using backend LokyBackend with 4 concurrent workers.\n",
      "[Parallel(n_jobs=-1)]: Done  12 out of  12 | elapsed:   21.8s remaining:    0.0s\n",
      "[Parallel(n_jobs=-1)]: Done  12 out of  12 | elapsed:   21.8s finished\n",
      "\n",
      "[2020-03-15 20:34:55] Features: 11/1 -- score: 0.5206225215347657[Parallel(n_jobs=-1)]: Using backend LokyBackend with 4 concurrent workers.\n",
      "[Parallel(n_jobs=-1)]: Done  11 out of  11 | elapsed:   24.7s finished\n",
      "\n",
      "[2020-03-15 20:35:20] Features: 10/1 -- score: 0.5228411502940018[Parallel(n_jobs=-1)]: Using backend LokyBackend with 4 concurrent workers.\n",
      "[Parallel(n_jobs=-1)]: Done  10 out of  10 | elapsed:   24.6s finished\n",
      "\n",
      "[2020-03-15 20:35:45] Features: 9/1 -- score: 0.5228462063955946[Parallel(n_jobs=-1)]: Using backend LokyBackend with 4 concurrent workers.\n",
      "[Parallel(n_jobs=-1)]: Done   7 out of   9 | elapsed:   14.6s remaining:    4.2s\n",
      "[Parallel(n_jobs=-1)]: Done   9 out of   9 | elapsed:   18.9s finished\n",
      "\n",
      "[2020-03-15 20:36:04] Features: 8/1 -- score: 0.523728683085503[Parallel(n_jobs=-1)]: Using backend LokyBackend with 4 concurrent workers.\n",
      "[Parallel(n_jobs=-1)]: Done   6 out of   8 | elapsed:   16.0s remaining:    5.3s\n",
      "[Parallel(n_jobs=-1)]: Done   8 out of   8 | elapsed:   16.1s finished\n",
      "\n",
      "[2020-03-15 20:36:20] Features: 7/1 -- score: 0.5069892150589239[Parallel(n_jobs=-1)]: Using backend LokyBackend with 4 concurrent workers.\n",
      "[Parallel(n_jobs=-1)]: Done   4 out of   7 | elapsed:    8.1s remaining:    6.0s\n",
      "[Parallel(n_jobs=-1)]: Done   7 out of   7 | elapsed:   14.0s finished\n",
      "\n",
      "[2020-03-15 20:36:34] Features: 6/1 -- score: 0.49953397700270397[Parallel(n_jobs=-1)]: Using backend LokyBackend with 4 concurrent workers.\n",
      "[Parallel(n_jobs=-1)]: Done   3 out of   6 | elapsed:    9.2s remaining:    9.2s\n",
      "[Parallel(n_jobs=-1)]: Done   6 out of   6 | elapsed:   13.4s finished\n",
      "\n",
      "[2020-03-15 20:36:47] Features: 5/1 -- score: 0.4624645910312886[Parallel(n_jobs=-1)]: Using backend LokyBackend with 4 concurrent workers.\n",
      "[Parallel(n_jobs=-1)]: Done   5 out of   5 | elapsed:   12.6s finished\n",
      "\n",
      "[2020-03-15 20:37:00] Features: 4/1 -- score: 0.41431387644643525[Parallel(n_jobs=-1)]: Using backend LokyBackend with 4 concurrent workers.\n",
      "[Parallel(n_jobs=-1)]: Done   4 out of   4 | elapsed:    6.4s finished\n",
      "\n",
      "[2020-03-15 20:37:06] Features: 3/1 -- score: 0.3459717989837073[Parallel(n_jobs=-1)]: Using backend LokyBackend with 4 concurrent workers.\n",
      "[Parallel(n_jobs=-1)]: Done   3 out of   3 | elapsed:    5.6s finished\n",
      "\n",
      "[2020-03-15 20:37:12] Features: 2/1 -- score: 0.23669842906435784[Parallel(n_jobs=-1)]: Using backend LokyBackend with 4 concurrent workers.\n",
      "[Parallel(n_jobs=-1)]: Done   2 out of   2 | elapsed:    2.8s finished\n",
      "\n",
      "[2020-03-15 20:37:14] Features: 1/1 -- score: 0.11196393942822808"
     ]
    }
   ],
   "source": [
    "sbs = SFS(RandomForestClassifier(n_estimators=100, random_state=0, n_jobs = -1),\n",
    "         k_features = (1, 8),\n",
    "          forward= False,\n",
    "          floating = False,\n",
    "          verbose= 2,\n",
    "          scoring= 'accuracy',\n",
    "          cv = 4,\n",
    "          n_jobs= -1\n",
    "         ).fit(X_train, y_train)\n"
   ]
  },
  {
   "cell_type": "code",
   "execution_count": 18,
   "metadata": {},
   "outputs": [
    {
     "data": {
      "text/plain": [
       "0.523728683085503"
      ]
     },
     "execution_count": 18,
     "metadata": {},
     "output_type": "execute_result"
    }
   ],
   "source": [
    "sbs.k_score_\n"
   ]
  },
  {
   "cell_type": "code",
   "execution_count": 19,
   "metadata": {},
   "outputs": [
    {
     "data": {
      "text/plain": [
       "('RangeY', 'RangeZ', 'MeanX', 'MeanY', 'MeanZ', 'VarX', 'VarY', 'VarZ')"
      ]
     },
     "execution_count": 19,
     "metadata": {},
     "output_type": "execute_result"
    }
   ],
   "source": [
    "sbs.k_feature_names_\n"
   ]
  },
  {
   "cell_type": "markdown",
   "metadata": {},
   "source": [
    "## Exhaustive feature selection"
   ]
  },
  {
   "cell_type": "code",
   "execution_count": 20,
   "metadata": {},
   "outputs": [],
   "source": [
    "from mlxtend.feature_selection import ExhaustiveFeatureSelector as EFS\n"
   ]
  },
  {
   "cell_type": "code",
   "execution_count": 21,
   "metadata": {},
   "outputs": [
    {
     "name": "stderr",
     "output_type": "stream",
     "text": [
      "/home/mirsahib/anaconda3/lib/python3.7/site-packages/joblib/externals/loky/process_executor.py:706: UserWarning: A worker stopped while some jobs were given to the executor. This can be caused by a too short worker timeout or by a memory leak.\n",
      "  \"timeout or by a memory leak.\", UserWarning\n",
      "Features: 3003/3003"
     ]
    }
   ],
   "source": [
    "efs = EFS(RandomForestClassifier(n_estimators=100, random_state=0, n_jobs=-1),\n",
    "         min_features= 4,\n",
    "          max_features= 7,\n",
    "          scoring='accuracy',\n",
    "          cv = None,\n",
    "          n_jobs=-1\n",
    "         ).fit(X_train, y_train)\n"
   ]
  },
  {
   "cell_type": "code",
   "execution_count": 22,
   "metadata": {},
   "outputs": [
    {
     "name": "stdout",
     "output_type": "stream",
     "text": [
      "Help on ExhaustiveFeatureSelector in module mlxtend.feature_selection.exhaustive_feature_selector object:\n",
      "\n",
      "class ExhaustiveFeatureSelector(sklearn.base.BaseEstimator, sklearn.base.MetaEstimatorMixin)\n",
      " |  ExhaustiveFeatureSelector(estimator, min_features=1, max_features=1, print_progress=True, scoring='accuracy', cv=5, n_jobs=1, pre_dispatch='2*n_jobs', clone_estimator=True)\n",
      " |  \n",
      " |  Exhaustive Feature Selection for Classification and Regression.\n",
      " |     (new in v0.4.3)\n",
      " |  \n",
      " |  Parameters\n",
      " |  ----------\n",
      " |  estimator : scikit-learn classifier or regressor\n",
      " |  min_features : int (default: 1)\n",
      " |      Minumum number of features to select\n",
      " |  max_features : int (default: 1)\n",
      " |      Maximum number of features to select\n",
      " |  print_progress : bool (default: True)\n",
      " |      Prints progress as the number of epochs\n",
      " |      to stderr.\n",
      " |  scoring : str, (default='accuracy')\n",
      " |      Scoring metric in {accuracy, f1, precision, recall, roc_auc}\n",
      " |      for classifiers,\n",
      " |      {'mean_absolute_error', 'mean_squared_error',\n",
      " |      'median_absolute_error', 'r2'} for regressors,\n",
      " |      or a callable object or function with\n",
      " |      signature ``scorer(estimator, X, y)``.\n",
      " |  cv : int (default: 5)\n",
      " |      Scikit-learn cross-validation generator or `int`.\n",
      " |      If estimator is a classifier (or y consists of integer class labels),\n",
      " |      stratified k-fold is performed, and regular k-fold cross-validation\n",
      " |      otherwise.\n",
      " |      No cross-validation if cv is None, False, or 0.\n",
      " |  n_jobs : int (default: 1)\n",
      " |      The number of CPUs to use for evaluating different feature subsets\n",
      " |      in parallel. -1 means 'all CPUs'.\n",
      " |  pre_dispatch : int, or string (default: '2*n_jobs')\n",
      " |      Controls the number of jobs that get dispatched\n",
      " |      during parallel execution if `n_jobs > 1` or `n_jobs=-1`.\n",
      " |      Reducing this number can be useful to avoid an explosion of\n",
      " |      memory consumption when more jobs get dispatched than CPUs can process.\n",
      " |      This parameter can be:\n",
      " |      None, in which case all the jobs are immediately created and spawned.\n",
      " |          Use this for lightweight and fast-running jobs,\n",
      " |          to avoid delays due to on-demand spawning of the jobs\n",
      " |      An int, giving the exact number of total jobs that are spawned\n",
      " |      A string, giving an expression as a function\n",
      " |          of n_jobs, as in `2*n_jobs`\n",
      " |  clone_estimator : bool (default: True)\n",
      " |      Clones estimator if True; works with the original estimator instance\n",
      " |      if False. Set to False if the estimator doesn't\n",
      " |      implement scikit-learn's set_params and get_params methods.\n",
      " |      In addition, it is required to set cv=0, and n_jobs=1.\n",
      " |  \n",
      " |  Attributes\n",
      " |  ----------\n",
      " |  best_idx_ : array-like, shape = [n_predictions]\n",
      " |      Feature Indices of the selected feature subsets.\n",
      " |  best_feature_names_ : array-like, shape = [n_predictions]\n",
      " |      Feature names of the selected feature subsets. If pandas\n",
      " |      DataFrames are used in the `fit` method, the feature\n",
      " |      names correspond to the column names. Otherwise, the\n",
      " |      feature names are string representation of the feature\n",
      " |      array indices. New in v 0.13.0.\n",
      " |  best_score_ : float\n",
      " |      Cross validation average score of the selected subset.\n",
      " |  subsets_ : dict\n",
      " |      A dictionary of selected feature subsets during the\n",
      " |      exhaustive selection, where the dictionary keys are\n",
      " |      the lengths k of these feature subsets. The dictionary\n",
      " |      values are dictionaries themselves with the following\n",
      " |      keys: 'feature_idx' (tuple of indices of the feature subset)\n",
      " |            'feature_names' (tuple of feature names of the feat. subset)\n",
      " |            'cv_scores' (list individual cross-validation scores)\n",
      " |            'avg_score' (average cross-validation score)\n",
      " |      Note that if pandas\n",
      " |      DataFrames are used in the `fit` method, the 'feature_names'\n",
      " |      correspond to the column names. Otherwise, the\n",
      " |      feature names are string representation of the feature\n",
      " |      array indices. The 'feature_names' is new in v 0.13.0.\n",
      " |  \n",
      " |  Examples\n",
      " |  -----------\n",
      " |  For usage examples, please see\n",
      " |  http://rasbt.github.io/mlxtend/user_guide/feature_selection/ExhaustiveFeatureSelector/\n",
      " |  \n",
      " |  Method resolution order:\n",
      " |      ExhaustiveFeatureSelector\n",
      " |      sklearn.base.BaseEstimator\n",
      " |      sklearn.base.MetaEstimatorMixin\n",
      " |      builtins.object\n",
      " |  \n",
      " |  Methods defined here:\n",
      " |  \n",
      " |  __init__(self, estimator, min_features=1, max_features=1, print_progress=True, scoring='accuracy', cv=5, n_jobs=1, pre_dispatch='2*n_jobs', clone_estimator=True)\n",
      " |      Initialize self.  See help(type(self)) for accurate signature.\n",
      " |  \n",
      " |  fit(self, X, y, custom_feature_names=None, groups=None, **fit_params)\n",
      " |      Perform feature selection and learn model from training data.\n",
      " |      \n",
      " |      Parameters\n",
      " |      ----------\n",
      " |      X : {array-like, sparse matrix}, shape = [n_samples, n_features]\n",
      " |          Training vectors, where n_samples is the number of samples and\n",
      " |          n_features is the number of features.\n",
      " |          New in v 0.13.0: pandas DataFrames are now also accepted as\n",
      " |          argument for X.\n",
      " |      y : array-like, shape = [n_samples]\n",
      " |          Target values.\n",
      " |      custom_feature_names : None or tuple (default: tuple)\n",
      " |          Custom feature names for `self.k_feature_names` and\n",
      " |          `self.subsets_[i]['feature_names']`.\n",
      " |          (new in v 0.13.0)\n",
      " |      groups : array-like, with shape (n_samples,), optional\n",
      " |          Group labels for the samples used while splitting the dataset into\n",
      " |          train/test set. Passed to the fit method of the cross-validator.\n",
      " |      fit_params : dict of string -> object, optional\n",
      " |          Parameters to pass to to the fit method of classifier.\n",
      " |      \n",
      " |      Returns\n",
      " |      -------\n",
      " |      self : object\n",
      " |  \n",
      " |  fit_transform(self, X, y, groups=None, **fit_params)\n",
      " |      Fit to training data and return the best selected features from X.\n",
      " |      \n",
      " |      Parameters\n",
      " |      ----------\n",
      " |      X : {array-like, sparse matrix}, shape = [n_samples, n_features]\n",
      " |          Training vectors, where n_samples is the number of samples and\n",
      " |          n_features is the number of features.\n",
      " |          New in v 0.13.0: pandas DataFrames are now also accepted as\n",
      " |          argument for X.\n",
      " |      y : array-like, shape = [n_samples]\n",
      " |          Target values.\n",
      " |      groups : array-like, with shape (n_samples,), optional\n",
      " |          Group labels for the samples used while splitting the dataset into\n",
      " |          train/test set. Passed to the fit method of the cross-validator.\n",
      " |      fit_params : dict of string -> object, optional\n",
      " |          Parameters to pass to to the fit method of classifier.\n",
      " |      \n",
      " |      Returns\n",
      " |      -------\n",
      " |      Feature subset of X, shape={n_samples, k_features}\n",
      " |  \n",
      " |  get_metric_dict(self, confidence_interval=0.95)\n",
      " |      Return metric dictionary\n",
      " |      \n",
      " |      Parameters\n",
      " |      ----------\n",
      " |      confidence_interval : float (default: 0.95)\n",
      " |          A positive float between 0.0 and 1.0 to compute the confidence\n",
      " |          interval bounds of the CV score averages.\n",
      " |      \n",
      " |      Returns\n",
      " |      ----------\n",
      " |      Dictionary with items where each dictionary value is a list\n",
      " |      with the number of iterations (number of feature subsets) as\n",
      " |      its length. The dictionary keys corresponding to these lists\n",
      " |      are as follows:\n",
      " |          'feature_idx': tuple of the indices of the feature subset\n",
      " |          'cv_scores': list with individual CV scores\n",
      " |          'avg_score': of CV average scores\n",
      " |          'std_dev': standard deviation of the CV score average\n",
      " |          'std_err': standard error of the CV score average\n",
      " |          'ci_bound': confidence interval bound of the CV score average\n",
      " |  \n",
      " |  transform(self, X)\n",
      " |      Return the best selected features from X.\n",
      " |      \n",
      " |      Parameters\n",
      " |      ----------\n",
      " |      X : {array-like, sparse matrix}, shape = [n_samples, n_features]\n",
      " |          Training vectors, where n_samples is the number of samples and\n",
      " |          n_features is the number of features.\n",
      " |          New in v 0.13.0: pandas DataFrames are now also accepted as\n",
      " |          argument for X.\n",
      " |      \n",
      " |      Returns\n",
      " |      -------\n",
      " |      Feature subset of X, shape={n_samples, k_features}\n",
      " |  \n",
      " |  ----------------------------------------------------------------------\n",
      " |  Methods inherited from sklearn.base.BaseEstimator:\n",
      " |  \n",
      " |  __getstate__(self)\n",
      " |  \n",
      " |  __repr__(self, N_CHAR_MAX=700)\n",
      " |      Return repr(self).\n",
      " |  \n",
      " |  __setstate__(self, state)\n",
      " |  \n",
      " |  get_params(self, deep=True)\n",
      " |      Get parameters for this estimator.\n",
      " |      \n",
      " |      Parameters\n",
      " |      ----------\n",
      " |      deep : boolean, optional\n",
      " |          If True, will return the parameters for this estimator and\n",
      " |          contained subobjects that are estimators.\n",
      " |      \n",
      " |      Returns\n",
      " |      -------\n",
      " |      params : mapping of string to any\n",
      " |          Parameter names mapped to their values.\n",
      " |  \n",
      " |  set_params(self, **params)\n",
      " |      Set the parameters of this estimator.\n",
      " |      \n",
      " |      The method works on simple estimators as well as on nested objects\n",
      " |      (such as pipelines). The latter have parameters of the form\n",
      " |      ``<component>__<parameter>`` so that it's possible to update each\n",
      " |      component of a nested object.\n",
      " |      \n",
      " |      Returns\n",
      " |      -------\n",
      " |      self\n",
      " |  \n",
      " |  ----------------------------------------------------------------------\n",
      " |  Data descriptors inherited from sklearn.base.BaseEstimator:\n",
      " |  \n",
      " |  __dict__\n",
      " |      dictionary for instance variables (if defined)\n",
      " |  \n",
      " |  __weakref__\n",
      " |      list of weak references to the object (if defined)\n",
      "\n"
     ]
    }
   ],
   "source": [
    "help(efs)\n"
   ]
  },
  {
   "cell_type": "code",
   "execution_count": 23,
   "metadata": {},
   "outputs": [
    {
     "data": {
      "text/plain": [
       "1.0"
      ]
     },
     "execution_count": 23,
     "metadata": {},
     "output_type": "execute_result"
    }
   ],
   "source": [
    "efs.best_score_\n"
   ]
  },
  {
   "cell_type": "code",
   "execution_count": 24,
   "metadata": {},
   "outputs": [
    {
     "data": {
      "text/plain": [
       "('RangeX', 'RangeY', 'RangeZ', 'MeanX')"
      ]
     },
     "execution_count": 24,
     "metadata": {},
     "output_type": "execute_result"
    }
   ],
   "source": [
    "efs.best_feature_names_\n"
   ]
  },
  {
   "cell_type": "code",
   "execution_count": 25,
   "metadata": {},
   "outputs": [],
   "source": [
    "from mlxtend.plotting import plot_sequential_feature_selection as plot_sfs\n"
   ]
  },
  {
   "cell_type": "code",
   "execution_count": 26,
   "metadata": {},
   "outputs": [
    {
     "name": "stderr",
     "output_type": "stream",
     "text": [
      "/home/mirsahib/anaconda3/lib/python3.7/site-packages/numpy/core/_methods.py:217: RuntimeWarning: Degrees of freedom <= 0 for slice\n",
      "  keepdims=keepdims)\n",
      "/home/mirsahib/anaconda3/lib/python3.7/site-packages/numpy/core/_methods.py:209: RuntimeWarning: invalid value encountered in double_scalars\n",
      "  ret = ret.dtype.type(ret / rcount)\n"
     ]
    },
    {
     "data": {
      "text/plain": [
       "(<Figure size 432x288 with 1 Axes>,\n",
       " <matplotlib.axes._subplots.AxesSubplot at 0x7f824ccbcf10>)"
      ]
     },
     "execution_count": 26,
     "metadata": {},
     "output_type": "execute_result"
    },
    {
     "data": {
      "image/png": "[encoded data removed]",
      "text/plain": [
       "<Figure size 432x288 with 1 Axes>"
      ]
     },
     "metadata": {
      "needs_background": "light"
     },
     "output_type": "display_data"
    }
   ],
   "source": [
    "plot_sfs(efs.get_metric_dict(), kind='std_dev')\n"
   ]
  },
  {
   "cell_type": "code",
   "execution_count": null,
   "metadata": {},
   "outputs": [],
   "source": []
  }
 ],
 "metadata": {
  "kernelspec": {
   "display_name": "Python 3",
   "language": "python",
   "name": "python3"
  },
  "language_info": {
   "codemirror_mode": {
    "name": "ipython",
    "version": 3
   },
   "file_extension": ".py",
   "mimetype": "text/x-python",
   "name": "python",
   "nbconvert_exporter": "python",
   "pygments_lexer": "ipython3",
   "version": "3.7.4"
  }
 },
 "nbformat": 4,
 "nbformat_minor": 2
}
