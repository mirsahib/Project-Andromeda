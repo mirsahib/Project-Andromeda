{
 "cells": [
  {
   "cell_type": "code",
   "execution_count": 1,
   "metadata": {},
   "outputs": [],
   "source": [
    "import numpy as np\n",
    "import pandas as pd\n",
    "import seaborn as sns\n",
    "import matplotlib.pyplot as plt\n",
    "%matplotlib inline\n"
   ]
  },
  {
   "cell_type": "code",
   "execution_count": 2,
   "metadata": {},
   "outputs": [],
   "source": [
    "from sklearn.model_selection import train_test_split\n",
    "from sklearn.ensemble import RandomForestRegressor, RandomForestClassifier\n",
    "from sklearn.metrics import roc_auc_score\n",
    "from mlxtend.feature_selection import SequentialFeatureSelector as SFS\n"
   ]
  },
  {
   "cell_type": "code",
   "execution_count": 27,
   "metadata": {},
   "outputs": [],
   "source": [
    "from sklearn.datasets import load_wine\n",
    "from sklearn.preprocessing import StandardScaler\n",
    "from mlxtend.plotting import plot_sequential_feature_selection as plot_sfs\n",
    "\n"
   ]
  },
  {
   "cell_type": "code",
   "execution_count": 10,
   "metadata": {},
   "outputs": [],
   "source": [
    "data = pd.read_csv(r'C:\\Users\\Mir Sahib\\Desktop\\Project-Andromeda-Major\\Dataset\\Fusing_Geometric_Feature_Extracted\\fusing_geometric.csv')\n"
   ]
  },
  {
   "cell_type": "code",
   "execution_count": 11,
   "metadata": {},
   "outputs": [
    {
     "data": {
      "text/html": [
       "<div>\n",
       "<style scoped>\n",
       "    .dataframe tbody tr th:only-of-type {\n",
       "        vertical-align: middle;\n",
       "    }\n",
       "\n",
       "    .dataframe tbody tr th {\n",
       "        vertical-align: top;\n",
       "    }\n",
       "\n",
       "    .dataframe thead th {\n",
       "        text-align: right;\n",
       "    }\n",
       "</style>\n",
       "<table border=\"1\" class=\"dataframe\">\n",
       "  <thead>\n",
       "    <tr style=\"text-align: right;\">\n",
       "      <th></th>\n",
       "      <th>JJ_d: L0_L1</th>\n",
       "      <th>JJ_d: L1_L2</th>\n",
       "      <th>JJ_d: L2_L3</th>\n",
       "      <th>JJ_d: L2_L4</th>\n",
       "      <th>JJ_d: L4_L5</th>\n",
       "      <th>JJ_d: L5_L6</th>\n",
       "      <th>JJ_d: L6_L7</th>\n",
       "      <th>JJ_d: L2_L8</th>\n",
       "      <th>JJ_d: L8_L9</th>\n",
       "      <th>JJ_d: L9_L10</th>\n",
       "      <th>...</th>\n",
       "      <th>JJ_o: L11_L18 Z</th>\n",
       "      <th>JJ_o: L14_L18 X</th>\n",
       "      <th>JJ_o: L14_L18 Y</th>\n",
       "      <th>JJ_o: L14_L18 Z</th>\n",
       "      <th>JL_d: p0_p7_p9</th>\n",
       "      <th>JL_d: p1_p8_p10</th>\n",
       "      <th>JL_d: p19_p2_p3</th>\n",
       "      <th>JL_d: p4_p13_p15</th>\n",
       "      <th>JL_d: p5_p14_p16</th>\n",
       "      <th>label</th>\n",
       "    </tr>\n",
       "  </thead>\n",
       "  <tbody>\n",
       "    <tr>\n",
       "      <td>0</td>\n",
       "      <td>28.705400</td>\n",
       "      <td>28.930952</td>\n",
       "      <td>28.792360</td>\n",
       "      <td>29.017236</td>\n",
       "      <td>28.705400</td>\n",
       "      <td>28.705400</td>\n",
       "      <td>28.913665</td>\n",
       "      <td>29.068884</td>\n",
       "      <td>27.946377</td>\n",
       "      <td>28.653098</td>\n",
       "      <td>...</td>\n",
       "      <td>-0.047149</td>\n",
       "      <td>-0.910708</td>\n",
       "      <td>-0.062807</td>\n",
       "      <td>-0.408248</td>\n",
       "      <td>76.800672</td>\n",
       "      <td>72.867098</td>\n",
       "      <td>5.368380</td>\n",
       "      <td>16.595102</td>\n",
       "      <td>103.946313</td>\n",
       "      <td>1</td>\n",
       "    </tr>\n",
       "    <tr>\n",
       "      <td>1</td>\n",
       "      <td>27.910571</td>\n",
       "      <td>27.730849</td>\n",
       "      <td>27.946377</td>\n",
       "      <td>27.586228</td>\n",
       "      <td>27.147744</td>\n",
       "      <td>30.133038</td>\n",
       "      <td>28.178006</td>\n",
       "      <td>29.068884</td>\n",
       "      <td>26.645825</td>\n",
       "      <td>26.267851</td>\n",
       "      <td>...</td>\n",
       "      <td>-0.056028</td>\n",
       "      <td>-0.890871</td>\n",
       "      <td>-0.089087</td>\n",
       "      <td>-0.445435</td>\n",
       "      <td>76.326624</td>\n",
       "      <td>72.600788</td>\n",
       "      <td>2.236190</td>\n",
       "      <td>15.524110</td>\n",
       "      <td>101.578927</td>\n",
       "      <td>1</td>\n",
       "    </tr>\n",
       "    <tr>\n",
       "      <td>2</td>\n",
       "      <td>32.588341</td>\n",
       "      <td>32.588341</td>\n",
       "      <td>32.572995</td>\n",
       "      <td>32.893768</td>\n",
       "      <td>33.615473</td>\n",
       "      <td>34.014703</td>\n",
       "      <td>33.256578</td>\n",
       "      <td>33.555923</td>\n",
       "      <td>34.014703</td>\n",
       "      <td>34.438351</td>\n",
       "      <td>...</td>\n",
       "      <td>-0.065247</td>\n",
       "      <td>-0.859455</td>\n",
       "      <td>-0.110897</td>\n",
       "      <td>-0.499038</td>\n",
       "      <td>76.259121</td>\n",
       "      <td>72.675846</td>\n",
       "      <td>1.340337</td>\n",
       "      <td>13.905638</td>\n",
       "      <td>98.549980</td>\n",
       "      <td>1</td>\n",
       "    </tr>\n",
       "    <tr>\n",
       "      <td>3</td>\n",
       "      <td>29.883106</td>\n",
       "      <td>30.232433</td>\n",
       "      <td>31.780497</td>\n",
       "      <td>30.232433</td>\n",
       "      <td>28.792360</td>\n",
       "      <td>29.580399</td>\n",
       "      <td>7.681146</td>\n",
       "      <td>7.348469</td>\n",
       "      <td>7.549834</td>\n",
       "      <td>8.124038</td>\n",
       "      <td>...</td>\n",
       "      <td>-0.037734</td>\n",
       "      <td>-0.878938</td>\n",
       "      <td>-0.087894</td>\n",
       "      <td>-0.468767</td>\n",
       "      <td>77.377520</td>\n",
       "      <td>73.358941</td>\n",
       "      <td>5.357323</td>\n",
       "      <td>12.949639</td>\n",
       "      <td>101.281541</td>\n",
       "      <td>1</td>\n",
       "    </tr>\n",
       "    <tr>\n",
       "      <td>4</td>\n",
       "      <td>8.124038</td>\n",
       "      <td>8.660254</td>\n",
       "      <td>7.348469</td>\n",
       "      <td>7.681146</td>\n",
       "      <td>8.660254</td>\n",
       "      <td>8.306624</td>\n",
       "      <td>8.831761</td>\n",
       "      <td>7.280110</td>\n",
       "      <td>9.695360</td>\n",
       "      <td>7.141428</td>\n",
       "      <td>...</td>\n",
       "      <td>-0.047149</td>\n",
       "      <td>-0.872008</td>\n",
       "      <td>-0.090208</td>\n",
       "      <td>-0.481108</td>\n",
       "      <td>76.996056</td>\n",
       "      <td>72.212629</td>\n",
       "      <td>3.167000</td>\n",
       "      <td>13.905638</td>\n",
       "      <td>98.593124</td>\n",
       "      <td>1</td>\n",
       "    </tr>\n",
       "  </tbody>\n",
       "</table>\n",
       "<p>5 rows × 142 columns</p>\n",
       "</div>"
      ],
      "text/plain": [
       "   JJ_d: L0_L1  JJ_d: L1_L2  JJ_d: L2_L3  JJ_d: L2_L4  JJ_d: L4_L5  \\\n",
       "0    28.705400    28.930952    28.792360    29.017236    28.705400   \n",
       "1    27.910571    27.730849    27.946377    27.586228    27.147744   \n",
       "2    32.588341    32.588341    32.572995    32.893768    33.615473   \n",
       "3    29.883106    30.232433    31.780497    30.232433    28.792360   \n",
       "4     8.124038     8.660254     7.348469     7.681146     8.660254   \n",
       "\n",
       "   JJ_d: L5_L6  JJ_d: L6_L7  JJ_d: L2_L8  JJ_d: L8_L9  JJ_d: L9_L10  ...  \\\n",
       "0    28.705400    28.913665    29.068884    27.946377     28.653098  ...   \n",
       "1    30.133038    28.178006    29.068884    26.645825     26.267851  ...   \n",
       "2    34.014703    33.256578    33.555923    34.014703     34.438351  ...   \n",
       "3    29.580399     7.681146     7.348469     7.549834      8.124038  ...   \n",
       "4     8.306624     8.831761     7.280110     9.695360      7.141428  ...   \n",
       "\n",
       "   JJ_o: L11_L18 Z  JJ_o: L14_L18 X  JJ_o: L14_L18 Y  JJ_o: L14_L18 Z  \\\n",
       "0        -0.047149        -0.910708        -0.062807        -0.408248   \n",
       "1        -0.056028        -0.890871        -0.089087        -0.445435   \n",
       "2        -0.065247        -0.859455        -0.110897        -0.499038   \n",
       "3        -0.037734        -0.878938        -0.087894        -0.468767   \n",
       "4        -0.047149        -0.872008        -0.090208        -0.481108   \n",
       "\n",
       "   JL_d: p0_p7_p9  JL_d: p1_p8_p10  JL_d: p19_p2_p3  JL_d: p4_p13_p15  \\\n",
       "0       76.800672        72.867098         5.368380         16.595102   \n",
       "1       76.326624        72.600788         2.236190         15.524110   \n",
       "2       76.259121        72.675846         1.340337         13.905638   \n",
       "3       77.377520        73.358941         5.357323         12.949639   \n",
       "4       76.996056        72.212629         3.167000         13.905638   \n",
       "\n",
       "   JL_d: p5_p14_p16  label  \n",
       "0        103.946313      1  \n",
       "1        101.578927      1  \n",
       "2         98.549980      1  \n",
       "3        101.281541      1  \n",
       "4         98.593124      1  \n",
       "\n",
       "[5 rows x 142 columns]"
      ]
     },
     "execution_count": 11,
     "metadata": {},
     "output_type": "execute_result"
    }
   ],
   "source": [
    "data = data.fillna(data.mean())\n",
    "data.head()\n"
   ]
  },
  {
   "cell_type": "code",
   "execution_count": 12,
   "metadata": {},
   "outputs": [
    {
     "data": {
      "text/plain": [
       "((22797, 141), (22797,))"
      ]
     },
     "execution_count": 12,
     "metadata": {},
     "output_type": "execute_result"
    }
   ],
   "source": [
    "X = data.drop('label',axis=1)\n",
    "y = data['label']\n",
    "X.shape,y.shape"
   ]
  },
  {
   "cell_type": "code",
   "execution_count": 13,
   "metadata": {},
   "outputs": [
    {
     "data": {
      "text/plain": [
       "((18237, 141), (4560, 141))"
      ]
     },
     "execution_count": 13,
     "metadata": {},
     "output_type": "execute_result"
    }
   ],
   "source": [
    "X_train, X_test, y_train, y_test = train_test_split(X, y, test_size = 0.2, random_state = 0)\n",
    "X_train.shape, X_test.shape\n"
   ]
  },
  {
   "cell_type": "markdown",
   "metadata": {},
   "source": [
    "## Step forward feature selection"
   ]
  },
  {
   "cell_type": "code",
   "execution_count": 14,
   "metadata": {},
   "outputs": [
    {
     "name": "stderr",
     "output_type": "stream",
     "text": [
      "[Parallel(n_jobs=-1)]: Using backend LokyBackend with 4 concurrent workers.\n",
      "[Parallel(n_jobs=-1)]: Done  33 tasks      | elapsed:  2.6min\n",
      "[Parallel(n_jobs=-1)]: Done 141 out of 141 | elapsed:  8.6min finished\n",
      "\n",
      "[2020-03-17 00:03:37] Features: 1/7 -- score: 0.209848359323331[Parallel(n_jobs=-1)]: Using backend LokyBackend with 4 concurrent workers.\n",
      "[Parallel(n_jobs=-1)]: Done  33 tasks      | elapsed:  2.3min\n",
      "[Parallel(n_jobs=-1)]: Done 140 out of 140 | elapsed:  8.4min finished\n",
      "\n",
      "[2020-03-17 00:12:02] Features: 2/7 -- score: 0.3027392915897105[Parallel(n_jobs=-1)]: Using backend LokyBackend with 4 concurrent workers.\n",
      "[Parallel(n_jobs=-1)]: Done  33 tasks      | elapsed:  2.3min\n",
      "[Parallel(n_jobs=-1)]: Done 139 out of 139 | elapsed:  8.3min finished\n",
      "\n",
      "[2020-03-17 00:20:19] Features: 3/7 -- score: 0.42468050083768816[Parallel(n_jobs=-1)]: Using backend LokyBackend with 4 concurrent workers.\n",
      "[Parallel(n_jobs=-1)]: Done  33 tasks      | elapsed:  3.2min\n",
      "[Parallel(n_jobs=-1)]: Done 138 out of 138 | elapsed: 12.0min finished\n",
      "\n",
      "[2020-03-17 00:32:19] Features: 4/7 -- score: 0.5196571217014034[Parallel(n_jobs=-1)]: Using backend LokyBackend with 4 concurrent workers.\n",
      "[Parallel(n_jobs=-1)]: Done  33 tasks      | elapsed:  3.1min\n",
      "[Parallel(n_jobs=-1)]: Done 137 out of 137 | elapsed: 12.7min finished\n",
      "\n",
      "[2020-03-17 00:45:02] Features: 5/7 -- score: 0.5964252199259406[Parallel(n_jobs=-1)]: Using backend LokyBackend with 4 concurrent workers.\n",
      "[Parallel(n_jobs=-1)]: Done  33 tasks      | elapsed:  3.2min\n",
      "[Parallel(n_jobs=-1)]: Done 136 out of 136 | elapsed: 11.7min finished\n",
      "\n",
      "[2020-03-17 00:56:45] Features: 6/7 -- score: 0.6663415264504591[Parallel(n_jobs=-1)]: Using backend LokyBackend with 4 concurrent workers.\n",
      "[Parallel(n_jobs=-1)]: Done  33 tasks      | elapsed:  3.2min\n",
      "[Parallel(n_jobs=-1)]: Done 135 out of 135 | elapsed: 11.6min finished\n",
      "\n",
      "[2020-03-17 01:08:22] Features: 7/7 -- score: 0.7166713843441412"
     ]
    }
   ],
   "source": [
    "sfs = SFS(RandomForestClassifier(n_estimators=100, random_state=0, n_jobs = -1),\n",
    "         k_features = 7,\n",
    "          forward= True,\n",
    "          floating = False,\n",
    "          verbose= 2,\n",
    "          scoring= 'accuracy',\n",
    "          cv = 4,\n",
    "          n_jobs= -1\n",
    "         ).fit(X_train, y_train)\n"
   ]
  },
  {
   "cell_type": "code",
   "execution_count": 22,
   "metadata": {},
   "outputs": [
    {
     "data": {
      "text/plain": [
       "('JJ_o: L2_L4 Y',\n",
       " 'JJ_o: L10_L11 Z',\n",
       " 'JJ_o: L14_L15 X',\n",
       " 'JJ_o: L6_L10 Y',\n",
       " 'JJ_o: L11_L14 X',\n",
       " 'JJ_o: L11_L18 X',\n",
       " 'JJ_o: L11_L18 Z')"
      ]
     },
     "execution_count": 22,
     "metadata": {},
     "output_type": "execute_result"
    }
   ],
   "source": [
    "sfs.k_feature_names_\n"
   ]
  },
  {
   "cell_type": "code",
   "execution_count": 23,
   "metadata": {},
   "outputs": [
    {
     "data": {
      "text/plain": [
       "(44, 66, 76, 119, 127, 130, 132)"
      ]
     },
     "execution_count": 23,
     "metadata": {},
     "output_type": "execute_result"
    }
   ],
   "source": [
    "sfs.k_feature_idx_\n"
   ]
  },
  {
   "cell_type": "code",
   "execution_count": 24,
   "metadata": {},
   "outputs": [
    {
     "data": {
      "text/plain": [
       "0.7166713843441412"
      ]
     },
     "execution_count": 24,
     "metadata": {},
     "output_type": "execute_result"
    }
   ],
   "source": [
    "sfs.k_score_"
   ]
  },
  {
   "cell_type": "code",
   "execution_count": 25,
   "metadata": {},
   "outputs": [
    {
     "data": {
      "text/html": [
       "<div>\n",
       "<style scoped>\n",
       "    .dataframe tbody tr th:only-of-type {\n",
       "        vertical-align: middle;\n",
       "    }\n",
       "\n",
       "    .dataframe tbody tr th {\n",
       "        vertical-align: top;\n",
       "    }\n",
       "\n",
       "    .dataframe thead th {\n",
       "        text-align: right;\n",
       "    }\n",
       "</style>\n",
       "<table border=\"1\" class=\"dataframe\">\n",
       "  <thead>\n",
       "    <tr style=\"text-align: right;\">\n",
       "      <th></th>\n",
       "      <th>feature_idx</th>\n",
       "      <th>cv_scores</th>\n",
       "      <th>avg_score</th>\n",
       "      <th>feature_names</th>\n",
       "      <th>ci_bound</th>\n",
       "      <th>std_dev</th>\n",
       "      <th>std_err</th>\n",
       "    </tr>\n",
       "  </thead>\n",
       "  <tbody>\n",
       "    <tr>\n",
       "      <td>1</td>\n",
       "      <td>(76,)</td>\n",
       "      <td>[0.2091546211125712, 0.21394125383603682, 0.20...</td>\n",
       "      <td>0.209848</td>\n",
       "      <td>(JJ_o: L14_L15 X,)</td>\n",
       "      <td>0.00585219</td>\n",
       "      <td>0.00365081</td>\n",
       "      <td>0.0021078</td>\n",
       "    </tr>\n",
       "    <tr>\n",
       "      <td>2</td>\n",
       "      <td>(76, 127)</td>\n",
       "      <td>[0.2954445904511607, 0.31060938185006576, 0.29...</td>\n",
       "      <td>0.302739</td>\n",
       "      <td>(JJ_o: L14_L15 X, JJ_o: L11_L14 X)</td>\n",
       "      <td>0.0100128</td>\n",
       "      <td>0.00624634</td>\n",
       "      <td>0.00360633</td>\n",
       "    </tr>\n",
       "    <tr>\n",
       "      <td>3</td>\n",
       "      <td>(76, 127, 130)</td>\n",
       "      <td>[0.42772667542706966, 0.4364313897413415, 0.41...</td>\n",
       "      <td>0.424681</td>\n",
       "      <td>(JJ_o: L14_L15 X, JJ_o: L11_L14 X, JJ_o: L11_L...</td>\n",
       "      <td>0.0133064</td>\n",
       "      <td>0.00830106</td>\n",
       "      <td>0.00479262</td>\n",
       "    </tr>\n",
       "    <tr>\n",
       "      <td>4</td>\n",
       "      <td>(66, 76, 127, 130)</td>\n",
       "      <td>[0.5214629872974157, 0.5258658483121438, 0.507...</td>\n",
       "      <td>0.519657</td>\n",
       "      <td>(JJ_o: L10_L11 Z, JJ_o: L14_L15 X, JJ_o: L11_L...</td>\n",
       "      <td>0.0111664</td>\n",
       "      <td>0.00696602</td>\n",
       "      <td>0.00402183</td>\n",
       "    </tr>\n",
       "    <tr>\n",
       "      <td>5</td>\n",
       "      <td>(66, 76, 127, 130, 132)</td>\n",
       "      <td>[0.5957074025405169, 0.6025865848312144, 0.587...</td>\n",
       "      <td>0.596425</td>\n",
       "      <td>(JJ_o: L10_L11 Z, JJ_o: L14_L15 X, JJ_o: L11_L...</td>\n",
       "      <td>0.00930614</td>\n",
       "      <td>0.00580552</td>\n",
       "      <td>0.00335182</td>\n",
       "    </tr>\n",
       "    <tr>\n",
       "      <td>6</td>\n",
       "      <td>(44, 66, 76, 127, 130, 132)</td>\n",
       "      <td>[0.6616294349540078, 0.6698816308636563, 0.660...</td>\n",
       "      <td>0.666342</td>\n",
       "      <td>(JJ_o: L2_L4 Y, JJ_o: L10_L11 Z, JJ_o: L14_L15...</td>\n",
       "      <td>0.00841071</td>\n",
       "      <td>0.00524692</td>\n",
       "      <td>0.00302931</td>\n",
       "    </tr>\n",
       "    <tr>\n",
       "      <td>7</td>\n",
       "      <td>(44, 66, 76, 119, 127, 130, 132)</td>\n",
       "      <td>[0.7172579938677179, 0.7266549758877685, 0.708...</td>\n",
       "      <td>0.716671</td>\n",
       "      <td>(JJ_o: L2_L4 Y, JJ_o: L10_L11 Z, JJ_o: L14_L15...</td>\n",
       "      <td>0.0104073</td>\n",
       "      <td>0.00649248</td>\n",
       "      <td>0.00374844</td>\n",
       "    </tr>\n",
       "  </tbody>\n",
       "</table>\n",
       "</div>"
      ],
      "text/plain": [
       "                        feature_idx  \\\n",
       "1                             (76,)   \n",
       "2                         (76, 127)   \n",
       "3                    (76, 127, 130)   \n",
       "4                (66, 76, 127, 130)   \n",
       "5           (66, 76, 127, 130, 132)   \n",
       "6       (44, 66, 76, 127, 130, 132)   \n",
       "7  (44, 66, 76, 119, 127, 130, 132)   \n",
       "\n",
       "                                           cv_scores avg_score  \\\n",
       "1  [0.2091546211125712, 0.21394125383603682, 0.20...  0.209848   \n",
       "2  [0.2954445904511607, 0.31060938185006576, 0.29...  0.302739   \n",
       "3  [0.42772667542706966, 0.4364313897413415, 0.41...  0.424681   \n",
       "4  [0.5214629872974157, 0.5258658483121438, 0.507...  0.519657   \n",
       "5  [0.5957074025405169, 0.6025865848312144, 0.587...  0.596425   \n",
       "6  [0.6616294349540078, 0.6698816308636563, 0.660...  0.666342   \n",
       "7  [0.7172579938677179, 0.7266549758877685, 0.708...  0.716671   \n",
       "\n",
       "                                       feature_names    ci_bound     std_dev  \\\n",
       "1                                 (JJ_o: L14_L15 X,)  0.00585219  0.00365081   \n",
       "2                 (JJ_o: L14_L15 X, JJ_o: L11_L14 X)   0.0100128  0.00624634   \n",
       "3  (JJ_o: L14_L15 X, JJ_o: L11_L14 X, JJ_o: L11_L...   0.0133064  0.00830106   \n",
       "4  (JJ_o: L10_L11 Z, JJ_o: L14_L15 X, JJ_o: L11_L...   0.0111664  0.00696602   \n",
       "5  (JJ_o: L10_L11 Z, JJ_o: L14_L15 X, JJ_o: L11_L...  0.00930614  0.00580552   \n",
       "6  (JJ_o: L2_L4 Y, JJ_o: L10_L11 Z, JJ_o: L14_L15...  0.00841071  0.00524692   \n",
       "7  (JJ_o: L2_L4 Y, JJ_o: L10_L11 Z, JJ_o: L14_L15...   0.0104073  0.00649248   \n",
       "\n",
       "      std_err  \n",
       "1   0.0021078  \n",
       "2  0.00360633  \n",
       "3  0.00479262  \n",
       "4  0.00402183  \n",
       "5  0.00335182  \n",
       "6  0.00302931  \n",
       "7  0.00374844  "
      ]
     },
     "execution_count": 25,
     "metadata": {},
     "output_type": "execute_result"
    }
   ],
   "source": [
    "pd.DataFrame.from_dict(sfs.get_metric_dict()).T\n"
   ]
  },
  {
   "cell_type": "code",
   "execution_count": 28,
   "metadata": {},
   "outputs": [
    {
     "data": {
      "text/plain": [
       "(<Figure size 432x288 with 1 Axes>,\n",
       " <matplotlib.axes._subplots.AxesSubplot at 0x295d3b099c8>)"
      ]
     },
     "execution_count": 28,
     "metadata": {},
     "output_type": "execute_result"
    },
    {
     "data": {
      "image/png": "[encoded data removed]",
      "text/plain": [
       "<Figure size 432x288 with 1 Axes>"
      ]
     },
     "metadata": {
      "needs_background": "light"
     },
     "output_type": "display_data"
    }
   ],
   "source": [
    "plot_sfs(sfs.get_metric_dict(), kind='std_dev')"
   ]
  },
  {
   "cell_type": "markdown",
   "metadata": {},
   "source": [
    "## Step Backward feature selection"
   ]
  },
  {
   "cell_type": "code",
   "execution_count": 17,
   "metadata": {},
   "outputs": [
    {
     "name": "stderr",
     "output_type": "stream",
     "text": [
      "[Parallel(n_jobs=-1)]: Using backend LokyBackend with 4 concurrent workers.\n",
      "[Parallel(n_jobs=-1)]: Done  12 out of  12 | elapsed:   21.8s remaining:    0.0s\n",
      "[Parallel(n_jobs=-1)]: Done  12 out of  12 | elapsed:   21.8s finished\n",
      "\n",
      "[2020-03-15 20:34:55] Features: 11/1 -- score: 0.5206225215347657[Parallel(n_jobs=-1)]: Using backend LokyBackend with 4 concurrent workers.\n",
      "[Parallel(n_jobs=-1)]: Done  11 out of  11 | elapsed:   24.7s finished\n",
      "\n",
      "[2020-03-15 20:35:20] Features: 10/1 -- score: 0.5228411502940018[Parallel(n_jobs=-1)]: Using backend LokyBackend with 4 concurrent workers.\n",
      "[Parallel(n_jobs=-1)]: Done  10 out of  10 | elapsed:   24.6s finished\n",
      "\n",
      "[2020-03-15 20:35:45] Features: 9/1 -- score: 0.5228462063955946[Parallel(n_jobs=-1)]: Using backend LokyBackend with 4 concurrent workers.\n",
      "[Parallel(n_jobs=-1)]: Done   7 out of   9 | elapsed:   14.6s remaining:    4.2s\n",
      "[Parallel(n_jobs=-1)]: Done   9 out of   9 | elapsed:   18.9s finished\n",
      "\n",
      "[2020-03-15 20:36:04] Features: 8/1 -- score: 0.523728683085503[Parallel(n_jobs=-1)]: Using backend LokyBackend with 4 concurrent workers.\n",
      "[Parallel(n_jobs=-1)]: Done   6 out of   8 | elapsed:   16.0s remaining:    5.3s\n",
      "[Parallel(n_jobs=-1)]: Done   8 out of   8 | elapsed:   16.1s finished\n",
      "\n",
      "[2020-03-15 20:36:20] Features: 7/1 -- score: 0.5069892150589239[Parallel(n_jobs=-1)]: Using backend LokyBackend with 4 concurrent workers.\n",
      "[Parallel(n_jobs=-1)]: Done   4 out of   7 | elapsed:    8.1s remaining:    6.0s\n",
      "[Parallel(n_jobs=-1)]: Done   7 out of   7 | elapsed:   14.0s finished\n",
      "\n",
      "[2020-03-15 20:36:34] Features: 6/1 -- score: 0.49953397700270397[Parallel(n_jobs=-1)]: Using backend LokyBackend with 4 concurrent workers.\n",
      "[Parallel(n_jobs=-1)]: Done   3 out of   6 | elapsed:    9.2s remaining:    9.2s\n",
      "[Parallel(n_jobs=-1)]: Done   6 out of   6 | elapsed:   13.4s finished\n",
      "\n",
      "[2020-03-15 20:36:47] Features: 5/1 -- score: 0.4624645910312886[Parallel(n_jobs=-1)]: Using backend LokyBackend with 4 concurrent workers.\n",
      "[Parallel(n_jobs=-1)]: Done   5 out of   5 | elapsed:   12.6s finished\n",
      "\n",
      "[2020-03-15 20:37:00] Features: 4/1 -- score: 0.41431387644643525[Parallel(n_jobs=-1)]: Using backend LokyBackend with 4 concurrent workers.\n",
      "[Parallel(n_jobs=-1)]: Done   4 out of   4 | elapsed:    6.4s finished\n",
      "\n",
      "[2020-03-15 20:37:06] Features: 3/1 -- score: 0.3459717989837073[Parallel(n_jobs=-1)]: Using backend LokyBackend with 4 concurrent workers.\n",
      "[Parallel(n_jobs=-1)]: Done   3 out of   3 | elapsed:    5.6s finished\n",
      "\n",
      "[2020-03-15 20:37:12] Features: 2/1 -- score: 0.23669842906435784[Parallel(n_jobs=-1)]: Using backend LokyBackend with 4 concurrent workers.\n",
      "[Parallel(n_jobs=-1)]: Done   2 out of   2 | elapsed:    2.8s finished\n",
      "\n",
      "[2020-03-15 20:37:14] Features: 1/1 -- score: 0.11196393942822808"
     ]
    }
   ],
   "source": [
    "sbs = SFS(RandomForestClassifier(n_estimators=100, random_state=0, n_jobs = -1),\n",
    "         k_features = (1, 8),\n",
    "          forward= False,\n",
    "          floating = False,\n",
    "          verbose= 2,\n",
    "          scoring= 'accuracy',\n",
    "          cv = 4,\n",
    "          n_jobs= -1\n",
    "         ).fit(X_train, y_train)\n"
   ]
  },
  {
   "cell_type": "code",
   "execution_count": 18,
   "metadata": {},
   "outputs": [
    {
     "data": {
      "text/plain": [
       "0.523728683085503"
      ]
     },
     "execution_count": 18,
     "metadata": {},
     "output_type": "execute_result"
    }
   ],
   "source": [
    "sbs.k_score_\n"
   ]
  },
  {
   "cell_type": "code",
   "execution_count": 19,
   "metadata": {},
   "outputs": [
    {
     "data": {
      "text/plain": [
       "('RangeY', 'RangeZ', 'MeanX', 'MeanY', 'MeanZ', 'VarX', 'VarY', 'VarZ')"
      ]
     },
     "execution_count": 19,
     "metadata": {},
     "output_type": "execute_result"
    }
   ],
   "source": [
    "sbs.k_feature_names_\n"
   ]
  },
  {
   "cell_type": "markdown",
   "metadata": {},
   "source": [
    "## Exhaustive feature selection"
   ]
  },
  {
   "cell_type": "code",
   "execution_count": 20,
   "metadata": {},
   "outputs": [],
   "source": [
    "from mlxtend.feature_selection import ExhaustiveFeatureSelector as EFS\n"
   ]
  },
  {
   "cell_type": "code",
   "execution_count": 21,
   "metadata": {},
   "outputs": [
    {
     "name": "stderr",
     "output_type": "stream",
     "text": [
      "/home/mirsahib/anaconda3/lib/python3.7/site-packages/joblib/externals/loky/process_executor.py:706: UserWarning: A worker stopped while some jobs were given to the executor. This can be caused by a too short worker timeout or by a memory leak.\n",
      "  \"timeout or by a memory leak.\", UserWarning\n",
      "Features: 3003/3003"
     ]
    }
   ],
   "source": [
    "efs = EFS(RandomForestClassifier(n_estimators=100, random_state=0, n_jobs=-1),\n",
    "         min_features= 4,\n",
    "          max_features= 7,\n",
    "          scoring='accuracy',\n",
    "          cv = None,\n",
    "          n_jobs=-1\n",
    "         ).fit(X_train, y_train)\n"
   ]
  },
  {
   "cell_type": "code",
   "execution_count": 22,
   "metadata": {},
   "outputs": [
    {
     "name": "stdout",
     "output_type": "stream",
     "text": [
      "Help on ExhaustiveFeatureSelector in module mlxtend.feature_selection.exhaustive_feature_selector object:\n",
      "\n",
      "class ExhaustiveFeatureSelector(sklearn.base.BaseEstimator, sklearn.base.MetaEstimatorMixin)\n",
      " |  ExhaustiveFeatureSelector(estimator, min_features=1, max_features=1, print_progress=True, scoring='accuracy', cv=5, n_jobs=1, pre_dispatch='2*n_jobs', clone_estimator=True)\n",
      " |  \n",
      " |  Exhaustive Feature Selection for Classification and Regression.\n",
      " |     (new in v0.4.3)\n",
      " |  \n",
      " |  Parameters\n",
      " |  ----------\n",
      " |  estimator : scikit-learn classifier or regressor\n",
      " |  min_features : int (default: 1)\n",
      " |      Minumum number of features to select\n",
      " |  max_features : int (default: 1)\n",
      " |      Maximum number of features to select\n",
      " |  print_progress : bool (default: True)\n",
      " |      Prints progress as the number of epochs\n",
      " |      to stderr.\n",
      " |  scoring : str, (default='accuracy')\n",
      " |      Scoring metric in {accuracy, f1, precision, recall, roc_auc}\n",
      " |      for classifiers,\n",
      " |      {'mean_absolute_error', 'mean_squared_error',\n",
      " |      'median_absolute_error', 'r2'} for regressors,\n",
      " |      or a callable object or function with\n",
      " |      signature ``scorer(estimator, X, y)``.\n",
      " |  cv : int (default: 5)\n",
      " |      Scikit-learn cross-validation generator or `int`.\n",
      " |      If estimator is a classifier (or y consists of integer class labels),\n",
      " |      stratified k-fold is performed, and regular k-fold cross-validation\n",
      " |      otherwise.\n",
      " |      No cross-validation if cv is None, False, or 0.\n",
      " |  n_jobs : int (default: 1)\n",
      " |      The number of CPUs to use for evaluating different feature subsets\n",
      " |      in parallel. -1 means 'all CPUs'.\n",
      " |  pre_dispatch : int, or string (default: '2*n_jobs')\n",
      " |      Controls the number of jobs that get dispatched\n",
      " |      during parallel execution if `n_jobs > 1` or `n_jobs=-1`.\n",
      " |      Reducing this number can be useful to avoid an explosion of\n",
      " |      memory consumption when more jobs get dispatched than CPUs can process.\n",
      " |      This parameter can be:\n",
      " |      None, in which case all the jobs are immediately created and spawned.\n",
      " |          Use this for lightweight and fast-running jobs,\n",
      " |          to avoid delays due to on-demand spawning of the jobs\n",
      " |      An int, giving the exact number of total jobs that are spawned\n",
      " |      A string, giving an expression as a function\n",
      " |          of n_jobs, as in `2*n_jobs`\n",
      " |  clone_estimator : bool (default: True)\n",
      " |      Clones estimator if True; works with the original estimator instance\n",
      " |      if False. Set to False if the estimator doesn't\n",
      " |      implement scikit-learn's set_params and get_params methods.\n",
      " |      In addition, it is required to set cv=0, and n_jobs=1.\n",
      " |  \n",
      " |  Attributes\n",
      " |  ----------\n",
      " |  best_idx_ : array-like, shape = [n_predictions]\n",
      " |      Feature Indices of the selected feature subsets.\n",
      " |  best_feature_names_ : array-like, shape = [n_predictions]\n",
      " |      Feature names of the selected feature subsets. If pandas\n",
      " |      DataFrames are used in the `fit` method, the feature\n",
      " |      names correspond to the column names. Otherwise, the\n",
      " |      feature names are string representation of the feature\n",
      " |      array indices. New in v 0.13.0.\n",
      " |  best_score_ : float\n",
      " |      Cross validation average score of the selected subset.\n",
      " |  subsets_ : dict\n",
      " |      A dictionary of selected feature subsets during the\n",
      " |      exhaustive selection, where the dictionary keys are\n",
      " |      the lengths k of these feature subsets. The dictionary\n",
      " |      values are dictionaries themselves with the following\n",
      " |      keys: 'feature_idx' (tuple of indices of the feature subset)\n",
      " |            'feature_names' (tuple of feature names of the feat. subset)\n",
      " |            'cv_scores' (list individual cross-validation scores)\n",
      " |            'avg_score' (average cross-validation score)\n",
      " |      Note that if pandas\n",
      " |      DataFrames are used in the `fit` method, the 'feature_names'\n",
      " |      correspond to the column names. Otherwise, the\n",
      " |      feature names are string representation of the feature\n",
      " |      array indices. The 'feature_names' is new in v 0.13.0.\n",
      " |  \n",
      " |  Examples\n",
      " |  -----------\n",
      " |  For usage examples, please see\n",
      " |  http://rasbt.github.io/mlxtend/user_guide/feature_selection/ExhaustiveFeatureSelector/\n",
      " |  \n",
      " |  Method resolution order:\n",
      " |      ExhaustiveFeatureSelector\n",
      " |      sklearn.base.BaseEstimator\n",
      " |      sklearn.base.MetaEstimatorMixin\n",
      " |      builtins.object\n",
      " |  \n",
      " |  Methods defined here:\n",
      " |  \n",
      " |  __init__(self, estimator, min_features=1, max_features=1, print_progress=True, scoring='accuracy', cv=5, n_jobs=1, pre_dispatch='2*n_jobs', clone_estimator=True)\n",
      " |      Initialize self.  See help(type(self)) for accurate signature.\n",
      " |  \n",
      " |  fit(self, X, y, custom_feature_names=None, groups=None, **fit_params)\n",
      " |      Perform feature selection and learn model from training data.\n",
      " |      \n",
      " |      Parameters\n",
      " |      ----------\n",
      " |      X : {array-like, sparse matrix}, shape = [n_samples, n_features]\n",
      " |          Training vectors, where n_samples is the number of samples and\n",
      " |          n_features is the number of features.\n",
      " |          New in v 0.13.0: pandas DataFrames are now also accepted as\n",
      " |          argument for X.\n",
      " |      y : array-like, shape = [n_samples]\n",
      " |          Target values.\n",
      " |      custom_feature_names : None or tuple (default: tuple)\n",
      " |          Custom feature names for `self.k_feature_names` and\n",
      " |          `self.subsets_[i]['feature_names']`.\n",
      " |          (new in v 0.13.0)\n",
      " |      groups : array-like, with shape (n_samples,), optional\n",
      " |          Group labels for the samples used while splitting the dataset into\n",
      " |          train/test set. Passed to the fit method of the cross-validator.\n",
      " |      fit_params : dict of string -> object, optional\n",
      " |          Parameters to pass to to the fit method of classifier.\n",
      " |      \n",
      " |      Returns\n",
      " |      -------\n",
      " |      self : object\n",
      " |  \n",
      " |  fit_transform(self, X, y, groups=None, **fit_params)\n",
      " |      Fit to training data and return the best selected features from X.\n",
      " |      \n",
      " |      Parameters\n",
      " |      ----------\n",
      " |      X : {array-like, sparse matrix}, shape = [n_samples, n_features]\n",
      " |          Training vectors, where n_samples is the number of samples and\n",
      " |          n_features is the number of features.\n",
      " |          New in v 0.13.0: pandas DataFrames are now also accepted as\n",
      " |          argument for X.\n",
      " |      y : array-like, shape = [n_samples]\n",
      " |          Target values.\n",
      " |      groups : array-like, with shape (n_samples,), optional\n",
      " |          Group labels for the samples used while splitting the dataset into\n",
      " |          train/test set. Passed to the fit method of the cross-validator.\n",
      " |      fit_params : dict of string -> object, optional\n",
      " |          Parameters to pass to to the fit method of classifier.\n",
      " |      \n",
      " |      Returns\n",
      " |      -------\n",
      " |      Feature subset of X, shape={n_samples, k_features}\n",
      " |  \n",
      " |  get_metric_dict(self, confidence_interval=0.95)\n",
      " |      Return metric dictionary\n",
      " |      \n",
      " |      Parameters\n",
      " |      ----------\n",
      " |      confidence_interval : float (default: 0.95)\n",
      " |          A positive float between 0.0 and 1.0 to compute the confidence\n",
      " |          interval bounds of the CV score averages.\n",
      " |      \n",
      " |      Returns\n",
      " |      ----------\n",
      " |      Dictionary with items where each dictionary value is a list\n",
      " |      with the number of iterations (number of feature subsets) as\n",
      " |      its length. The dictionary keys corresponding to these lists\n",
      " |      are as follows:\n",
      " |          'feature_idx': tuple of the indices of the feature subset\n",
      " |          'cv_scores': list with individual CV scores\n",
      " |          'avg_score': of CV average scores\n",
      " |          'std_dev': standard deviation of the CV score average\n",
      " |          'std_err': standard error of the CV score average\n",
      " |          'ci_bound': confidence interval bound of the CV score average\n",
      " |  \n",
      " |  transform(self, X)\n",
      " |      Return the best selected features from X.\n",
      " |      \n",
      " |      Parameters\n",
      " |      ----------\n",
      " |      X : {array-like, sparse matrix}, shape = [n_samples, n_features]\n",
      " |          Training vectors, where n_samples is the number of samples and\n",
      " |          n_features is the number of features.\n",
      " |          New in v 0.13.0: pandas DataFrames are now also accepted as\n",
      " |          argument for X.\n",
      " |      \n",
      " |      Returns\n",
      " |      -------\n",
      " |      Feature subset of X, shape={n_samples, k_features}\n",
      " |  \n",
      " |  ----------------------------------------------------------------------\n",
      " |  Methods inherited from sklearn.base.BaseEstimator:\n",
      " |  \n",
      " |  __getstate__(self)\n",
      " |  \n",
      " |  __repr__(self, N_CHAR_MAX=700)\n",
      " |      Return repr(self).\n",
      " |  \n",
      " |  __setstate__(self, state)\n",
      " |  \n",
      " |  get_params(self, deep=True)\n",
      " |      Get parameters for this estimator.\n",
      " |      \n",
      " |      Parameters\n",
      " |      ----------\n",
      " |      deep : boolean, optional\n",
      " |          If True, will return the parameters for this estimator and\n",
      " |          contained subobjects that are estimators.\n",
      " |      \n",
      " |      Returns\n",
      " |      -------\n",
      " |      params : mapping of string to any\n",
      " |          Parameter names mapped to their values.\n",
      " |  \n",
      " |  set_params(self, **params)\n",
      " |      Set the parameters of this estimator.\n",
      " |      \n",
      " |      The method works on simple estimators as well as on nested objects\n",
      " |      (such as pipelines). The latter have parameters of the form\n",
      " |      ``<component>__<parameter>`` so that it's possible to update each\n",
      " |      component of a nested object.\n",
      " |      \n",
      " |      Returns\n",
      " |      -------\n",
      " |      self\n",
      " |  \n",
      " |  ----------------------------------------------------------------------\n",
      " |  Data descriptors inherited from sklearn.base.BaseEstimator:\n",
      " |  \n",
      " |  __dict__\n",
      " |      dictionary for instance variables (if defined)\n",
      " |  \n",
      " |  __weakref__\n",
      " |      list of weak references to the object (if defined)\n",
      "\n"
     ]
    }
   ],
   "source": [
    "help(efs)\n"
   ]
  },
  {
   "cell_type": "code",
   "execution_count": 23,
   "metadata": {},
   "outputs": [
    {
     "data": {
      "text/plain": [
       "1.0"
      ]
     },
     "execution_count": 23,
     "metadata": {},
     "output_type": "execute_result"
    }
   ],
   "source": [
    "efs.best_score_\n"
   ]
  },
  {
   "cell_type": "code",
   "execution_count": 24,
   "metadata": {},
   "outputs": [
    {
     "data": {
      "text/plain": [
       "('RangeX', 'RangeY', 'RangeZ', 'MeanX')"
      ]
     },
     "execution_count": 24,
     "metadata": {},
     "output_type": "execute_result"
    }
   ],
   "source": [
    "efs.best_feature_names_\n"
   ]
  },
  {
   "cell_type": "code",
   "execution_count": 25,
   "metadata": {},
   "outputs": [],
   "source": [
    "from mlxtend.plotting import plot_sequential_feature_selection as plot_sfs\n"
   ]
  },
  {
   "cell_type": "code",
   "execution_count": 26,
   "metadata": {},
   "outputs": [
    {
     "name": "stderr",
     "output_type": "stream",
     "text": [
      "/home/mirsahib/anaconda3/lib/python3.7/site-packages/numpy/core/_methods.py:217: RuntimeWarning: Degrees of freedom <= 0 for slice\n",
      "  keepdims=keepdims)\n",
      "/home/mirsahib/anaconda3/lib/python3.7/site-packages/numpy/core/_methods.py:209: RuntimeWarning: invalid value encountered in double_scalars\n",
      "  ret = ret.dtype.type(ret / rcount)\n"
     ]
    },
    {
     "data": {
      "text/plain": [
       "(<Figure size 432x288 with 1 Axes>,\n",
       " <matplotlib.axes._subplots.AxesSubplot at 0x7f824ccbcf10>)"
      ]
     },
     "execution_count": 26,
     "metadata": {},
     "output_type": "execute_result"
    },
    {
     "data": {
      "image/png": "[encoded data removed]",
      "text/plain": [
       "<Figure size 432x288 with 1 Axes>"
      ]
     },
     "metadata": {
      "needs_background": "light"
     },
     "output_type": "display_data"
    }
   ],
   "source": [
    "plot_sfs(efs.get_metric_dict(), kind='std_dev')\n"
   ]
  },
  {
   "cell_type": "code",
   "execution_count": null,
   "metadata": {},
   "outputs": [],
   "source": []
  }
 ],
 "metadata": {
  "kernelspec": {
   "display_name": "Python 3",
   "language": "python",
   "name": "python3"
  },
  "language_info": {
   "codemirror_mode": {
    "name": "ipython",
    "version": 3
   },
   "file_extension": ".py",
   "mimetype": "text/x-python",
   "name": "python",
   "nbconvert_exporter": "python",
   "pygments_lexer": "ipython3",
   "version": "3.7.4"
  }
 },
 "nbformat": 4,
 "nbformat_minor": 2
}
