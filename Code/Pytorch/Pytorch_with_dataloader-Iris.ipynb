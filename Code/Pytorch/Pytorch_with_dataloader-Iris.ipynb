{
 "cells": [
  {
   "cell_type": "code",
   "execution_count": 116,
   "metadata": {},
   "outputs": [],
   "source": [
    "import torch\n",
    "import torchvision\n",
    "import numpy as np\n",
    "import pandas as pd\n",
    "from torch.utils.data import Dataset,DataLoader\n",
    "from sklearn.model_selection import train_test_split\n",
    "from sklearn import preprocessing\n",
    "from torch import nn, optim\n",
    "import torch.nn.functional as F\n",
    "from torch.autograd import Variable\n",
    "import os"
   ]
  },
  {
   "cell_type": "code",
   "execution_count": 117,
   "metadata": {},
   "outputs": [],
   "source": [
    "path = os.getcwd()+'\\iris.csv'"
   ]
  },
  {
   "cell_type": "code",
   "execution_count": 118,
   "metadata": {},
   "outputs": [
    {
     "data": {
      "text/plain": [
       "array([0, 1, 2], dtype=int64)"
      ]
     },
     "execution_count": 118,
     "metadata": {},
     "output_type": "execute_result"
    }
   ],
   "source": [
    "dataset = pd.read_csv(path)\n",
    "\n",
    "label_encoder = preprocessing.LabelEncoder() \n",
    "  \n",
    "# Encode labels in column 'species'. \n",
    "dataset['variety']= label_encoder.fit_transform(dataset['variety']) \n",
    "  \n",
    "dataset['variety'].unique() \n"
   ]
  },
  {
   "cell_type": "code",
   "execution_count": 119,
   "metadata": {},
   "outputs": [],
   "source": [
    "X = dataset.drop('variety',axis=1)\n",
    "y = dataset['variety']"
   ]
  },
  {
   "cell_type": "code",
   "execution_count": 120,
   "metadata": {},
   "outputs": [],
   "source": [
    "X_train, X_test, y_train, y_test = train_test_split(X, y, test_size=0.33, random_state=42)"
   ]
  },
  {
   "cell_type": "code",
   "execution_count": 121,
   "metadata": {},
   "outputs": [],
   "source": [
    "trainset = pd.concat([X_train,y_train],axis=1)\n",
    "testset = pd.concat([X_test,y_test],axis=1)"
   ]
  },
  {
   "cell_type": "code",
   "execution_count": 122,
   "metadata": {},
   "outputs": [],
   "source": [
    "class MSRDataset(Dataset):\n",
    "    def __init__(self,data):\n",
    "        self.len = data.shape[0]\n",
    "        self.x_data = torch.from_numpy(data.drop('variety',axis=1).to_numpy()).float()\n",
    "        self.y_data = torch.from_numpy(data['variety'].to_numpy()).type(torch.LongTensor)\n",
    "    \n",
    "    def __getitem__(self,index):\n",
    "        return self.x_data[index],self.y_data[index]\n",
    "    \n",
    "    def __len__(self):\n",
    "        return self.len"
   ]
  },
  {
   "cell_type": "code",
   "execution_count": 123,
   "metadata": {},
   "outputs": [],
   "source": [
    "train_data = MSRDataset(trainset)\n",
    "test_data = MSRDataset(testset)"
   ]
  },
  {
   "cell_type": "code",
   "execution_count": 124,
   "metadata": {},
   "outputs": [],
   "source": [
    "trainloader = DataLoader(dataset=train_data,batch_size=8,shuffle=True,num_workers=0)\n",
    "testloader = DataLoader(dataset=test_data,batch_size=8,shuffle=True,num_workers=0)\n"
   ]
  },
  {
   "cell_type": "code",
   "execution_count": 125,
   "metadata": {},
   "outputs": [],
   "source": [
    "class Net(nn.Module):\n",
    "    def __init__(self):\n",
    "        super(Net, self).__init__()\n",
    "        self.fc1 = nn.Linear(4, 50)\n",
    "        self.fc2 = nn.Linear(50, 20)\n",
    "        self.fc3 = nn.Linear(20, 3)\n",
    "    def forward(self, x):\n",
    "        x = F.relu(self.fc1(x))\n",
    "        x = F.relu(self.fc2(x))\n",
    "        x = F.softmax(self.fc3(x),dim=1)\n",
    "        return x"
   ]
  },
  {
   "cell_type": "code",
   "execution_count": 130,
   "metadata": {},
   "outputs": [],
   "source": [
    "net = Net()"
   ]
  },
  {
   "cell_type": "code",
   "execution_count": 131,
   "metadata": {},
   "outputs": [],
   "source": [
    "criterion = nn.CrossEntropyLoss()\n",
    "optimizer = optim.Adam(net.parameters(),lr=0.001)"
   ]
  },
  {
   "cell_type": "code",
   "execution_count": 132,
   "metadata": {},
   "outputs": [
    {
     "name": "stdout",
     "output_type": "stream",
     "text": [
      "Accuracy on trainset epoch 0 : 25.0  loss  1.0661256313323975\n",
      "Accuracy on trainset epoch 10 : 25.0  loss  1.0670506954193115\n",
      "Accuracy on trainset epoch 20 : 50.0  loss  0.7587454319000244\n",
      "Accuracy on trainset epoch 30 : 62.5  loss  0.6533069014549255\n",
      "Accuracy on trainset epoch 40 : 65.0  loss  0.8223469257354736\n",
      "Accuracy on trainset epoch 50 : 70.8  loss  0.6673305034637451\n",
      "Accuracy on trainset epoch 60 : 75.0  loss  0.5731071829795837\n",
      "Accuracy on trainset epoch 70 : 78.10000000000001  loss  0.5587584376335144\n",
      "Accuracy on trainset epoch 80 : 80.60000000000001  loss  0.5561586618423462\n",
      "Accuracy on trainset epoch 90 : 82.5  loss  0.5539840459823608\n"
     ]
    }
   ],
   "source": [
    "import pdb\n",
    "correct = 0\n",
    "total = 0\n",
    "for epoch in range(100):\n",
    "    for i,data in enumerate(trainloader):\n",
    "        inputs,labels = data\n",
    "        inputs,labels = Variable(inputs),Variable(labels)\n",
    "        optimizer.zero_grad()\n",
    "        output = net(inputs)\n",
    "        #pdb.set_trace()\n",
    "        loss = criterion(output,labels)\n",
    "        loss.backward()\n",
    "        optimizer.step()\n",
    "    if epoch %10 == 0:\n",
    "        for idx,i in enumerate(output):\n",
    "            if torch.argmax(i) == labels[idx]:\n",
    "                correct+=1\n",
    "            total+=1\n",
    "        print('Accuracy on trainset epoch',epoch,':',round(correct/total,3)*100,' loss ',loss.item())\n",
    "        "
   ]
  },
  {
   "cell_type": "code",
   "execution_count": 133,
   "metadata": {},
   "outputs": [
    {
     "name": "stdout",
     "output_type": "stream",
     "text": [
      "Accuracy  98.0\n"
     ]
    }
   ],
   "source": [
    "correct = 0\n",
    "total = 0\n",
    "with torch.no_grad():\n",
    "    for data in testloader:\n",
    "        inputs,labels = data\n",
    "        inputs,labels = Variable(inputs),Variable(labels)\n",
    "        #pdb.set_trace()\n",
    "        output = net(inputs)\n",
    "        for idx, i in enumerate(output):\n",
    "            #pdb.set_trace()\n",
    "            if torch.argmax(i) == labels[idx]:\n",
    "                correct+=1\n",
    "            total+=1\n",
    "#\n",
    "print('Accuracy ', round(correct/total,3)*100)"
   ]
  },
  {
   "cell_type": "code",
   "execution_count": null,
   "metadata": {},
   "outputs": [],
   "source": []
  }
 ],
 "metadata": {
  "kernelspec": {
   "display_name": "Python 3",
   "language": "python",
   "name": "python3"
  },
  "language_info": {
   "codemirror_mode": {
    "name": "ipython",
    "version": 3
   },
   "file_extension": ".py",
   "mimetype": "text/x-python",
   "name": "python",
   "nbconvert_exporter": "python",
   "pygments_lexer": "ipython3",
   "version": "3.7.4"
  }
 },
 "nbformat": 4,
 "nbformat_minor": 2
}
