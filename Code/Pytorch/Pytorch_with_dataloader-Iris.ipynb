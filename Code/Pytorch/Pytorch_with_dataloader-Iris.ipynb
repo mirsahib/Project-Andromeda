{
 "cells": [
  {
   "cell_type": "code",
   "execution_count": 393,
   "metadata": {},
   "outputs": [],
   "source": [
    "import torch\n",
    "import torchvision\n",
    "import numpy as np\n",
    "import pandas as pd\n",
    "from torch.utils.data import Dataset,DataLoader\n",
    "from sklearn.model_selection import train_test_split\n",
    "from sklearn import preprocessing\n",
    "from torch import nn, optim\n",
    "import torch.nn.functional as F\n",
    "from torch.autograd import Variable\n",
    "import os\n",
    "import matplotlib.pyplot as plt\n"
   ]
  },
  {
   "cell_type": "code",
   "execution_count": 394,
   "metadata": {},
   "outputs": [],
   "source": [
    "path = os.getcwd()+'\\iris.csv'"
   ]
  },
  {
   "cell_type": "code",
   "execution_count": 395,
   "metadata": {},
   "outputs": [
    {
     "data": {
      "text/plain": [
       "array([0, 1, 2], dtype=int64)"
      ]
     },
     "execution_count": 395,
     "metadata": {},
     "output_type": "execute_result"
    }
   ],
   "source": [
    "dataset = pd.read_csv(path)\n",
    "\n",
    "label_encoder = preprocessing.LabelEncoder() \n",
    "  \n",
    "# Encode labels in column 'species'. \n",
    "dataset['variety']= label_encoder.fit_transform(dataset['variety']) \n",
    "  \n",
    "dataset['variety'].unique() \n"
   ]
  },
  {
   "cell_type": "code",
   "execution_count": 396,
   "metadata": {},
   "outputs": [],
   "source": [
    "X = dataset.drop('variety',axis=1)\n",
    "y = dataset['variety']"
   ]
  },
  {
   "cell_type": "code",
   "execution_count": 397,
   "metadata": {},
   "outputs": [],
   "source": [
    "X_train, X_test, y_train, y_test = train_test_split(X, y, test_size=0.33, random_state=42)"
   ]
  },
  {
   "cell_type": "code",
   "execution_count": 398,
   "metadata": {},
   "outputs": [],
   "source": [
    "trainset = pd.concat([X_train,y_train],axis=1)\n",
    "testset = pd.concat([X_test,y_test],axis=1)"
   ]
  },
  {
   "cell_type": "code",
   "execution_count": 399,
   "metadata": {},
   "outputs": [],
   "source": [
    "class MSRDataset(Dataset):\n",
    "    def __init__(self,data):\n",
    "        self.len = data.shape[0]\n",
    "        self.x_data = torch.from_numpy(data.drop('variety',axis=1).to_numpy()).float()\n",
    "        self.y_data = torch.from_numpy(data['variety'].to_numpy()).type(torch.LongTensor)\n",
    "    \n",
    "    def __getitem__(self,index):\n",
    "        return self.x_data[index],self.y_data[index]\n",
    "    \n",
    "    def __len__(self):\n",
    "        return self.len"
   ]
  },
  {
   "cell_type": "code",
   "execution_count": 400,
   "metadata": {},
   "outputs": [],
   "source": [
    "train_data = MSRDataset(trainset)\n",
    "test_data = MSRDataset(testset)"
   ]
  },
  {
   "cell_type": "code",
   "execution_count": 401,
   "metadata": {},
   "outputs": [],
   "source": [
    "trainloader = DataLoader(dataset=train_data,batch_size=16,shuffle=True,num_workers=0)\n",
    "testloader = DataLoader(dataset=test_data,batch_size=16,shuffle=True,num_workers=0)\n"
   ]
  },
  {
   "cell_type": "code",
   "execution_count": 402,
   "metadata": {},
   "outputs": [],
   "source": [
    "class Model(nn.Module):\n",
    "    def __init__(self):\n",
    "        super(Model, self).__init__()\n",
    "        self.fc1 = nn.Linear(4, 50)\n",
    "        self.fc2 = nn.Linear(50, 20)\n",
    "        self.fc3 = nn.Linear(20, 3)\n",
    "    def forward(self, x):\n",
    "        x = F.relu(self.fc1(x))\n",
    "        x = F.relu(self.fc2(x))\n",
    "        x = F.softmax(self.fc3(x),dim=1)\n",
    "        return x"
   ]
  },
  {
   "cell_type": "code",
   "execution_count": 403,
   "metadata": {},
   "outputs": [],
   "source": [
    "model = Model()"
   ]
  },
  {
   "cell_type": "code",
   "execution_count": 404,
   "metadata": {},
   "outputs": [],
   "source": [
    "criterion = nn.CrossEntropyLoss()\n",
    "optimizer = optim.Adam(model.parameters(),lr=0.001)"
   ]
  },
  {
   "cell_type": "code",
   "execution_count": 405,
   "metadata": {},
   "outputs": [
    {
     "data": {
      "text/plain": [
       "1280"
      ]
     },
     "execution_count": 405,
     "metadata": {},
     "output_type": "execute_result"
    }
   ],
   "source": [
    "N_s = trainset.shape[0] #Nₛ the number of samples in the training data\n",
    "# batch_size, epoch and iteration\n",
    "batch_size = 16\n",
    "n_iters = 8000\n",
    "num_epochs = n_iters / (N_s / batch_size)\n",
    "num_epochs = int(num_epochs)\n",
    "num_epochs"
   ]
  },
  {
   "cell_type": "code",
   "execution_count": 406,
   "metadata": {},
   "outputs": [
    {
     "name": "stdout",
     "output_type": "stream",
     "text": [
      "Iteration: 500  Loss: 0.5866069197654724  Accuracy: 98.0 %\n",
      "Iteration: 1000  Loss: 0.5558986663818359  Accuracy: 98.0 %\n",
      "Iteration: 1500  Loss: 0.5567622780799866  Accuracy: 98.0 %\n",
      "Iteration: 2000  Loss: 0.5522611141204834  Accuracy: 98.0 %\n",
      "Iteration: 2500  Loss: 0.5760209560394287  Accuracy: 98.0 %\n",
      "Iteration: 3000  Loss: 0.6307615041732788  Accuracy: 92.0 %\n",
      "Iteration: 3500  Loss: 0.5515527725219727  Accuracy: 98.0 %\n",
      "Iteration: 4000  Loss: 0.5515966415405273  Accuracy: 100.0 %\n",
      "Iteration: 4500  Loss: 0.6180377006530762  Accuracy: 98.0 %\n",
      "Iteration: 5000  Loss: 0.5563547611236572  Accuracy: 98.0 %\n",
      "Iteration: 5500  Loss: 0.5515092015266418  Accuracy: 98.0 %\n",
      "Iteration: 6000  Loss: 0.5777202844619751  Accuracy: 98.0 %\n",
      "Iteration: 6500  Loss: 0.5629585385322571  Accuracy: 98.0 %\n",
      "Iteration: 7000  Loss: 0.5528325438499451  Accuracy: 98.0 %\n",
      "Iteration: 7500  Loss: 0.623670220375061  Accuracy: 98.0 %\n",
      "Iteration: 8000  Loss: 0.5515069961547852  Accuracy: 98.0 %\n",
      "Iteration: 8500  Loss: 0.5525204539299011  Accuracy: 96.0 %\n"
     ]
    }
   ],
   "source": [
    "loss_list = []\n",
    "ite_list = []\n",
    "accuracy_list = []\n",
    "count=0\n",
    "for epoch in range(num_epochs):\n",
    "    for i,data in enumerate(trainloader):\n",
    "        inputs,labels = data\n",
    "        inputs,labels = Variable(inputs),Variable(labels)\n",
    "        #pdb.set_trace()\n",
    "        output = model(inputs)\n",
    "        loss = criterion(output,labels)\n",
    "        optimizer.zero_grad()\n",
    "        loss.backward()\n",
    "        optimizer.step()\n",
    "        count+=1\n",
    "        #print(\"loss\",loss.data)\n",
    "        if count %250 == 0:\n",
    "            loss_list.append(loss.data)\n",
    "            ite_list.append(count)\n",
    "            correct = 0\n",
    "            total = 0\n",
    "            with torch.no_grad():\n",
    "                for data in testloader:\n",
    "                    inputs,labels = data\n",
    "                    inputs,labels = Variable(inputs),Variable(labels)\n",
    "                    output = model(inputs)\n",
    "                    predicted = torch.max(output.data, 1)[1]\n",
    "                    total += labels.size(0)\n",
    "                    correct += (predicted == labels).sum()\n",
    "                    #pdb.set_trace()\n",
    "            accuracy = 100 * correct / float(total)\n",
    "            accuracy_list.append(accuracy)\n",
    "            if count % 500 == 0:\n",
    "                print('Iteration: {}  Loss: {}  Accuracy: {} %'.format(count, loss.data, accuracy))\n",
    "        "
   ]
  },
  {
   "cell_type": "code",
   "execution_count": 407,
   "metadata": {},
   "outputs": [
    {
     "data": {
      "image/png": "[encoded data removed]",
      "text/plain": [
       "<Figure size 432x288 with 1 Axes>"
      ]
     },
     "metadata": {
      "needs_background": "light"
     },
     "output_type": "display_data"
    },
    {
     "data": {
      "image/png": "[encoded data removed]",
      "text/plain": [
       "<Figure size 432x288 with 1 Axes>"
      ]
     },
     "metadata": {
      "needs_background": "light"
     },
     "output_type": "display_data"
    }
   ],
   "source": [
    "# visualization loss \n",
    "plt.plot(ite_list,loss_list)\n",
    "plt.xlabel(\"Number of iteration\")\n",
    "plt.ylabel(\"Loss\")\n",
    "plt.title(\"RNN: Loss vs Number of iteration\")\n",
    "plt.show()\n",
    "\n",
    "# visualization accuracy \n",
    "plt.plot(ite_list,accuracy_list,color = \"red\")\n",
    "plt.xlabel(\"Number of iteration\")\n",
    "plt.ylabel(\"Accuracy\")\n",
    "plt.title(\"RNN: Accuracy vs Number of iteration\")\n",
    "#plt.savefig('graph.png')\n",
    "plt.show()"
   ]
  },
  {
   "cell_type": "code",
   "execution_count": null,
   "metadata": {},
   "outputs": [],
   "source": []
  }
 ],
 "metadata": {
  "kernelspec": {
   "display_name": "Python 3",
   "language": "python",
   "name": "python3"
  },
  "language_info": {
   "codemirror_mode": {
    "name": "ipython",
    "version": 3
   },
   "file_extension": ".py",
   "mimetype": "text/x-python",
   "name": "python",
   "nbconvert_exporter": "python",
   "pygments_lexer": "ipython3",
   "version": "3.7.4"
  }
 },
 "nbformat": 4,
 "nbformat_minor": 2
}
