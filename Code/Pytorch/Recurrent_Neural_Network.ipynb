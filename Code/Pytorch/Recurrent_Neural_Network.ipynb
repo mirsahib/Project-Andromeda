{
 "cells": [
  {
   "cell_type": "code",
   "execution_count": 122,
   "metadata": {},
   "outputs": [],
   "source": [
    "import torch\n",
    "import torchvision\n",
    "import numpy as np\n",
    "import pandas as pd\n",
    "from torch.utils.data import Dataset,DataLoader\n",
    "from sklearn.model_selection import train_test_split\n",
    "from sklearn.utils import shuffle\n",
    "from torch import nn, optim\n",
    "import torch.nn.functional as F\n",
    "from torch.autograd import Variable\n",
    "import matplotlib.pyplot as plt\n",
    "import os"
   ]
  },
  {
   "cell_type": "code",
   "execution_count": 123,
   "metadata": {},
   "outputs": [],
   "source": [
    "path = os.getcwd()+'\\Joint_Dataset.csv'"
   ]
  },
  {
   "cell_type": "code",
   "execution_count": 125,
   "metadata": {},
   "outputs": [
    {
     "data": {
      "text/html": [
       "<div>\n",
       "<style scoped>\n",
       "    .dataframe tbody tr th:only-of-type {\n",
       "        vertical-align: middle;\n",
       "    }\n",
       "\n",
       "    .dataframe tbody tr th {\n",
       "        vertical-align: top;\n",
       "    }\n",
       "\n",
       "    .dataframe thead th {\n",
       "        text-align: right;\n",
       "    }\n",
       "</style>\n",
       "<table border=\"1\" class=\"dataframe\">\n",
       "  <thead>\n",
       "    <tr style=\"text-align: right;\">\n",
       "      <th></th>\n",
       "      <th>left_shoulder_X</th>\n",
       "      <th>left_shoulder_Y</th>\n",
       "      <th>left_shoulder_Z</th>\n",
       "      <th>left_elbow_X</th>\n",
       "      <th>left_elbow_Y</th>\n",
       "      <th>left_elbow_Z</th>\n",
       "      <th>left_wrist_X</th>\n",
       "      <th>left_wrist_Y</th>\n",
       "      <th>left_wrist_Z</th>\n",
       "      <th>left_hand_X</th>\n",
       "      <th>...</th>\n",
       "      <th>right_knee_X</th>\n",
       "      <th>right_knee_Y</th>\n",
       "      <th>right_knee_Z</th>\n",
       "      <th>right_ankle_X</th>\n",
       "      <th>right_ankle_Y</th>\n",
       "      <th>right_ankle_Z</th>\n",
       "      <th>right_foot_X</th>\n",
       "      <th>right_foot_Y</th>\n",
       "      <th>right_foot_Z</th>\n",
       "      <th>label</th>\n",
       "    </tr>\n",
       "  </thead>\n",
       "  <tbody>\n",
       "    <tr>\n",
       "      <td>0</td>\n",
       "      <td>120.0</td>\n",
       "      <td>80.0</td>\n",
       "      <td>-269.0</td>\n",
       "      <td>114.0</td>\n",
       "      <td>108.0</td>\n",
       "      <td>-267.0</td>\n",
       "      <td>116.0</td>\n",
       "      <td>139.0</td>\n",
       "      <td>-255.0</td>\n",
       "      <td>115.0</td>\n",
       "      <td>...</td>\n",
       "      <td>153.0</td>\n",
       "      <td>182.0</td>\n",
       "      <td>-276.0</td>\n",
       "      <td>154.0</td>\n",
       "      <td>225.0</td>\n",
       "      <td>-285.0</td>\n",
       "      <td>153.0</td>\n",
       "      <td>234.0</td>\n",
       "      <td>-243.0</td>\n",
       "      <td>1</td>\n",
       "    </tr>\n",
       "    <tr>\n",
       "      <td>1</td>\n",
       "      <td>121.0</td>\n",
       "      <td>81.0</td>\n",
       "      <td>-268.0</td>\n",
       "      <td>114.0</td>\n",
       "      <td>109.0</td>\n",
       "      <td>-266.0</td>\n",
       "      <td>115.0</td>\n",
       "      <td>140.0</td>\n",
       "      <td>-255.0</td>\n",
       "      <td>117.0</td>\n",
       "      <td>...</td>\n",
       "      <td>153.0</td>\n",
       "      <td>182.0</td>\n",
       "      <td>-276.0</td>\n",
       "      <td>154.0</td>\n",
       "      <td>226.0</td>\n",
       "      <td>-284.0</td>\n",
       "      <td>154.0</td>\n",
       "      <td>234.0</td>\n",
       "      <td>-242.0</td>\n",
       "      <td>1</td>\n",
       "    </tr>\n",
       "    <tr>\n",
       "      <td>2</td>\n",
       "      <td>120.0</td>\n",
       "      <td>81.0</td>\n",
       "      <td>-269.0</td>\n",
       "      <td>114.0</td>\n",
       "      <td>109.0</td>\n",
       "      <td>-266.0</td>\n",
       "      <td>115.0</td>\n",
       "      <td>140.0</td>\n",
       "      <td>-257.0</td>\n",
       "      <td>117.0</td>\n",
       "      <td>...</td>\n",
       "      <td>153.0</td>\n",
       "      <td>182.0</td>\n",
       "      <td>-276.0</td>\n",
       "      <td>155.0</td>\n",
       "      <td>226.0</td>\n",
       "      <td>-283.0</td>\n",
       "      <td>155.0</td>\n",
       "      <td>234.0</td>\n",
       "      <td>-241.0</td>\n",
       "      <td>1</td>\n",
       "    </tr>\n",
       "    <tr>\n",
       "      <td>3</td>\n",
       "      <td>120.0</td>\n",
       "      <td>81.0</td>\n",
       "      <td>-269.0</td>\n",
       "      <td>113.0</td>\n",
       "      <td>109.0</td>\n",
       "      <td>-266.0</td>\n",
       "      <td>115.0</td>\n",
       "      <td>140.0</td>\n",
       "      <td>-255.0</td>\n",
       "      <td>116.0</td>\n",
       "      <td>...</td>\n",
       "      <td>153.0</td>\n",
       "      <td>182.0</td>\n",
       "      <td>-275.0</td>\n",
       "      <td>154.0</td>\n",
       "      <td>225.0</td>\n",
       "      <td>-286.0</td>\n",
       "      <td>154.0</td>\n",
       "      <td>234.0</td>\n",
       "      <td>-244.0</td>\n",
       "      <td>1</td>\n",
       "    </tr>\n",
       "    <tr>\n",
       "      <td>4</td>\n",
       "      <td>120.0</td>\n",
       "      <td>81.0</td>\n",
       "      <td>-269.0</td>\n",
       "      <td>114.0</td>\n",
       "      <td>109.0</td>\n",
       "      <td>-267.0</td>\n",
       "      <td>115.0</td>\n",
       "      <td>140.0</td>\n",
       "      <td>-255.0</td>\n",
       "      <td>117.0</td>\n",
       "      <td>...</td>\n",
       "      <td>153.0</td>\n",
       "      <td>182.0</td>\n",
       "      <td>-275.0</td>\n",
       "      <td>154.0</td>\n",
       "      <td>225.0</td>\n",
       "      <td>-285.0</td>\n",
       "      <td>154.0</td>\n",
       "      <td>234.0</td>\n",
       "      <td>-243.0</td>\n",
       "      <td>1</td>\n",
       "    </tr>\n",
       "  </tbody>\n",
       "</table>\n",
       "<p>5 rows × 61 columns</p>\n",
       "</div>"
      ],
      "text/plain": [
       "   left_shoulder_X  left_shoulder_Y  left_shoulder_Z  left_elbow_X  \\\n",
       "0            120.0             80.0           -269.0         114.0   \n",
       "1            121.0             81.0           -268.0         114.0   \n",
       "2            120.0             81.0           -269.0         114.0   \n",
       "3            120.0             81.0           -269.0         113.0   \n",
       "4            120.0             81.0           -269.0         114.0   \n",
       "\n",
       "   left_elbow_Y  left_elbow_Z  left_wrist_X  left_wrist_Y  left_wrist_Z  \\\n",
       "0         108.0        -267.0         116.0         139.0        -255.0   \n",
       "1         109.0        -266.0         115.0         140.0        -255.0   \n",
       "2         109.0        -266.0         115.0         140.0        -257.0   \n",
       "3         109.0        -266.0         115.0         140.0        -255.0   \n",
       "4         109.0        -267.0         115.0         140.0        -255.0   \n",
       "\n",
       "   left_hand_X  ...  right_knee_X  right_knee_Y  right_knee_Z  right_ankle_X  \\\n",
       "0        115.0  ...         153.0         182.0        -276.0          154.0   \n",
       "1        117.0  ...         153.0         182.0        -276.0          154.0   \n",
       "2        117.0  ...         153.0         182.0        -276.0          155.0   \n",
       "3        116.0  ...         153.0         182.0        -275.0          154.0   \n",
       "4        117.0  ...         153.0         182.0        -275.0          154.0   \n",
       "\n",
       "   right_ankle_Y  right_ankle_Z  right_foot_X  right_foot_Y  right_foot_Z  \\\n",
       "0          225.0         -285.0         153.0         234.0        -243.0   \n",
       "1          226.0         -284.0         154.0         234.0        -242.0   \n",
       "2          226.0         -283.0         155.0         234.0        -241.0   \n",
       "3          225.0         -286.0         154.0         234.0        -244.0   \n",
       "4          225.0         -285.0         154.0         234.0        -243.0   \n",
       "\n",
       "   label  \n",
       "0      1  \n",
       "1      1  \n",
       "2      1  \n",
       "3      1  \n",
       "4      1  \n",
       "\n",
       "[5 rows x 61 columns]"
      ]
     },
     "execution_count": 125,
     "metadata": {},
     "output_type": "execute_result"
    }
   ],
   "source": [
    "dataset = pd.read_csv(path)\n",
    "dataset.head()"
   ]
  },
  {
   "cell_type": "code",
   "execution_count": 126,
   "metadata": {},
   "outputs": [],
   "source": [
    "X = dataset.drop('label',axis=1)\n",
    "y = dataset['label']"
   ]
  },
  {
   "cell_type": "code",
   "execution_count": 127,
   "metadata": {},
   "outputs": [],
   "source": [
    "X_train, X_test, y_train, y_test = train_test_split(X, y, test_size=0.33, random_state=42)"
   ]
  },
  {
   "cell_type": "code",
   "execution_count": 128,
   "metadata": {},
   "outputs": [],
   "source": [
    "trainset = pd.concat([X_train,y_train],axis=1)\n",
    "testset = pd.concat([X_test,y_test],axis=1)"
   ]
  },
  {
   "cell_type": "code",
   "execution_count": 129,
   "metadata": {},
   "outputs": [],
   "source": [
    "class MSRDataset(Dataset):\n",
    "    def __init__(self,data):\n",
    "        self.len = data.shape[0]\n",
    "        self.x_data = torch.from_numpy(data.drop('label',axis=1).to_numpy()).float()\n",
    "        self.y_data = torch.from_numpy(data['label'].to_numpy()-1).type(torch.LongTensor)\n",
    "    \n",
    "    def __getitem__(self,index):\n",
    "        return self.x_data[index],self.y_data[index]\n",
    "    \n",
    "    def __len__(self):\n",
    "        return self.len"
   ]
  },
  {
   "cell_type": "code",
   "execution_count": 130,
   "metadata": {},
   "outputs": [],
   "source": [
    "train_data = MSRDataset(trainset)\n",
    "test_data = MSRDataset(testset)"
   ]
  },
  {
   "cell_type": "code",
   "execution_count": 131,
   "metadata": {},
   "outputs": [],
   "source": [
    "trainloader = DataLoader(dataset=train_data,batch_size=64,shuffle=True,num_workers=0)\n",
    "testloader = DataLoader(dataset=test_data,batch_size=64,shuffle=True,num_workers=0)"
   ]
  },
  {
   "cell_type": "code",
   "execution_count": 132,
   "metadata": {},
   "outputs": [],
   "source": [
    "import pdb\n",
    "\n",
    "class RNNModel(nn.Module):\n",
    "    def __init__(self, input_dim, hidden_dim, layer_dim, output_dim):\n",
    "        super(RNNModel, self).__init__()\n",
    "        \n",
    "        # Number of hidden dimensions\n",
    "        self.hidden_dim = hidden_dim\n",
    "        \n",
    "        # Number of hidden layers\n",
    "        self.layer_dim = layer_dim\n",
    "        \n",
    "        # RNN\n",
    "        self.rnn = nn.RNN(input_dim, hidden_dim, layer_dim, batch_first=True,nonlinearity='relu')\n",
    "        \n",
    "        # Readout layer\n",
    "        self.fc = nn.Linear(hidden_dim, output_dim)\n",
    "    \n",
    "    def forward(self, x):\n",
    "        \n",
    "        # Initialize hidden state with zeros\n",
    "        h0 = Variable(torch.zeros(self.layer_dim, x.size(0), self.hidden_dim))\n",
    "        out, hn = self.rnn(x, h0)\n",
    "        out = self.fc(out[:, -1, :]) \n",
    "        return out"
   ]
  },
  {
   "cell_type": "code",
   "execution_count": 133,
   "metadata": {},
   "outputs": [],
   "source": [
    "# Create RNN\n",
    "input_dim = 60    # input dimension\n",
    "hidden_dim = 60  # hidden layer dimension\n",
    "layer_dim = 2     # number of hidden layers\n",
    "output_dim = 20   # output dimension\n",
    "\n",
    "model = RNNModel(input_dim, hidden_dim, layer_dim, output_dim)"
   ]
  },
  {
   "cell_type": "code",
   "execution_count": 118,
   "metadata": {},
   "outputs": [],
   "source": [
    "criterion = nn.CrossEntropyLoss()\n",
    "# SGD Optimizer\n",
    "#learning_rate = 0.05\n",
    "#optimizer = torch.optim.SGD(model.parameters(), lr=learning_rate)\n",
    "optimizer = optim.Adam(model.parameters(),lr=0.001)"
   ]
  },
  {
   "cell_type": "code",
   "execution_count": 119,
   "metadata": {},
   "outputs": [
    {
     "name": "stdout",
     "output_type": "stream",
     "text": [
      "Accuracy on trainset epoch 0 : 19.5\n",
      "Accuracy on trainset epoch 100 : 35.4\n",
      "Accuracy on trainset epoch 200 : 43.1\n",
      "Accuracy on trainset epoch 300 : 44.5\n",
      "Accuracy on trainset epoch 400 : 48.8\n",
      "Accuracy on trainset epoch 500 : 51.6\n",
      "Accuracy on trainset epoch 600 : 53.7\n",
      "Accuracy on trainset epoch 700 : 56.99999999999999\n",
      "Accuracy on trainset epoch 800 : 60.199999999999996\n",
      "Accuracy on trainset epoch 900 : 61.7\n"
     ]
    }
   ],
   "source": [
    "correct = 0\n",
    "total = 0\n",
    "loss_list = []\n",
    "ite_list = []\n",
    "for epoch in range(1000):\n",
    "    for i,data in enumerate(trainloader):\n",
    "        inputs,labels = data\n",
    "        inputs,labels = Variable(inputs.view(-1,1,60)),Variable(labels)\n",
    "        #pdb.set_trace()\n",
    "        optimizer.zero_grad()\n",
    "        output = model(inputs)\n",
    "        loss = criterion(output,labels)\n",
    "        loss.backward()\n",
    "        optimizer.step()\n",
    "    if epoch %100 == 0:\n",
    "        loss_list.append(loss.data)\n",
    "        ite_list.append(epoch)\n",
    "        for idx,i in enumerate(output):\n",
    "            if torch.argmax(i) == labels[idx]:\n",
    "                correct+=1\n",
    "            total+=1\n",
    "        print('Accuracy on trainset epoch',epoch,':',round(correct/total,3)*100)\n",
    "        "
   ]
  },
  {
   "cell_type": "code",
   "execution_count": 121,
   "metadata": {},
   "outputs": [
    {
     "name": "stdout",
     "output_type": "stream",
     "text": [
      "Accuracy  72.39999999999999\n"
     ]
    }
   ],
   "source": [
    "correct = 0\n",
    "total = 0\n",
    "with torch.no_grad():\n",
    "    for data in testloader:\n",
    "        inputs,labels = data\n",
    "        inputs,labels = Variable(inputs.view(-1,1,60)),Variable(labels)\n",
    "        #pdb.set_trace()\n",
    "        output = model(inputs)\n",
    "        for idx, i in enumerate(output):\n",
    "            #pdb.set_trace()\n",
    "            if torch.argmax(i) == labels[idx]:\n",
    "                correct+=1\n",
    "            total+=1\n",
    "#pdb.set_trace()\n",
    "print('Accuracy ', round(correct/total,3)*100)"
   ]
  },
  {
   "cell_type": "code",
   "execution_count": 120,
   "metadata": {},
   "outputs": [
    {
     "data": {
      "image/png": "[encoded data removed]",
      "text/plain": [
       "<Figure size 432x288 with 1 Axes>"
      ]
     },
     "metadata": {
      "needs_background": "light"
     },
     "output_type": "display_data"
    }
   ],
   "source": [
    "# visualization loss \n",
    "plt.plot(ite_list,loss_list)\n",
    "plt.xlabel(\"Number of iteration\")\n",
    "plt.ylabel(\"Loss\")\n",
    "plt.title(\"RNN: Loss vs Number of iteration\")\n",
    "plt.show()"
   ]
  },
  {
   "cell_type": "code",
   "execution_count": null,
   "metadata": {},
   "outputs": [],
   "source": []
  }
 ],
 "metadata": {
  "kernelspec": {
   "display_name": "Python 3",
   "language": "python",
   "name": "python3"
  },
  "language_info": {
   "codemirror_mode": {
    "name": "ipython",
    "version": 3
   },
   "file_extension": ".py",
   "mimetype": "text/x-python",
   "name": "python",
   "nbconvert_exporter": "python",
   "pygments_lexer": "ipython3",
   "version": "3.7.4"
  }
 },
 "nbformat": 4,
 "nbformat_minor": 2
}
