{
 "cells": [
  {
   "cell_type": "code",
   "execution_count": 195,
   "metadata": {},
   "outputs": [],
   "source": [
    "import torch\n",
    "import torchvision\n",
    "import numpy as np\n",
    "import pandas as pd\n",
    "from torch.utils.data import Dataset,DataLoader\n",
    "from sklearn.model_selection import train_test_split\n",
    "from sklearn.utils import shuffle\n",
    "from torch import nn, optim\n",
    "import torch.nn.functional as F\n",
    "from torch.autograd import Variable\n",
    "import matplotlib.pyplot as plt\n",
    "import os"
   ]
  },
  {
   "cell_type": "code",
   "execution_count": 196,
   "metadata": {},
   "outputs": [],
   "source": [
    "path = os.getcwd()+'\\Joint_Dataset.csv'"
   ]
  },
  {
   "cell_type": "code",
   "execution_count": 197,
   "metadata": {},
   "outputs": [],
   "source": [
    "dataset = pd.read_csv(path)\n",
    "dataset_shuffle = shuffle(dataset)"
   ]
  },
  {
   "cell_type": "code",
   "execution_count": 198,
   "metadata": {},
   "outputs": [],
   "source": [
    "X = dataset_shuffle.drop('label',axis=1)\n",
    "y = dataset_shuffle['label']"
   ]
  },
  {
   "cell_type": "code",
   "execution_count": 199,
   "metadata": {},
   "outputs": [],
   "source": [
    "X_train, X_test, y_train, y_test = train_test_split(X, y, test_size=0.33, random_state=42)"
   ]
  },
  {
   "cell_type": "code",
   "execution_count": 200,
   "metadata": {},
   "outputs": [],
   "source": [
    "trainset = pd.concat([X_train,y_train],axis=1)\n",
    "testset = pd.concat([X_test,y_test],axis=1)"
   ]
  },
  {
   "cell_type": "code",
   "execution_count": 201,
   "metadata": {},
   "outputs": [],
   "source": [
    "class MSRDataset(Dataset):\n",
    "    def __init__(self,data):\n",
    "        self.len = data.shape[0]\n",
    "        self.x_data = torch.from_numpy(data.drop('label',axis=1).to_numpy()).float()\n",
    "        self.y_data = torch.from_numpy(data['label'].to_numpy()-1).type(torch.LongTensor)\n",
    "    \n",
    "    def __getitem__(self,index):\n",
    "        return self.x_data[index],self.y_data[index]\n",
    "    \n",
    "    def __len__(self):\n",
    "        return self.len"
   ]
  },
  {
   "cell_type": "code",
   "execution_count": 202,
   "metadata": {},
   "outputs": [],
   "source": [
    "train_data = MSRDataset(trainset)\n",
    "test_data = MSRDataset(testset)"
   ]
  },
  {
   "cell_type": "code",
   "execution_count": 203,
   "metadata": {},
   "outputs": [],
   "source": [
    "trainloader = DataLoader(dataset=train_data,batch_size=64,shuffle=True,num_workers=0)\n",
    "testloader = DataLoader(dataset=test_data,batch_size=64,shuffle=True,num_workers=0)"
   ]
  },
  {
   "cell_type": "code",
   "execution_count": 204,
   "metadata": {},
   "outputs": [],
   "source": [
    "class Net(nn.Module):\n",
    "    def __init__(self):\n",
    "        super(Net, self).__init__()\n",
    "        self.fc1 = nn.Linear(60, 40)\n",
    "        self.fc2 = nn.Linear(40, 40)\n",
    "        self.fc3 = nn.Linear(40, 40)\n",
    "        self.fc4 = nn.Linear(40,40)\n",
    "        self.fc5 = nn.Linear(40,20)\n",
    "    def forward(self, x):\n",
    "        x = F.relu(self.fc1(x))\n",
    "        x = F.relu(self.fc2(x))\n",
    "        x = F.relu(self.fc3(x))\n",
    "        x = F.relu(self.fc4(x))\n",
    "        x = self.fc5(x)\n",
    "        return F.log_softmax(x,dim=1)"
   ]
  },
  {
   "cell_type": "code",
   "execution_count": 205,
   "metadata": {},
   "outputs": [],
   "source": [
    "model = Net()"
   ]
  },
  {
   "cell_type": "code",
   "execution_count": 206,
   "metadata": {},
   "outputs": [],
   "source": [
    "criterion = nn.CrossEntropyLoss()\n",
    "optimizer = optim.Adam(model.parameters(),lr=0.001)"
   ]
  },
  {
   "cell_type": "code",
   "execution_count": 207,
   "metadata": {},
   "outputs": [
    {
     "data": {
      "text/plain": [
       "33"
      ]
     },
     "execution_count": 207,
     "metadata": {},
     "output_type": "execute_result"
    }
   ],
   "source": [
    "N_s = trainset.shape[0] #Nₛ the number of samples in the training data\n",
    "# batch_size, epoch and iteration\n",
    "batch_size = 64\n",
    "n_iters = 8000\n",
    "num_epochs = n_iters / (N_s / batch_size)\n",
    "num_epochs = int(num_epochs)\n",
    "num_epochs"
   ]
  },
  {
   "cell_type": "code",
   "execution_count": 208,
   "metadata": {},
   "outputs": [
    {
     "name": "stdout",
     "output_type": "stream",
     "text": [
      "Iteration: 500  Loss: 2.4827771186828613  Accuracy: 20.8 %\n",
      "Iteration: 1000  Loss: 2.506694793701172  Accuracy: 24.099999999999998 %\n",
      "Iteration: 1500  Loss: 2.426290512084961  Accuracy: 26.6 %\n",
      "Iteration: 2000  Loss: 2.0924935340881348  Accuracy: 28.1 %\n",
      "Iteration: 2500  Loss: 1.8676948547363281  Accuracy: 30.2 %\n",
      "Iteration: 3000  Loss: 2.1429617404937744  Accuracy: 31.8 %\n",
      "Iteration: 3500  Loss: 2.0744757652282715  Accuracy: 33.2 %\n",
      "Iteration: 4000  Loss: 1.7783362865447998  Accuracy: 34.1 %\n",
      "Iteration: 4500  Loss: 2.4842045307159424  Accuracy: 28.1 %\n",
      "Iteration: 5000  Loss: 1.8206332921981812  Accuracy: 35.6 %\n",
      "Iteration: 5500  Loss: 2.1097116470336914  Accuracy: 35.9 %\n",
      "Iteration: 6000  Loss: 1.9558539390563965  Accuracy: 36.7 %\n",
      "Iteration: 6500  Loss: 1.815490961074829  Accuracy: 38.6 %\n",
      "Iteration: 7000  Loss: 1.7951037883758545  Accuracy: 37.9 %\n",
      "Iteration: 7500  Loss: 1.756082534790039  Accuracy: 38.6 %\n"
     ]
    }
   ],
   "source": [
    "loss_list = []\n",
    "ite_list = []\n",
    "accuracy_list = []\n",
    "count=0\n",
    "for epoch in range(num_epochs):\n",
    "    for i,data in enumerate(trainloader):\n",
    "        inputs,labels = data\n",
    "        inputs,labels = Variable(inputs),Variable(labels)\n",
    "        #pdb.set_trace()\n",
    "        optimizer.zero_grad()\n",
    "        output = model(inputs)\n",
    "        loss = criterion(output,labels)\n",
    "        loss.backward()\n",
    "        optimizer.step()\n",
    "        count+=1\n",
    "        #print(\"iteration\",count)\n",
    "        if count %250 == 0:\n",
    "            correct = 0\n",
    "            total = 0\n",
    "            loss_list.append(loss.data)\n",
    "            ite_list.append(count)\n",
    "            with torch.no_grad():\n",
    "                for data in testloader:\n",
    "                    inputs,labels = data\n",
    "                    inputs,labels = Variable(inputs),Variable(labels)\n",
    "                    output = model(inputs)\n",
    "                    for idx, i in enumerate(output):\n",
    "                        #pdb.set_trace()\n",
    "                        if torch.argmax(i) == labels[idx]:\n",
    "                            correct+=1\n",
    "                        total+=1\n",
    "            accuracy_list.append(round(correct/total,3)*100)\n",
    "            if count % 500 == 0:\n",
    "                print('Iteration: {}  Loss: {}  Accuracy: {} %'.format(count, loss.data, round(correct/total,3)*100))\n",
    "        "
   ]
  },
  {
   "cell_type": "code",
   "execution_count": 209,
   "metadata": {},
   "outputs": [
    {
     "data": {
      "image/png": "[encoded data removed]",
      "text/plain": [
       "<Figure size 432x288 with 1 Axes>"
      ]
     },
     "metadata": {
      "needs_background": "light"
     },
     "output_type": "display_data"
    },
    {
     "data": {
      "image/png": "[encoded data removed]",
      "text/plain": [
       "<Figure size 432x288 with 1 Axes>"
      ]
     },
     "metadata": {
      "needs_background": "light"
     },
     "output_type": "display_data"
    }
   ],
   "source": [
    "# visualization loss \n",
    "plt.plot(ite_list,loss_list)\n",
    "plt.xlabel(\"Number of iteration\")\n",
    "plt.ylabel(\"Loss\")\n",
    "plt.title(\"RNN: Loss vs Number of iteration\")\n",
    "plt.show()\n",
    "\n",
    "# visualization accuracy \n",
    "plt.plot(ite_list,accuracy_list,color = \"red\")\n",
    "plt.xlabel(\"Number of iteration\")\n",
    "plt.ylabel(\"Accuracy\")\n",
    "plt.title(\"RNN: Accuracy vs Number of iteration\")\n",
    "#plt.savefig('graph.png')\n",
    "plt.show()"
   ]
  },
  {
   "cell_type": "code",
   "execution_count": null,
   "metadata": {},
   "outputs": [],
   "source": []
  }
 ],
 "metadata": {
  "kernelspec": {
   "display_name": "Python 3",
   "language": "python",
   "name": "python3"
  },
  "language_info": {
   "codemirror_mode": {
    "name": "ipython",
    "version": 3
   },
   "file_extension": ".py",
   "mimetype": "text/x-python",
   "name": "python",
   "nbconvert_exporter": "python",
   "pygments_lexer": "ipython3",
   "version": "3.7.4"
  }
 },
 "nbformat": 4,
 "nbformat_minor": 2
}
