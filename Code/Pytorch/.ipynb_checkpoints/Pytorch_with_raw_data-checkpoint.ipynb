{
 "cells": [
  {
   "cell_type": "code",
   "execution_count": 2,
   "metadata": {},
   "outputs": [],
   "source": [
    "import torch\n",
    "import torchvision\n",
    "from torchvision import transforms,datasets"
   ]
  },
  {
   "cell_type": "code",
   "execution_count": 3,
   "metadata": {},
   "outputs": [],
   "source": [
    "import pandas as pd\n",
    "import numpy as np\n",
    "from sklearn.model_selection import train_test_split\n",
    "from torch import nn, optim\n",
    "import torch.nn.functional as F\n",
    "import pdb"
   ]
  },
  {
   "cell_type": "code",
   "execution_count": 4,
   "metadata": {},
   "outputs": [],
   "source": [
    "data = pd.read_csv('Joint_Dataset.csv')"
   ]
  },
  {
   "cell_type": "code",
   "execution_count": 5,
   "metadata": {},
   "outputs": [
    {
     "data": {
      "text/html": [
       "<div>\n",
       "<style scoped>\n",
       "    .dataframe tbody tr th:only-of-type {\n",
       "        vertical-align: middle;\n",
       "    }\n",
       "\n",
       "    .dataframe tbody tr th {\n",
       "        vertical-align: top;\n",
       "    }\n",
       "\n",
       "    .dataframe thead th {\n",
       "        text-align: right;\n",
       "    }\n",
       "</style>\n",
       "<table border=\"1\" class=\"dataframe\">\n",
       "  <thead>\n",
       "    <tr style=\"text-align: right;\">\n",
       "      <th></th>\n",
       "      <th>left_shoulder_X</th>\n",
       "      <th>left_shoulder_Y</th>\n",
       "      <th>left_shoulder_Z</th>\n",
       "      <th>left_elbow_X</th>\n",
       "      <th>left_elbow_Y</th>\n",
       "      <th>left_elbow_Z</th>\n",
       "      <th>left_wrist_X</th>\n",
       "      <th>left_wrist_Y</th>\n",
       "      <th>left_wrist_Z</th>\n",
       "      <th>left_hand_X</th>\n",
       "      <th>...</th>\n",
       "      <th>right_knee_X</th>\n",
       "      <th>right_knee_Y</th>\n",
       "      <th>right_knee_Z</th>\n",
       "      <th>right_ankle_X</th>\n",
       "      <th>right_ankle_Y</th>\n",
       "      <th>right_ankle_Z</th>\n",
       "      <th>right_foot_X</th>\n",
       "      <th>right_foot_Y</th>\n",
       "      <th>right_foot_Z</th>\n",
       "      <th>label</th>\n",
       "    </tr>\n",
       "  </thead>\n",
       "  <tbody>\n",
       "    <tr>\n",
       "      <td>0</td>\n",
       "      <td>120.0</td>\n",
       "      <td>80.0</td>\n",
       "      <td>-269.0</td>\n",
       "      <td>114.0</td>\n",
       "      <td>108.0</td>\n",
       "      <td>-267.0</td>\n",
       "      <td>116.0</td>\n",
       "      <td>139.0</td>\n",
       "      <td>-255.0</td>\n",
       "      <td>115.0</td>\n",
       "      <td>...</td>\n",
       "      <td>153.0</td>\n",
       "      <td>182.0</td>\n",
       "      <td>-276.0</td>\n",
       "      <td>154.0</td>\n",
       "      <td>225.0</td>\n",
       "      <td>-285.0</td>\n",
       "      <td>153.0</td>\n",
       "      <td>234.0</td>\n",
       "      <td>-243.0</td>\n",
       "      <td>1</td>\n",
       "    </tr>\n",
       "    <tr>\n",
       "      <td>1</td>\n",
       "      <td>121.0</td>\n",
       "      <td>81.0</td>\n",
       "      <td>-268.0</td>\n",
       "      <td>114.0</td>\n",
       "      <td>109.0</td>\n",
       "      <td>-266.0</td>\n",
       "      <td>115.0</td>\n",
       "      <td>140.0</td>\n",
       "      <td>-255.0</td>\n",
       "      <td>117.0</td>\n",
       "      <td>...</td>\n",
       "      <td>153.0</td>\n",
       "      <td>182.0</td>\n",
       "      <td>-276.0</td>\n",
       "      <td>154.0</td>\n",
       "      <td>226.0</td>\n",
       "      <td>-284.0</td>\n",
       "      <td>154.0</td>\n",
       "      <td>234.0</td>\n",
       "      <td>-242.0</td>\n",
       "      <td>1</td>\n",
       "    </tr>\n",
       "    <tr>\n",
       "      <td>2</td>\n",
       "      <td>120.0</td>\n",
       "      <td>81.0</td>\n",
       "      <td>-269.0</td>\n",
       "      <td>114.0</td>\n",
       "      <td>109.0</td>\n",
       "      <td>-266.0</td>\n",
       "      <td>115.0</td>\n",
       "      <td>140.0</td>\n",
       "      <td>-257.0</td>\n",
       "      <td>117.0</td>\n",
       "      <td>...</td>\n",
       "      <td>153.0</td>\n",
       "      <td>182.0</td>\n",
       "      <td>-276.0</td>\n",
       "      <td>155.0</td>\n",
       "      <td>226.0</td>\n",
       "      <td>-283.0</td>\n",
       "      <td>155.0</td>\n",
       "      <td>234.0</td>\n",
       "      <td>-241.0</td>\n",
       "      <td>1</td>\n",
       "    </tr>\n",
       "    <tr>\n",
       "      <td>3</td>\n",
       "      <td>120.0</td>\n",
       "      <td>81.0</td>\n",
       "      <td>-269.0</td>\n",
       "      <td>113.0</td>\n",
       "      <td>109.0</td>\n",
       "      <td>-266.0</td>\n",
       "      <td>115.0</td>\n",
       "      <td>140.0</td>\n",
       "      <td>-255.0</td>\n",
       "      <td>116.0</td>\n",
       "      <td>...</td>\n",
       "      <td>153.0</td>\n",
       "      <td>182.0</td>\n",
       "      <td>-275.0</td>\n",
       "      <td>154.0</td>\n",
       "      <td>225.0</td>\n",
       "      <td>-286.0</td>\n",
       "      <td>154.0</td>\n",
       "      <td>234.0</td>\n",
       "      <td>-244.0</td>\n",
       "      <td>1</td>\n",
       "    </tr>\n",
       "    <tr>\n",
       "      <td>4</td>\n",
       "      <td>120.0</td>\n",
       "      <td>81.0</td>\n",
       "      <td>-269.0</td>\n",
       "      <td>114.0</td>\n",
       "      <td>109.0</td>\n",
       "      <td>-267.0</td>\n",
       "      <td>115.0</td>\n",
       "      <td>140.0</td>\n",
       "      <td>-255.0</td>\n",
       "      <td>117.0</td>\n",
       "      <td>...</td>\n",
       "      <td>153.0</td>\n",
       "      <td>182.0</td>\n",
       "      <td>-275.0</td>\n",
       "      <td>154.0</td>\n",
       "      <td>225.0</td>\n",
       "      <td>-285.0</td>\n",
       "      <td>154.0</td>\n",
       "      <td>234.0</td>\n",
       "      <td>-243.0</td>\n",
       "      <td>1</td>\n",
       "    </tr>\n",
       "  </tbody>\n",
       "</table>\n",
       "<p>5 rows × 61 columns</p>\n",
       "</div>"
      ],
      "text/plain": [
       "   left_shoulder_X  left_shoulder_Y  left_shoulder_Z  left_elbow_X  \\\n",
       "0            120.0             80.0           -269.0         114.0   \n",
       "1            121.0             81.0           -268.0         114.0   \n",
       "2            120.0             81.0           -269.0         114.0   \n",
       "3            120.0             81.0           -269.0         113.0   \n",
       "4            120.0             81.0           -269.0         114.0   \n",
       "\n",
       "   left_elbow_Y  left_elbow_Z  left_wrist_X  left_wrist_Y  left_wrist_Z  \\\n",
       "0         108.0        -267.0         116.0         139.0        -255.0   \n",
       "1         109.0        -266.0         115.0         140.0        -255.0   \n",
       "2         109.0        -266.0         115.0         140.0        -257.0   \n",
       "3         109.0        -266.0         115.0         140.0        -255.0   \n",
       "4         109.0        -267.0         115.0         140.0        -255.0   \n",
       "\n",
       "   left_hand_X  ...  right_knee_X  right_knee_Y  right_knee_Z  right_ankle_X  \\\n",
       "0        115.0  ...         153.0         182.0        -276.0          154.0   \n",
       "1        117.0  ...         153.0         182.0        -276.0          154.0   \n",
       "2        117.0  ...         153.0         182.0        -276.0          155.0   \n",
       "3        116.0  ...         153.0         182.0        -275.0          154.0   \n",
       "4        117.0  ...         153.0         182.0        -275.0          154.0   \n",
       "\n",
       "   right_ankle_Y  right_ankle_Z  right_foot_X  right_foot_Y  right_foot_Z  \\\n",
       "0          225.0         -285.0         153.0         234.0        -243.0   \n",
       "1          226.0         -284.0         154.0         234.0        -242.0   \n",
       "2          226.0         -283.0         155.0         234.0        -241.0   \n",
       "3          225.0         -286.0         154.0         234.0        -244.0   \n",
       "4          225.0         -285.0         154.0         234.0        -243.0   \n",
       "\n",
       "   label  \n",
       "0      1  \n",
       "1      1  \n",
       "2      1  \n",
       "3      1  \n",
       "4      1  \n",
       "\n",
       "[5 rows x 61 columns]"
      ]
     },
     "execution_count": 5,
     "metadata": {},
     "output_type": "execute_result"
    }
   ],
   "source": [
    "data.head()"
   ]
  },
  {
   "cell_type": "code",
   "execution_count": 6,
   "metadata": {},
   "outputs": [
    {
     "data": {
      "text/plain": [
       "((22797, 60), (22797,))"
      ]
     },
     "execution_count": 6,
     "metadata": {},
     "output_type": "execute_result"
    }
   ],
   "source": [
    "X = data.drop('label',axis=1)\n",
    "Y = data['label']\n",
    "X.shape,Y.shape"
   ]
  },
  {
   "cell_type": "code",
   "execution_count": 23,
   "metadata": {},
   "outputs": [],
   "source": [
    "X_train, X_test, y_train, y_test = train_test_split(X, Y, test_size=0.2, random_state=42)"
   ]
  },
  {
   "cell_type": "code",
   "execution_count": 24,
   "metadata": {},
   "outputs": [
    {
     "name": "stdout",
     "output_type": "stream",
     "text": [
      "torch.Size([18237, 60]) torch.Size([18237])\n",
      "torch.Size([4560, 60]) torch.Size([4560])\n"
     ]
    }
   ],
   "source": [
    "X_train = torch.from_numpy(X_train.to_numpy()).float()\n",
    "#y_train = torch.squeeze(torch.from_numpy(y_train.to_numpy()).float())\n",
    "\n",
    "#X_test = torch.from_numpy(X_test.to_numpy()).float()\n",
    "#y_test = torch.squeeze(torch.from_numpy(y_test.to_numpy()).float())\n",
    "\n",
    "#_th_train = torch.from_numpy(X_train.to_numpy()).type(torch.LongTensor)\n",
    "y_th_train = torch.from_numpy(y_train.to_numpy()).type(torch.LongTensor)\n",
    "\n",
    "X_th_test = torch.from_numpy(X_test.to_numpy()).type(torch.LongTensor)\n",
    "y_th_test = torch.from_numpy(y_test.to_numpy()).type(torch.LongTensor)\n",
    "\n",
    "\n",
    "print(X_th_train.shape, y_th_train.shape)\n",
    "print(X_th_test.shape, y_th_test.shape)"
   ]
  },
  {
   "cell_type": "code",
   "execution_count": 25,
   "metadata": {},
   "outputs": [],
   "source": [
    "class Net(nn.Module):\n",
    "    def __init__(self, n_features):\n",
    "        super(Net, self).__init__()\n",
    "        self.fc1 = nn.Linear(n_features, 20)\n",
    "        self.fc2 = nn.Linear(20, 20)\n",
    "        self.fc3 = nn.Linear(20, 20)\n",
    "    def forward(self, x):\n",
    "        x = F.relu(self.fc1(x))\n",
    "        x = F.relu(self.fc2(x))\n",
    "        x = self.fc3(x)\n",
    "        \n",
    "        return F.log_softmax(x,dim=1)"
   ]
  },
  {
   "cell_type": "code",
   "execution_count": 26,
   "metadata": {},
   "outputs": [],
   "source": [
    "net = Net(X_train.shape[1])\n",
    "#ann_viz(net, view=False)"
   ]
  },
  {
   "cell_type": "code",
   "execution_count": 27,
   "metadata": {},
   "outputs": [],
   "source": [
    "criterion = nn.CrossEntropyLoss()\n",
    "optimizer = optim.Adam(net.parameters(),lr=0.001)"
   ]
  },
  {
   "cell_type": "code",
   "execution_count": 28,
   "metadata": {},
   "outputs": [],
   "source": [
    "def calculate_accuracy(y_true, y_pred):\n",
    "    predicted = y_pred.ge(.5).view(-1)\n",
    "    return (y_true == predicted).sum().float() / len(y_true)"
   ]
  },
  {
   "cell_type": "code",
   "execution_count": 32,
   "metadata": {},
   "outputs": [
    {
     "ename": "RuntimeError",
     "evalue": "\"nll_loss_out_frame\" not implemented for 'Long'",
     "output_type": "error",
     "traceback": [
      "\u001b[1;31m---------------------------------------------------------------------------\u001b[0m",
      "\u001b[1;31mRuntimeError\u001b[0m                              Traceback (most recent call last)",
      "\u001b[1;32m<ipython-input-32-aa013bfb4336>\u001b[0m in \u001b[0;36m<module>\u001b[1;34m\u001b[0m\n\u001b[0;32m      3\u001b[0m     \u001b[1;31m#pdb.set_trace()\u001b[0m\u001b[1;33m\u001b[0m\u001b[1;33m\u001b[0m\u001b[1;33m\u001b[0m\u001b[0m\n\u001b[0;32m      4\u001b[0m     \u001b[0my_pred\u001b[0m \u001b[1;33m=\u001b[0m \u001b[0my_pred\u001b[0m\u001b[1;33m.\u001b[0m\u001b[0mtype\u001b[0m\u001b[1;33m(\u001b[0m\u001b[0mtorch\u001b[0m\u001b[1;33m.\u001b[0m\u001b[0mLongTensor\u001b[0m\u001b[1;33m)\u001b[0m\u001b[1;33m\u001b[0m\u001b[1;33m\u001b[0m\u001b[0m\n\u001b[1;32m----> 5\u001b[1;33m     \u001b[0mtrain_loss\u001b[0m \u001b[1;33m=\u001b[0m \u001b[0mF\u001b[0m\u001b[1;33m.\u001b[0m\u001b[0mnll_loss\u001b[0m\u001b[1;33m(\u001b[0m\u001b[0my_pred\u001b[0m\u001b[1;33m,\u001b[0m\u001b[0my_th_train\u001b[0m\u001b[1;33m)\u001b[0m\u001b[1;33m\u001b[0m\u001b[1;33m\u001b[0m\u001b[0m\n\u001b[0m\u001b[0;32m      6\u001b[0m \u001b[1;33m\u001b[0m\u001b[0m\n\u001b[0;32m      7\u001b[0m     \u001b[0moptimizer\u001b[0m\u001b[1;33m.\u001b[0m\u001b[0mzero_grad\u001b[0m\u001b[1;33m(\u001b[0m\u001b[1;33m)\u001b[0m\u001b[1;33m\u001b[0m\u001b[1;33m\u001b[0m\u001b[0m\n",
      "\u001b[1;32mC:\\ProgramData\\Anaconda3\\lib\\site-packages\\torch\\nn\\functional.py\u001b[0m in \u001b[0;36mnll_loss\u001b[1;34m(input, target, weight, size_average, ignore_index, reduce, reduction)\u001b[0m\n\u001b[0;32m   1836\u001b[0m                          .format(input.size(0), target.size(0)))\n\u001b[0;32m   1837\u001b[0m     \u001b[1;32mif\u001b[0m \u001b[0mdim\u001b[0m \u001b[1;33m==\u001b[0m \u001b[1;36m2\u001b[0m\u001b[1;33m:\u001b[0m\u001b[1;33m\u001b[0m\u001b[1;33m\u001b[0m\u001b[0m\n\u001b[1;32m-> 1838\u001b[1;33m         \u001b[0mret\u001b[0m \u001b[1;33m=\u001b[0m \u001b[0mtorch\u001b[0m\u001b[1;33m.\u001b[0m\u001b[0m_C\u001b[0m\u001b[1;33m.\u001b[0m\u001b[0m_nn\u001b[0m\u001b[1;33m.\u001b[0m\u001b[0mnll_loss\u001b[0m\u001b[1;33m(\u001b[0m\u001b[0minput\u001b[0m\u001b[1;33m,\u001b[0m \u001b[0mtarget\u001b[0m\u001b[1;33m,\u001b[0m \u001b[0mweight\u001b[0m\u001b[1;33m,\u001b[0m \u001b[0m_Reduction\u001b[0m\u001b[1;33m.\u001b[0m\u001b[0mget_enum\u001b[0m\u001b[1;33m(\u001b[0m\u001b[0mreduction\u001b[0m\u001b[1;33m)\u001b[0m\u001b[1;33m,\u001b[0m \u001b[0mignore_index\u001b[0m\u001b[1;33m)\u001b[0m\u001b[1;33m\u001b[0m\u001b[1;33m\u001b[0m\u001b[0m\n\u001b[0m\u001b[0;32m   1839\u001b[0m     \u001b[1;32melif\u001b[0m \u001b[0mdim\u001b[0m \u001b[1;33m==\u001b[0m \u001b[1;36m4\u001b[0m\u001b[1;33m:\u001b[0m\u001b[1;33m\u001b[0m\u001b[1;33m\u001b[0m\u001b[0m\n\u001b[0;32m   1840\u001b[0m         \u001b[0mret\u001b[0m \u001b[1;33m=\u001b[0m \u001b[0mtorch\u001b[0m\u001b[1;33m.\u001b[0m\u001b[0m_C\u001b[0m\u001b[1;33m.\u001b[0m\u001b[0m_nn\u001b[0m\u001b[1;33m.\u001b[0m\u001b[0mnll_loss2d\u001b[0m\u001b[1;33m(\u001b[0m\u001b[0minput\u001b[0m\u001b[1;33m,\u001b[0m \u001b[0mtarget\u001b[0m\u001b[1;33m,\u001b[0m \u001b[0mweight\u001b[0m\u001b[1;33m,\u001b[0m \u001b[0m_Reduction\u001b[0m\u001b[1;33m.\u001b[0m\u001b[0mget_enum\u001b[0m\u001b[1;33m(\u001b[0m\u001b[0mreduction\u001b[0m\u001b[1;33m)\u001b[0m\u001b[1;33m,\u001b[0m \u001b[0mignore_index\u001b[0m\u001b[1;33m)\u001b[0m\u001b[1;33m\u001b[0m\u001b[1;33m\u001b[0m\u001b[0m\n",
      "\u001b[1;31mRuntimeError\u001b[0m: \"nll_loss_out_frame\" not implemented for 'Long'"
     ]
    }
   ],
   "source": [
    "for epoch in range(1000):\n",
    "    y_pred = net(X_train)\n",
    "    #pdb.set_trace()\n",
    "    y_pred = y_pred.type(torch.LongTensor)\n",
    "    train_loss = F.nll_loss(y_pred,y_th_train)\n",
    "\n",
    "    optimizer.zero_grad()\n",
    "\n",
    "    train_loss.backward()\n",
    "\n",
    "    optimizer.step()"
   ]
  },
  {
   "cell_type": "code",
   "execution_count": null,
   "metadata": {},
   "outputs": [],
   "source": []
  }
 ],
 "metadata": {
  "kernelspec": {
   "display_name": "Python 3",
   "language": "python",
   "name": "python3"
  },
  "language_info": {
   "codemirror_mode": {
    "name": "ipython",
    "version": 3
   },
   "file_extension": ".py",
   "mimetype": "text/x-python",
   "name": "python",
   "nbconvert_exporter": "python",
   "pygments_lexer": "ipython3",
   "version": "3.7.4"
  }
 },
 "nbformat": 4,
 "nbformat_minor": 2
}
