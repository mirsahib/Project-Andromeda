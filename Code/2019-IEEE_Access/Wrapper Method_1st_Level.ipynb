{
 "cells": [
  {
   "cell_type": "code",
   "execution_count": 1,
   "metadata": {},
   "outputs": [],
   "source": [
    "import numpy as np\n",
    "import pandas as pd\n",
    "import seaborn as sns\n",
    "import matplotlib.pyplot as plt\n",
    "%matplotlib inline\n"
   ]
  },
  {
   "cell_type": "code",
   "execution_count": 2,
   "metadata": {},
   "outputs": [],
   "source": [
    "from sklearn.model_selection import train_test_split\n",
    "from sklearn.ensemble import RandomForestRegressor, RandomForestClassifier\n",
    "from sklearn.metrics import roc_auc_score\n",
    "from mlxtend.feature_selection import SequentialFeatureSelector as SFS\n"
   ]
  },
  {
   "cell_type": "code",
   "execution_count": 3,
   "metadata": {},
   "outputs": [],
   "source": [
    "from sklearn.datasets import load_wine\n",
    "from sklearn.preprocessing import StandardScaler\n",
    "from mlxtend.plotting import plot_sequential_feature_selection as plot_sfs\n"
   ]
  },
  {
   "cell_type": "code",
   "execution_count": 5,
   "metadata": {},
   "outputs": [],
   "source": [
    "\n",
    "data = pd.read_csv(r'C:\\Users\\Mir Sahib\\Desktop\\Project-Andromeda\\Dataset\\1st_Level_Feature_Extracted\\1st_Level_Dataset.csv')\n",
    "\n"
   ]
  },
  {
   "cell_type": "code",
   "execution_count": 6,
   "metadata": {
    "scrolled": true
   },
   "outputs": [
    {
     "data": {
      "text/html": [
       "<div>\n",
       "<style scoped>\n",
       "    .dataframe tbody tr th:only-of-type {\n",
       "        vertical-align: middle;\n",
       "    }\n",
       "\n",
       "    .dataframe tbody tr th {\n",
       "        vertical-align: top;\n",
       "    }\n",
       "\n",
       "    .dataframe thead th {\n",
       "        text-align: right;\n",
       "    }\n",
       "</style>\n",
       "<table border=\"1\" class=\"dataframe\">\n",
       "  <thead>\n",
       "    <tr style=\"text-align: right;\">\n",
       "      <th></th>\n",
       "      <th>RangeX</th>\n",
       "      <th>RangeY</th>\n",
       "      <th>RangeZ</th>\n",
       "      <th>MeanX</th>\n",
       "      <th>MeanY</th>\n",
       "      <th>MeanZ</th>\n",
       "      <th>VarX</th>\n",
       "      <th>VarY</th>\n",
       "      <th>VarZ</th>\n",
       "      <th>SkewX</th>\n",
       "      <th>SkewY</th>\n",
       "      <th>SkewZ</th>\n",
       "      <th>Label</th>\n",
       "    </tr>\n",
       "  </thead>\n",
       "  <tbody>\n",
       "    <tr>\n",
       "      <td>0</td>\n",
       "      <td>10.000000</td>\n",
       "      <td>4.000000</td>\n",
       "      <td>12.000000</td>\n",
       "      <td>3.264151</td>\n",
       "      <td>47.345912</td>\n",
       "      <td>30.503145</td>\n",
       "      <td>10.781377</td>\n",
       "      <td>0.620387</td>\n",
       "      <td>9.101143</td>\n",
       "      <td>0.684459</td>\n",
       "      <td>1.147650</td>\n",
       "      <td>-1.072247</td>\n",
       "      <td>1</td>\n",
       "    </tr>\n",
       "    <tr>\n",
       "      <td>1</td>\n",
       "      <td>14.333333</td>\n",
       "      <td>5.000000</td>\n",
       "      <td>-1.666667</td>\n",
       "      <td>6.861635</td>\n",
       "      <td>49.119497</td>\n",
       "      <td>9.371069</td>\n",
       "      <td>3.138088</td>\n",
       "      <td>4.927020</td>\n",
       "      <td>13.055180</td>\n",
       "      <td>1.504449</td>\n",
       "      <td>-0.800700</td>\n",
       "      <td>1.018865</td>\n",
       "      <td>1</td>\n",
       "    </tr>\n",
       "    <tr>\n",
       "      <td>2</td>\n",
       "      <td>25.000000</td>\n",
       "      <td>5.666667</td>\n",
       "      <td>87.333333</td>\n",
       "      <td>7.182390</td>\n",
       "      <td>40.937107</td>\n",
       "      <td>47.553459</td>\n",
       "      <td>35.289585</td>\n",
       "      <td>176.654325</td>\n",
       "      <td>1819.094102</td>\n",
       "      <td>1.363479</td>\n",
       "      <td>-1.024615</td>\n",
       "      <td>0.394305</td>\n",
       "      <td>1</td>\n",
       "    </tr>\n",
       "    <tr>\n",
       "      <td>3</td>\n",
       "      <td>11.333333</td>\n",
       "      <td>46.000000</td>\n",
       "      <td>-3.000000</td>\n",
       "      <td>5.283019</td>\n",
       "      <td>90.742138</td>\n",
       "      <td>9.408805</td>\n",
       "      <td>17.230173</td>\n",
       "      <td>0.510027</td>\n",
       "      <td>52.279419</td>\n",
       "      <td>-0.013016</td>\n",
       "      <td>0.268856</td>\n",
       "      <td>0.149232</td>\n",
       "      <td>1</td>\n",
       "    </tr>\n",
       "    <tr>\n",
       "      <td>4</td>\n",
       "      <td>9.000000</td>\n",
       "      <td>46.333333</td>\n",
       "      <td>3.000000</td>\n",
       "      <td>4.283019</td>\n",
       "      <td>91.459119</td>\n",
       "      <td>12.716981</td>\n",
       "      <td>9.485938</td>\n",
       "      <td>0.319608</td>\n",
       "      <td>39.146315</td>\n",
       "      <td>-0.068285</td>\n",
       "      <td>-0.461924</td>\n",
       "      <td>1.044800</td>\n",
       "      <td>1</td>\n",
       "    </tr>\n",
       "  </tbody>\n",
       "</table>\n",
       "</div>"
      ],
      "text/plain": [
       "      RangeX     RangeY     RangeZ     MeanX      MeanY      MeanZ       VarX  \\\n",
       "0  10.000000   4.000000  12.000000  3.264151  47.345912  30.503145  10.781377   \n",
       "1  14.333333   5.000000  -1.666667  6.861635  49.119497   9.371069   3.138088   \n",
       "2  25.000000   5.666667  87.333333  7.182390  40.937107  47.553459  35.289585   \n",
       "3  11.333333  46.000000  -3.000000  5.283019  90.742138   9.408805  17.230173   \n",
       "4   9.000000  46.333333   3.000000  4.283019  91.459119  12.716981   9.485938   \n",
       "\n",
       "         VarY         VarZ     SkewX     SkewY     SkewZ  Label  \n",
       "0    0.620387     9.101143  0.684459  1.147650 -1.072247      1  \n",
       "1    4.927020    13.055180  1.504449 -0.800700  1.018865      1  \n",
       "2  176.654325  1819.094102  1.363479 -1.024615  0.394305      1  \n",
       "3    0.510027    52.279419 -0.013016  0.268856  0.149232      1  \n",
       "4    0.319608    39.146315 -0.068285 -0.461924  1.044800      1  "
      ]
     },
     "execution_count": 6,
     "metadata": {},
     "output_type": "execute_result"
    }
   ],
   "source": [
    "data.head()\n"
   ]
  },
  {
   "cell_type": "code",
   "execution_count": 8,
   "metadata": {},
   "outputs": [
    {
     "data": {
      "text/plain": [
       "((2835, 12), (2835,))"
      ]
     },
     "execution_count": 8,
     "metadata": {},
     "output_type": "execute_result"
    }
   ],
   "source": [
    "X = data.drop('Label',axis=1)\n",
    "y = data['Label']\n",
    "X.shape,y.shape"
   ]
  },
  {
   "cell_type": "code",
   "execution_count": 9,
   "metadata": {},
   "outputs": [
    {
     "data": {
      "text/plain": [
       "((2268, 12), (567, 12))"
      ]
     },
     "execution_count": 9,
     "metadata": {},
     "output_type": "execute_result"
    }
   ],
   "source": [
    "X_train, X_test, y_train, y_test = train_test_split(X, y, test_size = 0.2, random_state = 0)\n",
    "X_train.shape, X_test.shape\n"
   ]
  },
  {
   "cell_type": "markdown",
   "metadata": {},
   "source": [
    "## Step forward feature selection"
   ]
  },
  {
   "cell_type": "code",
   "execution_count": 10,
   "metadata": {},
   "outputs": [
    {
     "name": "stderr",
     "output_type": "stream",
     "text": [
      "[Parallel(n_jobs=-1)]: Using backend LokyBackend with 4 concurrent workers.\n",
      "[Parallel(n_jobs=-1)]: Done  12 out of  12 | elapsed:    9.5s remaining:    0.0s\n",
      "[Parallel(n_jobs=-1)]: Done  12 out of  12 | elapsed:    9.5s finished\n",
      "\n",
      "[2020-03-18 04:39:30] Features: 1/7 -- score: 0.11196393942822808[Parallel(n_jobs=-1)]: Using backend LokyBackend with 4 concurrent workers.\n",
      "[Parallel(n_jobs=-1)]: Done  11 out of  11 | elapsed:    5.8s finished\n",
      "\n",
      "[2020-03-18 04:39:36] Features: 2/7 -- score: 0.23669842906435784[Parallel(n_jobs=-1)]: Using backend LokyBackend with 4 concurrent workers.\n",
      "[Parallel(n_jobs=-1)]: Done  10 out of  10 | elapsed:    5.8s finished\n",
      "\n",
      "[2020-03-18 04:39:42] Features: 3/7 -- score: 0.3459717989837073[Parallel(n_jobs=-1)]: Using backend LokyBackend with 4 concurrent workers.\n",
      "[Parallel(n_jobs=-1)]: Done   7 out of   9 | elapsed:    5.1s remaining:    1.4s\n",
      "[Parallel(n_jobs=-1)]: Done   9 out of   9 | elapsed:    6.5s finished\n",
      "\n",
      "[2020-03-18 04:39:49] Features: 4/7 -- score: 0.41431387644643525[Parallel(n_jobs=-1)]: Using backend LokyBackend with 4 concurrent workers.\n",
      "[Parallel(n_jobs=-1)]: Done   6 out of   8 | elapsed:    4.8s remaining:    1.5s\n",
      "[Parallel(n_jobs=-1)]: Done   8 out of   8 | elapsed:    5.1s finished\n",
      "\n",
      "[2020-03-18 04:39:54] Features: 5/7 -- score: 0.4624645910312886[Parallel(n_jobs=-1)]: Using backend LokyBackend with 4 concurrent workers.\n",
      "[Parallel(n_jobs=-1)]: Done   4 out of   7 | elapsed:    2.8s remaining:    2.1s\n",
      "[Parallel(n_jobs=-1)]: Done   7 out of   7 | elapsed:    4.9s finished\n",
      "\n",
      "[2020-03-18 04:39:59] Features: 6/7 -- score: 0.49953397700270397[Parallel(n_jobs=-1)]: Using backend LokyBackend with 4 concurrent workers.\n",
      "[Parallel(n_jobs=-1)]: Done   3 out of   6 | elapsed:    2.8s remaining:    2.8s\n",
      "[Parallel(n_jobs=-1)]: Done   6 out of   6 | elapsed:    4.6s finished\n",
      "\n",
      "[2020-03-18 04:40:04] Features: 7/7 -- score: 0.5069892150589239"
     ]
    }
   ],
   "source": [
    "sfs = SFS(RandomForestClassifier(n_estimators=100, random_state=0, n_jobs = -1),\n",
    "         k_features = 7,\n",
    "          forward= True,\n",
    "          floating = False,\n",
    "          verbose= 2,\n",
    "          scoring= 'accuracy',\n",
    "          cv = 4,\n",
    "          n_jobs= -1\n",
    "         ).fit(X_train, y_train)\n"
   ]
  },
  {
   "cell_type": "code",
   "execution_count": 11,
   "metadata": {},
   "outputs": [
    {
     "data": {
      "text/plain": [
       "('RangeY', 'RangeZ', 'MeanX', 'MeanY', 'MeanZ', 'VarX', 'VarZ')"
      ]
     },
     "execution_count": 11,
     "metadata": {},
     "output_type": "execute_result"
    }
   ],
   "source": [
    "sfs.k_feature_names_\n"
   ]
  },
  {
   "cell_type": "code",
   "execution_count": 12,
   "metadata": {},
   "outputs": [
    {
     "data": {
      "text/plain": [
       "(1, 2, 3, 4, 5, 6, 8)"
      ]
     },
     "execution_count": 12,
     "metadata": {},
     "output_type": "execute_result"
    }
   ],
   "source": [
    "sfs.k_feature_idx_\n"
   ]
  },
  {
   "cell_type": "code",
   "execution_count": 13,
   "metadata": {},
   "outputs": [
    {
     "data": {
      "text/plain": [
       "0.5069892150589239"
      ]
     },
     "execution_count": 13,
     "metadata": {},
     "output_type": "execute_result"
    }
   ],
   "source": [
    "sfs.k_score_"
   ]
  },
  {
   "cell_type": "code",
   "execution_count": 23,
   "metadata": {},
   "outputs": [
    {
     "data": {
      "text/html": [
       "<div>\n",
       "<style scoped>\n",
       "    .dataframe tbody tr th:only-of-type {\n",
       "        vertical-align: middle;\n",
       "    }\n",
       "\n",
       "    .dataframe tbody tr th {\n",
       "        vertical-align: top;\n",
       "    }\n",
       "\n",
       "    .dataframe thead th {\n",
       "        text-align: right;\n",
       "    }\n",
       "</style>\n",
       "<table border=\"1\" class=\"dataframe\">\n",
       "  <thead>\n",
       "    <tr style=\"text-align: right;\">\n",
       "      <th></th>\n",
       "      <th>feature_idx</th>\n",
       "      <th>cv_scores</th>\n",
       "      <th>avg_score</th>\n",
       "      <th>feature_names</th>\n",
       "      <th>ci_bound</th>\n",
       "      <th>std_dev</th>\n",
       "      <th>std_err</th>\n",
       "    </tr>\n",
       "  </thead>\n",
       "  <tbody>\n",
       "    <tr>\n",
       "      <td>1</td>\n",
       "      <td>(1,)</td>\n",
       "      <td>[0.11672473867595819, 0.10701754385964912, 0.1...</td>\n",
       "      <td>0.111964</td>\n",
       "      <td>(RangeY,)</td>\n",
       "      <td>0.0147326</td>\n",
       "      <td>0.00919074</td>\n",
       "      <td>0.00530628</td>\n",
       "    </tr>\n",
       "    <tr>\n",
       "      <td>2</td>\n",
       "      <td>(1, 4)</td>\n",
       "      <td>[0.25609756097560976, 0.22456140350877193, 0.2...</td>\n",
       "      <td>0.236698</td>\n",
       "      <td>(RangeY, MeanY)</td>\n",
       "      <td>0.0209029</td>\n",
       "      <td>0.01304</td>\n",
       "      <td>0.00752866</td>\n",
       "    </tr>\n",
       "    <tr>\n",
       "      <td>3</td>\n",
       "      <td>(1, 4, 5)</td>\n",
       "      <td>[0.37282229965156793, 0.3456140350877193, 0.33...</td>\n",
       "      <td>0.345972</td>\n",
       "      <td>(RangeY, MeanY, MeanZ)</td>\n",
       "      <td>0.0266611</td>\n",
       "      <td>0.0166322</td>\n",
       "      <td>0.00960261</td>\n",
       "    </tr>\n",
       "    <tr>\n",
       "      <td>4</td>\n",
       "      <td>(1, 3, 4, 5)</td>\n",
       "      <td>[0.42857142857142855, 0.4263157894736842, 0.41...</td>\n",
       "      <td>0.414314</td>\n",
       "      <td>(RangeY, MeanX, MeanY, MeanZ)</td>\n",
       "      <td>0.0287602</td>\n",
       "      <td>0.0179417</td>\n",
       "      <td>0.0103586</td>\n",
       "    </tr>\n",
       "    <tr>\n",
       "      <td>5</td>\n",
       "      <td>(1, 3, 4, 5, 6)</td>\n",
       "      <td>[0.4616724738675958, 0.47719298245614034, 0.46...</td>\n",
       "      <td>0.462465</td>\n",
       "      <td>(RangeY, MeanX, MeanY, MeanZ, VarX)</td>\n",
       "      <td>0.0155226</td>\n",
       "      <td>0.00968355</td>\n",
       "      <td>0.0055908</td>\n",
       "    </tr>\n",
       "    <tr>\n",
       "      <td>6</td>\n",
       "      <td>(1, 3, 4, 5, 6, 8)</td>\n",
       "      <td>[0.48257839721254353, 0.5280701754385965, 0.50...</td>\n",
       "      <td>0.499534</td>\n",
       "      <td>(RangeY, MeanX, MeanY, MeanZ, VarX, VarZ)</td>\n",
       "      <td>0.0288737</td>\n",
       "      <td>0.0180125</td>\n",
       "      <td>0.0103995</td>\n",
       "    </tr>\n",
       "    <tr>\n",
       "      <td>7</td>\n",
       "      <td>(1, 2, 3, 4, 5, 6, 8)</td>\n",
       "      <td>[0.5, 0.531578947368421, 0.5070921985815603, 0...</td>\n",
       "      <td>0.506989</td>\n",
       "      <td>(RangeY, RangeZ, MeanX, MeanY, MeanZ, VarX, VarZ)</td>\n",
       "      <td>0.0249227</td>\n",
       "      <td>0.0155477</td>\n",
       "      <td>0.00897649</td>\n",
       "    </tr>\n",
       "  </tbody>\n",
       "</table>\n",
       "</div>"
      ],
      "text/plain": [
       "             feature_idx                                          cv_scores  \\\n",
       "1                   (1,)  [0.11672473867595819, 0.10701754385964912, 0.1...   \n",
       "2                 (1, 4)  [0.25609756097560976, 0.22456140350877193, 0.2...   \n",
       "3              (1, 4, 5)  [0.37282229965156793, 0.3456140350877193, 0.33...   \n",
       "4           (1, 3, 4, 5)  [0.42857142857142855, 0.4263157894736842, 0.41...   \n",
       "5        (1, 3, 4, 5, 6)  [0.4616724738675958, 0.47719298245614034, 0.46...   \n",
       "6     (1, 3, 4, 5, 6, 8)  [0.48257839721254353, 0.5280701754385965, 0.50...   \n",
       "7  (1, 2, 3, 4, 5, 6, 8)  [0.5, 0.531578947368421, 0.5070921985815603, 0...   \n",
       "\n",
       "  avg_score                                      feature_names   ci_bound  \\\n",
       "1  0.111964                                          (RangeY,)  0.0147326   \n",
       "2  0.236698                                    (RangeY, MeanY)  0.0209029   \n",
       "3  0.345972                             (RangeY, MeanY, MeanZ)  0.0266611   \n",
       "4  0.414314                      (RangeY, MeanX, MeanY, MeanZ)  0.0287602   \n",
       "5  0.462465                (RangeY, MeanX, MeanY, MeanZ, VarX)  0.0155226   \n",
       "6  0.499534          (RangeY, MeanX, MeanY, MeanZ, VarX, VarZ)  0.0288737   \n",
       "7  0.506989  (RangeY, RangeZ, MeanX, MeanY, MeanZ, VarX, VarZ)  0.0249227   \n",
       "\n",
       "      std_dev     std_err  \n",
       "1  0.00919074  0.00530628  \n",
       "2     0.01304  0.00752866  \n",
       "3   0.0166322  0.00960261  \n",
       "4   0.0179417   0.0103586  \n",
       "5  0.00968355   0.0055908  \n",
       "6   0.0180125   0.0103995  \n",
       "7   0.0155477  0.00897649  "
      ]
     },
     "execution_count": 23,
     "metadata": {},
     "output_type": "execute_result"
    }
   ],
   "source": [
    "sfsDF = pd.DataFrame.from_dict(sfs.get_metric_dict()).T\n",
    "sfsDF"
   ]
  },
  {
   "cell_type": "code",
   "execution_count": 33,
   "metadata": {},
   "outputs": [],
   "source": [
    "sfsDF.to_csv(r'C:\\Users\\Mir Sahib\\Desktop\\Project-Andromeda\\Metric\\1st_level_SFS.csv')"
   ]
  },
  {
   "cell_type": "code",
   "execution_count": 24,
   "metadata": {},
   "outputs": [
    {
     "data": {
      "text/plain": [
       "(<Figure size 432x288 with 1 Axes>,\n",
       " <matplotlib.axes._subplots.AxesSubplot at 0x25010e5a448>)"
      ]
     },
     "execution_count": 24,
     "metadata": {},
     "output_type": "execute_result"
    },
    {
     "data": {
      "image/png": "[encoded data removed]",
      "text/plain": [
       "<Figure size 432x288 with 1 Axes>"
      ]
     },
     "metadata": {
      "needs_background": "light"
     },
     "output_type": "display_data"
    }
   ],
   "source": [
    "plot_sfs(sfs.get_metric_dict(), kind='std_dev')"
   ]
  },
  {
   "cell_type": "markdown",
   "metadata": {},
   "source": [
    "## Step Backward feature selection"
   ]
  },
  {
   "cell_type": "code",
   "execution_count": 25,
   "metadata": {},
   "outputs": [
    {
     "name": "stderr",
     "output_type": "stream",
     "text": [
      "[Parallel(n_jobs=-1)]: Using backend LokyBackend with 4 concurrent workers.\n",
      "[Parallel(n_jobs=-1)]: Done  12 out of  12 | elapsed:   11.2s remaining:    0.0s\n",
      "[Parallel(n_jobs=-1)]: Done  12 out of  12 | elapsed:   11.2s finished\n",
      "\n",
      "[2020-03-18 04:51:35] Features: 11/1 -- score: 0.5206225215347657[Parallel(n_jobs=-1)]: Using backend LokyBackend with 4 concurrent workers.\n",
      "[Parallel(n_jobs=-1)]: Done  11 out of  11 | elapsed:    8.7s finished\n",
      "\n",
      "[2020-03-18 04:51:44] Features: 10/1 -- score: 0.5228411502940018[Parallel(n_jobs=-1)]: Using backend LokyBackend with 4 concurrent workers.\n",
      "[Parallel(n_jobs=-1)]: Done  10 out of  10 | elapsed:    8.1s finished\n",
      "\n",
      "[2020-03-18 04:51:52] Features: 9/1 -- score: 0.5228462063955946[Parallel(n_jobs=-1)]: Using backend LokyBackend with 4 concurrent workers.\n",
      "[Parallel(n_jobs=-1)]: Done   7 out of   9 | elapsed:    5.4s remaining:    1.5s\n",
      "[Parallel(n_jobs=-1)]: Done   9 out of   9 | elapsed:    6.6s finished\n",
      "\n",
      "[2020-03-18 04:51:59] Features: 8/1 -- score: 0.523728683085503[Parallel(n_jobs=-1)]: Using backend LokyBackend with 4 concurrent workers.\n",
      "[Parallel(n_jobs=-1)]: Done   6 out of   8 | elapsed:    4.7s remaining:    1.5s\n",
      "[Parallel(n_jobs=-1)]: Done   8 out of   8 | elapsed:    4.9s finished\n",
      "\n",
      "[2020-03-18 04:52:04] Features: 7/1 -- score: 0.5069892150589239[Parallel(n_jobs=-1)]: Using backend LokyBackend with 4 concurrent workers.\n",
      "[Parallel(n_jobs=-1)]: Done   4 out of   7 | elapsed:    2.7s remaining:    2.0s\n",
      "[Parallel(n_jobs=-1)]: Done   7 out of   7 | elapsed:    4.6s finished\n",
      "\n",
      "[2020-03-18 04:52:08] Features: 6/1 -- score: 0.49953397700270397[Parallel(n_jobs=-1)]: Using backend LokyBackend with 4 concurrent workers.\n",
      "[Parallel(n_jobs=-1)]: Done   3 out of   6 | elapsed:    2.5s remaining:    2.5s\n",
      "[Parallel(n_jobs=-1)]: Done   6 out of   6 | elapsed:    4.2s finished\n",
      "\n",
      "[2020-03-18 04:52:13] Features: 5/1 -- score: 0.4624645910312886[Parallel(n_jobs=-1)]: Using backend LokyBackend with 4 concurrent workers.\n",
      "[Parallel(n_jobs=-1)]: Done   5 out of   5 | elapsed:    3.8s finished\n",
      "\n",
      "[2020-03-18 04:52:17] Features: 4/1 -- score: 0.41431387644643525[Parallel(n_jobs=-1)]: Using backend LokyBackend with 4 concurrent workers.\n",
      "[Parallel(n_jobs=-1)]: Done   4 out of   4 | elapsed:    2.1s finished\n",
      "\n",
      "[2020-03-18 04:52:19] Features: 3/1 -- score: 0.3459717989837073[Parallel(n_jobs=-1)]: Using backend LokyBackend with 4 concurrent workers.\n",
      "[Parallel(n_jobs=-1)]: Done   3 out of   3 | elapsed:    1.9s finished\n",
      "\n",
      "[2020-03-18 04:52:21] Features: 2/1 -- score: 0.23669842906435784[Parallel(n_jobs=-1)]: Using backend LokyBackend with 4 concurrent workers.\n",
      "[Parallel(n_jobs=-1)]: Done   2 out of   2 | elapsed:    1.5s finished\n",
      "\n",
      "[2020-03-18 04:52:22] Features: 1/1 -- score: 0.11196393942822808"
     ]
    }
   ],
   "source": [
    "sbs = SFS(RandomForestClassifier(n_estimators=100, random_state=0, n_jobs = -1),\n",
    "         k_features = (1, 8),\n",
    "          forward= False,\n",
    "          floating = False,\n",
    "          verbose= 2,\n",
    "          scoring= 'accuracy',\n",
    "          cv = 4,\n",
    "          n_jobs= -1\n",
    "         ).fit(X_train, y_train)\n"
   ]
  },
  {
   "cell_type": "code",
   "execution_count": 26,
   "metadata": {},
   "outputs": [
    {
     "data": {
      "text/plain": [
       "0.523728683085503"
      ]
     },
     "execution_count": 26,
     "metadata": {},
     "output_type": "execute_result"
    }
   ],
   "source": [
    "sbs.k_score_\n"
   ]
  },
  {
   "cell_type": "code",
   "execution_count": 27,
   "metadata": {},
   "outputs": [
    {
     "data": {
      "text/plain": [
       "('RangeY', 'RangeZ', 'MeanX', 'MeanY', 'MeanZ', 'VarX', 'VarY', 'VarZ')"
      ]
     },
     "execution_count": 27,
     "metadata": {},
     "output_type": "execute_result"
    }
   ],
   "source": [
    "sbs.k_feature_names_\n"
   ]
  },
  {
   "cell_type": "code",
   "execution_count": 29,
   "metadata": {},
   "outputs": [
    {
     "data": {
      "text/html": [
       "<div>\n",
       "<style scoped>\n",
       "    .dataframe tbody tr th:only-of-type {\n",
       "        vertical-align: middle;\n",
       "    }\n",
       "\n",
       "    .dataframe tbody tr th {\n",
       "        vertical-align: top;\n",
       "    }\n",
       "\n",
       "    .dataframe thead th {\n",
       "        text-align: right;\n",
       "    }\n",
       "</style>\n",
       "<table border=\"1\" class=\"dataframe\">\n",
       "  <thead>\n",
       "    <tr style=\"text-align: right;\">\n",
       "      <th></th>\n",
       "      <th>feature_idx</th>\n",
       "      <th>cv_scores</th>\n",
       "      <th>avg_score</th>\n",
       "      <th>feature_names</th>\n",
       "      <th>ci_bound</th>\n",
       "      <th>std_dev</th>\n",
       "      <th>std_err</th>\n",
       "    </tr>\n",
       "  </thead>\n",
       "  <tbody>\n",
       "    <tr>\n",
       "      <td>12</td>\n",
       "      <td>(0, 1, 2, 3, 4, 5, 6, 7, 8, 9, 10, 11)</td>\n",
       "      <td>[0.5313588850174216, 0.5368421052631579, 0.510...</td>\n",
       "      <td>0.518817</td>\n",
       "      <td>(RangeX, RangeY, RangeZ, MeanX, MeanY, MeanZ, ...</td>\n",
       "      <td>0.0259754</td>\n",
       "      <td>0.0162044</td>\n",
       "      <td>0.00935564</td>\n",
       "    </tr>\n",
       "    <tr>\n",
       "      <td>11</td>\n",
       "      <td>(0, 1, 2, 3, 4, 5, 6, 7, 8, 9, 10)</td>\n",
       "      <td>[0.5156794425087108, 0.5578947368421052, 0.501...</td>\n",
       "      <td>0.520623</td>\n",
       "      <td>(RangeX, RangeY, RangeZ, MeanX, MeanY, MeanZ, ...</td>\n",
       "      <td>0.0353988</td>\n",
       "      <td>0.0220831</td>\n",
       "      <td>0.0127497</td>\n",
       "    </tr>\n",
       "    <tr>\n",
       "      <td>10</td>\n",
       "      <td>(0, 1, 2, 3, 4, 5, 6, 7, 8, 10)</td>\n",
       "      <td>[0.5365853658536586, 0.5245614035087719, 0.519...</td>\n",
       "      <td>0.522841</td>\n",
       "      <td>(RangeX, RangeY, RangeZ, MeanX, MeanY, MeanZ, ...</td>\n",
       "      <td>0.0149959</td>\n",
       "      <td>0.00935499</td>\n",
       "      <td>0.0054011</td>\n",
       "    </tr>\n",
       "    <tr>\n",
       "      <td>9</td>\n",
       "      <td>(0, 1, 2, 3, 4, 5, 6, 7, 8)</td>\n",
       "      <td>[0.5348432055749129, 0.5350877192982456, 0.496...</td>\n",
       "      <td>0.522846</td>\n",
       "      <td>(RangeX, RangeY, RangeZ, MeanX, MeanY, MeanZ, ...</td>\n",
       "      <td>0.0252816</td>\n",
       "      <td>0.0157716</td>\n",
       "      <td>0.00910575</td>\n",
       "    </tr>\n",
       "    <tr>\n",
       "      <td>8</td>\n",
       "      <td>(1, 2, 3, 4, 5, 6, 7, 8)</td>\n",
       "      <td>[0.5261324041811847, 0.5368421052631579, 0.528...</td>\n",
       "      <td>0.523729</td>\n",
       "      <td>(RangeY, RangeZ, MeanX, MeanY, MeanZ, VarX, Va...</td>\n",
       "      <td>0.0197236</td>\n",
       "      <td>0.0123043</td>\n",
       "      <td>0.0071039</td>\n",
       "    </tr>\n",
       "    <tr>\n",
       "      <td>7</td>\n",
       "      <td>(1, 2, 3, 4, 5, 6, 8)</td>\n",
       "      <td>[0.5, 0.531578947368421, 0.5070921985815603, 0...</td>\n",
       "      <td>0.506989</td>\n",
       "      <td>(RangeY, RangeZ, MeanX, MeanY, MeanZ, VarX, VarZ)</td>\n",
       "      <td>0.0249227</td>\n",
       "      <td>0.0155477</td>\n",
       "      <td>0.00897649</td>\n",
       "    </tr>\n",
       "    <tr>\n",
       "      <td>6</td>\n",
       "      <td>(1, 3, 4, 5, 6, 8)</td>\n",
       "      <td>[0.48257839721254353, 0.5280701754385965, 0.50...</td>\n",
       "      <td>0.499534</td>\n",
       "      <td>(RangeY, MeanX, MeanY, MeanZ, VarX, VarZ)</td>\n",
       "      <td>0.0288737</td>\n",
       "      <td>0.0180125</td>\n",
       "      <td>0.0103995</td>\n",
       "    </tr>\n",
       "    <tr>\n",
       "      <td>5</td>\n",
       "      <td>(1, 3, 4, 5, 6)</td>\n",
       "      <td>[0.4616724738675958, 0.47719298245614034, 0.46...</td>\n",
       "      <td>0.462465</td>\n",
       "      <td>(RangeY, MeanX, MeanY, MeanZ, VarX)</td>\n",
       "      <td>0.0155226</td>\n",
       "      <td>0.00968355</td>\n",
       "      <td>0.0055908</td>\n",
       "    </tr>\n",
       "    <tr>\n",
       "      <td>4</td>\n",
       "      <td>(1, 3, 4, 5)</td>\n",
       "      <td>[0.42857142857142855, 0.4263157894736842, 0.41...</td>\n",
       "      <td>0.414314</td>\n",
       "      <td>(RangeY, MeanX, MeanY, MeanZ)</td>\n",
       "      <td>0.0287602</td>\n",
       "      <td>0.0179417</td>\n",
       "      <td>0.0103586</td>\n",
       "    </tr>\n",
       "    <tr>\n",
       "      <td>3</td>\n",
       "      <td>(1, 4, 5)</td>\n",
       "      <td>[0.37282229965156793, 0.3456140350877193, 0.33...</td>\n",
       "      <td>0.345972</td>\n",
       "      <td>(RangeY, MeanY, MeanZ)</td>\n",
       "      <td>0.0266611</td>\n",
       "      <td>0.0166322</td>\n",
       "      <td>0.00960261</td>\n",
       "    </tr>\n",
       "    <tr>\n",
       "      <td>2</td>\n",
       "      <td>(1, 4)</td>\n",
       "      <td>[0.25609756097560976, 0.22456140350877193, 0.2...</td>\n",
       "      <td>0.236698</td>\n",
       "      <td>(RangeY, MeanY)</td>\n",
       "      <td>0.0209029</td>\n",
       "      <td>0.01304</td>\n",
       "      <td>0.00752866</td>\n",
       "    </tr>\n",
       "    <tr>\n",
       "      <td>1</td>\n",
       "      <td>(1,)</td>\n",
       "      <td>[0.11672473867595819, 0.10701754385964912, 0.1...</td>\n",
       "      <td>0.111964</td>\n",
       "      <td>(RangeY,)</td>\n",
       "      <td>0.0147326</td>\n",
       "      <td>0.00919074</td>\n",
       "      <td>0.00530628</td>\n",
       "    </tr>\n",
       "  </tbody>\n",
       "</table>\n",
       "</div>"
      ],
      "text/plain": [
       "                               feature_idx  \\\n",
       "12  (0, 1, 2, 3, 4, 5, 6, 7, 8, 9, 10, 11)   \n",
       "11      (0, 1, 2, 3, 4, 5, 6, 7, 8, 9, 10)   \n",
       "10         (0, 1, 2, 3, 4, 5, 6, 7, 8, 10)   \n",
       "9              (0, 1, 2, 3, 4, 5, 6, 7, 8)   \n",
       "8                 (1, 2, 3, 4, 5, 6, 7, 8)   \n",
       "7                    (1, 2, 3, 4, 5, 6, 8)   \n",
       "6                       (1, 3, 4, 5, 6, 8)   \n",
       "5                          (1, 3, 4, 5, 6)   \n",
       "4                             (1, 3, 4, 5)   \n",
       "3                                (1, 4, 5)   \n",
       "2                                   (1, 4)   \n",
       "1                                     (1,)   \n",
       "\n",
       "                                            cv_scores avg_score  \\\n",
       "12  [0.5313588850174216, 0.5368421052631579, 0.510...  0.518817   \n",
       "11  [0.5156794425087108, 0.5578947368421052, 0.501...  0.520623   \n",
       "10  [0.5365853658536586, 0.5245614035087719, 0.519...  0.522841   \n",
       "9   [0.5348432055749129, 0.5350877192982456, 0.496...  0.522846   \n",
       "8   [0.5261324041811847, 0.5368421052631579, 0.528...  0.523729   \n",
       "7   [0.5, 0.531578947368421, 0.5070921985815603, 0...  0.506989   \n",
       "6   [0.48257839721254353, 0.5280701754385965, 0.50...  0.499534   \n",
       "5   [0.4616724738675958, 0.47719298245614034, 0.46...  0.462465   \n",
       "4   [0.42857142857142855, 0.4263157894736842, 0.41...  0.414314   \n",
       "3   [0.37282229965156793, 0.3456140350877193, 0.33...  0.345972   \n",
       "2   [0.25609756097560976, 0.22456140350877193, 0.2...  0.236698   \n",
       "1   [0.11672473867595819, 0.10701754385964912, 0.1...  0.111964   \n",
       "\n",
       "                                        feature_names   ci_bound     std_dev  \\\n",
       "12  (RangeX, RangeY, RangeZ, MeanX, MeanY, MeanZ, ...  0.0259754   0.0162044   \n",
       "11  (RangeX, RangeY, RangeZ, MeanX, MeanY, MeanZ, ...  0.0353988   0.0220831   \n",
       "10  (RangeX, RangeY, RangeZ, MeanX, MeanY, MeanZ, ...  0.0149959  0.00935499   \n",
       "9   (RangeX, RangeY, RangeZ, MeanX, MeanY, MeanZ, ...  0.0252816   0.0157716   \n",
       "8   (RangeY, RangeZ, MeanX, MeanY, MeanZ, VarX, Va...  0.0197236   0.0123043   \n",
       "7   (RangeY, RangeZ, MeanX, MeanY, MeanZ, VarX, VarZ)  0.0249227   0.0155477   \n",
       "6           (RangeY, MeanX, MeanY, MeanZ, VarX, VarZ)  0.0288737   0.0180125   \n",
       "5                 (RangeY, MeanX, MeanY, MeanZ, VarX)  0.0155226  0.00968355   \n",
       "4                       (RangeY, MeanX, MeanY, MeanZ)  0.0287602   0.0179417   \n",
       "3                              (RangeY, MeanY, MeanZ)  0.0266611   0.0166322   \n",
       "2                                     (RangeY, MeanY)  0.0209029     0.01304   \n",
       "1                                           (RangeY,)  0.0147326  0.00919074   \n",
       "\n",
       "       std_err  \n",
       "12  0.00935564  \n",
       "11   0.0127497  \n",
       "10   0.0054011  \n",
       "9   0.00910575  \n",
       "8    0.0071039  \n",
       "7   0.00897649  \n",
       "6    0.0103995  \n",
       "5    0.0055908  \n",
       "4    0.0103586  \n",
       "3   0.00960261  \n",
       "2   0.00752866  \n",
       "1   0.00530628  "
      ]
     },
     "execution_count": 29,
     "metadata": {},
     "output_type": "execute_result"
    }
   ],
   "source": [
    "sbsDF = pd.DataFrame.from_dict(sbs.get_metric_dict()).T\n",
    "sbsDF"
   ]
  },
  {
   "cell_type": "code",
   "execution_count": 34,
   "metadata": {},
   "outputs": [],
   "source": [
    "sbsDF.to_csv(r'C:\\Users\\Mir Sahib\\Desktop\\Project-Andromeda\\Metric\\1st_level_SBS.csv')"
   ]
  },
  {
   "cell_type": "code",
   "execution_count": 31,
   "metadata": {},
   "outputs": [
    {
     "data": {
      "text/plain": [
       "(<Figure size 432x288 with 1 Axes>,\n",
       " <matplotlib.axes._subplots.AxesSubplot at 0x25010e59a88>)"
      ]
     },
     "execution_count": 31,
     "metadata": {},
     "output_type": "execute_result"
    },
    {
     "data": {
      "image/png": "[encoded data removed]",
      "text/plain": [
       "<Figure size 432x288 with 1 Axes>"
      ]
     },
     "metadata": {
      "needs_background": "light"
     },
     "output_type": "display_data"
    }
   ],
   "source": [
    "plot_sfs(sbs.get_metric_dict(), kind='std_dev')"
   ]
  },
  {
   "cell_type": "markdown",
   "metadata": {},
   "source": [
    "## Exhaustive feature selection"
   ]
  },
  {
   "cell_type": "code",
   "execution_count": 35,
   "metadata": {},
   "outputs": [],
   "source": [
    "from mlxtend.feature_selection import ExhaustiveFeatureSelector as EFS\n"
   ]
  },
  {
   "cell_type": "code",
   "execution_count": 36,
   "metadata": {},
   "outputs": [
    {
     "name": "stderr",
     "output_type": "stream",
     "text": [
      "Features: 3003/3003"
     ]
    }
   ],
   "source": [
    "efs = EFS(RandomForestClassifier(n_estimators=100, random_state=0, n_jobs=-1),\n",
    "         min_features= 4,\n",
    "          max_features= 7,\n",
    "          scoring='accuracy',\n",
    "          cv = None,\n",
    "          n_jobs=-1\n",
    "         ).fit(X_train, y_train)\n"
   ]
  },
  {
   "cell_type": "code",
   "execution_count": 22,
   "metadata": {},
   "outputs": [
    {
     "name": "stdout",
     "output_type": "stream",
     "text": [
      "Help on ExhaustiveFeatureSelector in module mlxtend.feature_selection.exhaustive_feature_selector object:\n",
      "\n",
      "class ExhaustiveFeatureSelector(sklearn.base.BaseEstimator, sklearn.base.MetaEstimatorMixin)\n",
      " |  ExhaustiveFeatureSelector(estimator, min_features=1, max_features=1, print_progress=True, scoring='accuracy', cv=5, n_jobs=1, pre_dispatch='2*n_jobs', clone_estimator=True)\n",
      " |  \n",
      " |  Exhaustive Feature Selection for Classification and Regression.\n",
      " |     (new in v0.4.3)\n",
      " |  \n",
      " |  Parameters\n",
      " |  ----------\n",
      " |  estimator : scikit-learn classifier or regressor\n",
      " |  min_features : int (default: 1)\n",
      " |      Minumum number of features to select\n",
      " |  max_features : int (default: 1)\n",
      " |      Maximum number of features to select\n",
      " |  print_progress : bool (default: True)\n",
      " |      Prints progress as the number of epochs\n",
      " |      to stderr.\n",
      " |  scoring : str, (default='accuracy')\n",
      " |      Scoring metric in {accuracy, f1, precision, recall, roc_auc}\n",
      " |      for classifiers,\n",
      " |      {'mean_absolute_error', 'mean_squared_error',\n",
      " |      'median_absolute_error', 'r2'} for regressors,\n",
      " |      or a callable object or function with\n",
      " |      signature ``scorer(estimator, X, y)``.\n",
      " |  cv : int (default: 5)\n",
      " |      Scikit-learn cross-validation generator or `int`.\n",
      " |      If estimator is a classifier (or y consists of integer class labels),\n",
      " |      stratified k-fold is performed, and regular k-fold cross-validation\n",
      " |      otherwise.\n",
      " |      No cross-validation if cv is None, False, or 0.\n",
      " |  n_jobs : int (default: 1)\n",
      " |      The number of CPUs to use for evaluating different feature subsets\n",
      " |      in parallel. -1 means 'all CPUs'.\n",
      " |  pre_dispatch : int, or string (default: '2*n_jobs')\n",
      " |      Controls the number of jobs that get dispatched\n",
      " |      during parallel execution if `n_jobs > 1` or `n_jobs=-1`.\n",
      " |      Reducing this number can be useful to avoid an explosion of\n",
      " |      memory consumption when more jobs get dispatched than CPUs can process.\n",
      " |      This parameter can be:\n",
      " |      None, in which case all the jobs are immediately created and spawned.\n",
      " |          Use this for lightweight and fast-running jobs,\n",
      " |          to avoid delays due to on-demand spawning of the jobs\n",
      " |      An int, giving the exact number of total jobs that are spawned\n",
      " |      A string, giving an expression as a function\n",
      " |          of n_jobs, as in `2*n_jobs`\n",
      " |  clone_estimator : bool (default: True)\n",
      " |      Clones estimator if True; works with the original estimator instance\n",
      " |      if False. Set to False if the estimator doesn't\n",
      " |      implement scikit-learn's set_params and get_params methods.\n",
      " |      In addition, it is required to set cv=0, and n_jobs=1.\n",
      " |  \n",
      " |  Attributes\n",
      " |  ----------\n",
      " |  best_idx_ : array-like, shape = [n_predictions]\n",
      " |      Feature Indices of the selected feature subsets.\n",
      " |  best_feature_names_ : array-like, shape = [n_predictions]\n",
      " |      Feature names of the selected feature subsets. If pandas\n",
      " |      DataFrames are used in the `fit` method, the feature\n",
      " |      names correspond to the column names. Otherwise, the\n",
      " |      feature names are string representation of the feature\n",
      " |      array indices. New in v 0.13.0.\n",
      " |  best_score_ : float\n",
      " |      Cross validation average score of the selected subset.\n",
      " |  subsets_ : dict\n",
      " |      A dictionary of selected feature subsets during the\n",
      " |      exhaustive selection, where the dictionary keys are\n",
      " |      the lengths k of these feature subsets. The dictionary\n",
      " |      values are dictionaries themselves with the following\n",
      " |      keys: 'feature_idx' (tuple of indices of the feature subset)\n",
      " |            'feature_names' (tuple of feature names of the feat. subset)\n",
      " |            'cv_scores' (list individual cross-validation scores)\n",
      " |            'avg_score' (average cross-validation score)\n",
      " |      Note that if pandas\n",
      " |      DataFrames are used in the `fit` method, the 'feature_names'\n",
      " |      correspond to the column names. Otherwise, the\n",
      " |      feature names are string representation of the feature\n",
      " |      array indices. The 'feature_names' is new in v 0.13.0.\n",
      " |  \n",
      " |  Examples\n",
      " |  -----------\n",
      " |  For usage examples, please see\n",
      " |  http://rasbt.github.io/mlxtend/user_guide/feature_selection/ExhaustiveFeatureSelector/\n",
      " |  \n",
      " |  Method resolution order:\n",
      " |      ExhaustiveFeatureSelector\n",
      " |      sklearn.base.BaseEstimator\n",
      " |      sklearn.base.MetaEstimatorMixin\n",
      " |      builtins.object\n",
      " |  \n",
      " |  Methods defined here:\n",
      " |  \n",
      " |  __init__(self, estimator, min_features=1, max_features=1, print_progress=True, scoring='accuracy', cv=5, n_jobs=1, pre_dispatch='2*n_jobs', clone_estimator=True)\n",
      " |      Initialize self.  See help(type(self)) for accurate signature.\n",
      " |  \n",
      " |  fit(self, X, y, custom_feature_names=None, groups=None, **fit_params)\n",
      " |      Perform feature selection and learn model from training data.\n",
      " |      \n",
      " |      Parameters\n",
      " |      ----------\n",
      " |      X : {array-like, sparse matrix}, shape = [n_samples, n_features]\n",
      " |          Training vectors, where n_samples is the number of samples and\n",
      " |          n_features is the number of features.\n",
      " |          New in v 0.13.0: pandas DataFrames are now also accepted as\n",
      " |          argument for X.\n",
      " |      y : array-like, shape = [n_samples]\n",
      " |          Target values.\n",
      " |      custom_feature_names : None or tuple (default: tuple)\n",
      " |          Custom feature names for `self.k_feature_names` and\n",
      " |          `self.subsets_[i]['feature_names']`.\n",
      " |          (new in v 0.13.0)\n",
      " |      groups : array-like, with shape (n_samples,), optional\n",
      " |          Group labels for the samples used while splitting the dataset into\n",
      " |          train/test set. Passed to the fit method of the cross-validator.\n",
      " |      fit_params : dict of string -> object, optional\n",
      " |          Parameters to pass to to the fit method of classifier.\n",
      " |      \n",
      " |      Returns\n",
      " |      -------\n",
      " |      self : object\n",
      " |  \n",
      " |  fit_transform(self, X, y, groups=None, **fit_params)\n",
      " |      Fit to training data and return the best selected features from X.\n",
      " |      \n",
      " |      Parameters\n",
      " |      ----------\n",
      " |      X : {array-like, sparse matrix}, shape = [n_samples, n_features]\n",
      " |          Training vectors, where n_samples is the number of samples and\n",
      " |          n_features is the number of features.\n",
      " |          New in v 0.13.0: pandas DataFrames are now also accepted as\n",
      " |          argument for X.\n",
      " |      y : array-like, shape = [n_samples]\n",
      " |          Target values.\n",
      " |      groups : array-like, with shape (n_samples,), optional\n",
      " |          Group labels for the samples used while splitting the dataset into\n",
      " |          train/test set. Passed to the fit method of the cross-validator.\n",
      " |      fit_params : dict of string -> object, optional\n",
      " |          Parameters to pass to to the fit method of classifier.\n",
      " |      \n",
      " |      Returns\n",
      " |      -------\n",
      " |      Feature subset of X, shape={n_samples, k_features}\n",
      " |  \n",
      " |  get_metric_dict(self, confidence_interval=0.95)\n",
      " |      Return metric dictionary\n",
      " |      \n",
      " |      Parameters\n",
      " |      ----------\n",
      " |      confidence_interval : float (default: 0.95)\n",
      " |          A positive float between 0.0 and 1.0 to compute the confidence\n",
      " |          interval bounds of the CV score averages.\n",
      " |      \n",
      " |      Returns\n",
      " |      ----------\n",
      " |      Dictionary with items where each dictionary value is a list\n",
      " |      with the number of iterations (number of feature subsets) as\n",
      " |      its length. The dictionary keys corresponding to these lists\n",
      " |      are as follows:\n",
      " |          'feature_idx': tuple of the indices of the feature subset\n",
      " |          'cv_scores': list with individual CV scores\n",
      " |          'avg_score': of CV average scores\n",
      " |          'std_dev': standard deviation of the CV score average\n",
      " |          'std_err': standard error of the CV score average\n",
      " |          'ci_bound': confidence interval bound of the CV score average\n",
      " |  \n",
      " |  transform(self, X)\n",
      " |      Return the best selected features from X.\n",
      " |      \n",
      " |      Parameters\n",
      " |      ----------\n",
      " |      X : {array-like, sparse matrix}, shape = [n_samples, n_features]\n",
      " |          Training vectors, where n_samples is the number of samples and\n",
      " |          n_features is the number of features.\n",
      " |          New in v 0.13.0: pandas DataFrames are now also accepted as\n",
      " |          argument for X.\n",
      " |      \n",
      " |      Returns\n",
      " |      -------\n",
      " |      Feature subset of X, shape={n_samples, k_features}\n",
      " |  \n",
      " |  ----------------------------------------------------------------------\n",
      " |  Methods inherited from sklearn.base.BaseEstimator:\n",
      " |  \n",
      " |  __getstate__(self)\n",
      " |  \n",
      " |  __repr__(self, N_CHAR_MAX=700)\n",
      " |      Return repr(self).\n",
      " |  \n",
      " |  __setstate__(self, state)\n",
      " |  \n",
      " |  get_params(self, deep=True)\n",
      " |      Get parameters for this estimator.\n",
      " |      \n",
      " |      Parameters\n",
      " |      ----------\n",
      " |      deep : boolean, optional\n",
      " |          If True, will return the parameters for this estimator and\n",
      " |          contained subobjects that are estimators.\n",
      " |      \n",
      " |      Returns\n",
      " |      -------\n",
      " |      params : mapping of string to any\n",
      " |          Parameter names mapped to their values.\n",
      " |  \n",
      " |  set_params(self, **params)\n",
      " |      Set the parameters of this estimator.\n",
      " |      \n",
      " |      The method works on simple estimators as well as on nested objects\n",
      " |      (such as pipelines). The latter have parameters of the form\n",
      " |      ``<component>__<parameter>`` so that it's possible to update each\n",
      " |      component of a nested object.\n",
      " |      \n",
      " |      Returns\n",
      " |      -------\n",
      " |      self\n",
      " |  \n",
      " |  ----------------------------------------------------------------------\n",
      " |  Data descriptors inherited from sklearn.base.BaseEstimator:\n",
      " |  \n",
      " |  __dict__\n",
      " |      dictionary for instance variables (if defined)\n",
      " |  \n",
      " |  __weakref__\n",
      " |      list of weak references to the object (if defined)\n",
      "\n"
     ]
    }
   ],
   "source": [
    "help(efs)\n"
   ]
  },
  {
   "cell_type": "code",
   "execution_count": 37,
   "metadata": {},
   "outputs": [
    {
     "data": {
      "text/plain": [
       "1.0"
      ]
     },
     "execution_count": 37,
     "metadata": {},
     "output_type": "execute_result"
    }
   ],
   "source": [
    "efs.best_score_\n"
   ]
  },
  {
   "cell_type": "code",
   "execution_count": 38,
   "metadata": {},
   "outputs": [
    {
     "data": {
      "text/plain": [
       "('RangeX', 'RangeY', 'RangeZ', 'MeanX')"
      ]
     },
     "execution_count": 38,
     "metadata": {},
     "output_type": "execute_result"
    }
   ],
   "source": [
    "efs.best_feature_names_\n"
   ]
  },
  {
   "cell_type": "code",
   "execution_count": 39,
   "metadata": {},
   "outputs": [],
   "source": [
    "from mlxtend.plotting import plot_sequential_feature_selection as plot_sfs\n"
   ]
  },
  {
   "cell_type": "code",
   "execution_count": 41,
   "metadata": {},
   "outputs": [
    {
     "data": {
      "text/html": [
       "<div>\n",
       "<style scoped>\n",
       "    .dataframe tbody tr th:only-of-type {\n",
       "        vertical-align: middle;\n",
       "    }\n",
       "\n",
       "    .dataframe tbody tr th {\n",
       "        vertical-align: top;\n",
       "    }\n",
       "\n",
       "    .dataframe thead th {\n",
       "        text-align: right;\n",
       "    }\n",
       "</style>\n",
       "<table border=\"1\" class=\"dataframe\">\n",
       "  <thead>\n",
       "    <tr style=\"text-align: right;\">\n",
       "      <th></th>\n",
       "      <th>feature_idx</th>\n",
       "      <th>cv_scores</th>\n",
       "      <th>avg_score</th>\n",
       "      <th>feature_names</th>\n",
       "      <th>ci_bound</th>\n",
       "      <th>std_dev</th>\n",
       "      <th>std_err</th>\n",
       "    </tr>\n",
       "  </thead>\n",
       "  <tbody>\n",
       "    <tr>\n",
       "      <td>0</td>\n",
       "      <td>(0, 1, 2, 3)</td>\n",
       "      <td>[1.0]</td>\n",
       "      <td>1</td>\n",
       "      <td>(RangeX, RangeY, RangeZ, MeanX)</td>\n",
       "      <td>NaN</td>\n",
       "      <td>0</td>\n",
       "      <td>NaN</td>\n",
       "    </tr>\n",
       "    <tr>\n",
       "      <td>1</td>\n",
       "      <td>(0, 1, 2, 4)</td>\n",
       "      <td>[1.0]</td>\n",
       "      <td>1</td>\n",
       "      <td>(RangeX, RangeY, RangeZ, MeanY)</td>\n",
       "      <td>NaN</td>\n",
       "      <td>0</td>\n",
       "      <td>NaN</td>\n",
       "    </tr>\n",
       "    <tr>\n",
       "      <td>2</td>\n",
       "      <td>(0, 1, 2, 5)</td>\n",
       "      <td>[1.0]</td>\n",
       "      <td>1</td>\n",
       "      <td>(RangeX, RangeY, RangeZ, MeanZ)</td>\n",
       "      <td>NaN</td>\n",
       "      <td>0</td>\n",
       "      <td>NaN</td>\n",
       "    </tr>\n",
       "    <tr>\n",
       "      <td>3</td>\n",
       "      <td>(0, 1, 2, 6)</td>\n",
       "      <td>[1.0]</td>\n",
       "      <td>1</td>\n",
       "      <td>(RangeX, RangeY, RangeZ, VarX)</td>\n",
       "      <td>NaN</td>\n",
       "      <td>0</td>\n",
       "      <td>NaN</td>\n",
       "    </tr>\n",
       "    <tr>\n",
       "      <td>4</td>\n",
       "      <td>(0, 1, 2, 7)</td>\n",
       "      <td>[1.0]</td>\n",
       "      <td>1</td>\n",
       "      <td>(RangeX, RangeY, RangeZ, VarY)</td>\n",
       "      <td>NaN</td>\n",
       "      <td>0</td>\n",
       "      <td>NaN</td>\n",
       "    </tr>\n",
       "    <tr>\n",
       "      <td>...</td>\n",
       "      <td>...</td>\n",
       "      <td>...</td>\n",
       "      <td>...</td>\n",
       "      <td>...</td>\n",
       "      <td>...</td>\n",
       "      <td>...</td>\n",
       "      <td>...</td>\n",
       "    </tr>\n",
       "    <tr>\n",
       "      <td>2998</td>\n",
       "      <td>(4, 5, 6, 7, 9, 10, 11)</td>\n",
       "      <td>[1.0]</td>\n",
       "      <td>1</td>\n",
       "      <td>(MeanY, MeanZ, VarX, VarY, SkewX, SkewY, SkewZ)</td>\n",
       "      <td>NaN</td>\n",
       "      <td>0</td>\n",
       "      <td>NaN</td>\n",
       "    </tr>\n",
       "    <tr>\n",
       "      <td>2999</td>\n",
       "      <td>(4, 5, 6, 8, 9, 10, 11)</td>\n",
       "      <td>[1.0]</td>\n",
       "      <td>1</td>\n",
       "      <td>(MeanY, MeanZ, VarX, VarZ, SkewX, SkewY, SkewZ)</td>\n",
       "      <td>NaN</td>\n",
       "      <td>0</td>\n",
       "      <td>NaN</td>\n",
       "    </tr>\n",
       "    <tr>\n",
       "      <td>3000</td>\n",
       "      <td>(4, 5, 7, 8, 9, 10, 11)</td>\n",
       "      <td>[1.0]</td>\n",
       "      <td>1</td>\n",
       "      <td>(MeanY, MeanZ, VarY, VarZ, SkewX, SkewY, SkewZ)</td>\n",
       "      <td>NaN</td>\n",
       "      <td>0</td>\n",
       "      <td>NaN</td>\n",
       "    </tr>\n",
       "    <tr>\n",
       "      <td>3001</td>\n",
       "      <td>(4, 6, 7, 8, 9, 10, 11)</td>\n",
       "      <td>[1.0]</td>\n",
       "      <td>1</td>\n",
       "      <td>(MeanY, VarX, VarY, VarZ, SkewX, SkewY, SkewZ)</td>\n",
       "      <td>NaN</td>\n",
       "      <td>0</td>\n",
       "      <td>NaN</td>\n",
       "    </tr>\n",
       "    <tr>\n",
       "      <td>3002</td>\n",
       "      <td>(5, 6, 7, 8, 9, 10, 11)</td>\n",
       "      <td>[1.0]</td>\n",
       "      <td>1</td>\n",
       "      <td>(MeanZ, VarX, VarY, VarZ, SkewX, SkewY, SkewZ)</td>\n",
       "      <td>NaN</td>\n",
       "      <td>0</td>\n",
       "      <td>NaN</td>\n",
       "    </tr>\n",
       "  </tbody>\n",
       "</table>\n",
       "<p>3003 rows × 7 columns</p>\n",
       "</div>"
      ],
      "text/plain": [
       "                  feature_idx cv_scores avg_score  \\\n",
       "0                (0, 1, 2, 3)     [1.0]         1   \n",
       "1                (0, 1, 2, 4)     [1.0]         1   \n",
       "2                (0, 1, 2, 5)     [1.0]         1   \n",
       "3                (0, 1, 2, 6)     [1.0]         1   \n",
       "4                (0, 1, 2, 7)     [1.0]         1   \n",
       "...                       ...       ...       ...   \n",
       "2998  (4, 5, 6, 7, 9, 10, 11)     [1.0]         1   \n",
       "2999  (4, 5, 6, 8, 9, 10, 11)     [1.0]         1   \n",
       "3000  (4, 5, 7, 8, 9, 10, 11)     [1.0]         1   \n",
       "3001  (4, 6, 7, 8, 9, 10, 11)     [1.0]         1   \n",
       "3002  (5, 6, 7, 8, 9, 10, 11)     [1.0]         1   \n",
       "\n",
       "                                        feature_names ci_bound std_dev std_err  \n",
       "0                     (RangeX, RangeY, RangeZ, MeanX)      NaN       0     NaN  \n",
       "1                     (RangeX, RangeY, RangeZ, MeanY)      NaN       0     NaN  \n",
       "2                     (RangeX, RangeY, RangeZ, MeanZ)      NaN       0     NaN  \n",
       "3                      (RangeX, RangeY, RangeZ, VarX)      NaN       0     NaN  \n",
       "4                      (RangeX, RangeY, RangeZ, VarY)      NaN       0     NaN  \n",
       "...                                               ...      ...     ...     ...  \n",
       "2998  (MeanY, MeanZ, VarX, VarY, SkewX, SkewY, SkewZ)      NaN       0     NaN  \n",
       "2999  (MeanY, MeanZ, VarX, VarZ, SkewX, SkewY, SkewZ)      NaN       0     NaN  \n",
       "3000  (MeanY, MeanZ, VarY, VarZ, SkewX, SkewY, SkewZ)      NaN       0     NaN  \n",
       "3001   (MeanY, VarX, VarY, VarZ, SkewX, SkewY, SkewZ)      NaN       0     NaN  \n",
       "3002   (MeanZ, VarX, VarY, VarZ, SkewX, SkewY, SkewZ)      NaN       0     NaN  \n",
       "\n",
       "[3003 rows x 7 columns]"
      ]
     },
     "execution_count": 41,
     "metadata": {},
     "output_type": "execute_result"
    }
   ],
   "source": [
    "pd.DataFrame.from_dict(efs.get_metric_dict()).T"
   ]
  },
  {
   "cell_type": "code",
   "execution_count": 40,
   "metadata": {},
   "outputs": [
    {
     "name": "stderr",
     "output_type": "stream",
     "text": [
      "C:\\ProgramData\\Anaconda3\\lib\\site-packages\\numpy\\core\\_methods.py:140: RuntimeWarning: Degrees of freedom <= 0 for slice\n",
      "  keepdims=keepdims)\n",
      "C:\\ProgramData\\Anaconda3\\lib\\site-packages\\numpy\\core\\_methods.py:132: RuntimeWarning: invalid value encountered in double_scalars\n",
      "  ret = ret.dtype.type(ret / rcount)\n"
     ]
    },
    {
     "data": {
      "text/plain": [
       "(<Figure size 432x288 with 1 Axes>,\n",
       " <matplotlib.axes._subplots.AxesSubplot at 0x2501227a308>)"
      ]
     },
     "execution_count": 40,
     "metadata": {},
     "output_type": "execute_result"
    },
    {
     "data": {
      "image/png": "[encoded data removed]",
      "text/plain": [
       "<Figure size 432x288 with 1 Axes>"
      ]
     },
     "metadata": {
      "needs_background": "light"
     },
     "output_type": "display_data"
    }
   ],
   "source": [
    "plot_sfs(efs.get_metric_dict(), kind='std_dev')\n"
   ]
  },
  {
   "cell_type": "code",
   "execution_count": null,
   "metadata": {},
   "outputs": [],
   "source": []
  }
 ],
 "metadata": {
  "kernelspec": {
   "display_name": "Python 3",
   "language": "python",
   "name": "python3"
  },
  "language_info": {
   "codemirror_mode": {
    "name": "ipython",
    "version": 3
   },
   "file_extension": ".py",
   "mimetype": "text/x-python",
   "name": "python",
   "nbconvert_exporter": "python",
   "pygments_lexer": "ipython3",
   "version": "3.7.4"
  }
 },
 "nbformat": 4,
 "nbformat_minor": 4
}
